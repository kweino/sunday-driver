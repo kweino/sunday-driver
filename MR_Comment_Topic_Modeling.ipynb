{
 "cells": [
  {
   "cell_type": "markdown",
   "id": "8be22df6",
   "metadata": {},
   "source": [
    "# Latent Dirichlet allocation (LDA)"
   ]
  },
  {
   "cell_type": "code",
   "execution_count": 1,
   "id": "2a5c33f5",
   "metadata": {},
   "outputs": [],
   "source": [
    "import numpy as np\n",
    "import pandas as pd\n",
    "import gensim\n",
    "import re\n",
    "import spacy\n",
    "from spacy.lang.en.stop_words import STOP_WORDS\n",
    "from pprint import pprint\n",
    "from sklearn.feature_extraction.text import CountVectorizer\n",
    "import matplotlib.pyplot as plt\n",
    "from ipywidgets import interact, IntSlider"
   ]
  },
  {
   "cell_type": "code",
   "execution_count": 2,
   "id": "93e943a7",
   "metadata": {},
   "outputs": [
    {
     "data": {
      "text/plain": [
       "4236"
      ]
     },
     "execution_count": 2,
     "metadata": {},
     "output_type": "execute_result"
    }
   ],
   "source": [
    "#import data\n",
    "comments = pd.read_csv('comments.csv')[['comments']].dropna().drop_duplicates()\n",
    "len(comments['comments'])"
   ]
  },
  {
   "cell_type": "code",
   "execution_count": 3,
   "id": "c26bc4d2",
   "metadata": {},
   "outputs": [],
   "source": [
    "#Preprocessing\n",
    "\n",
    "STOP_WORDS = STOP_WORDS.union({'ll', 've', 'pron',\n",
    "                               'good','great', 'nice',\n",
    "                               'ride','route','road','rt','roads'\n",
    "                              })"
   ]
  },
  {
   "cell_type": "markdown",
   "id": "710b0492",
   "metadata": {},
   "source": [
    "## Text Processing"
   ]
  },
  {
   "cell_type": "code",
   "execution_count": 12,
   "id": "52787c70",
   "metadata": {},
   "outputs": [],
   "source": [
    "ngram_range = (2, 3)\n",
    "\n",
    "vectorizer = CountVectorizer(ngram_range=ngram_range,\n",
    "                             stop_words=STOP_WORDS,\n",
    "                            )\n",
    "analyzer = vectorizer.build_analyzer()\n",
    "\n",
    "texts = comments.comments.values.tolist()\n",
    "processed_text = [analyzer(text) for text in texts]"
   ]
  },
  {
   "cell_type": "code",
   "execution_count": 13,
   "id": "1e2c010c",
   "metadata": {},
   "outputs": [
    {
     "name": "stdout",
     "output_type": "stream",
     "text": [
      "Number of unique tokens: 312243\n"
     ]
    }
   ],
   "source": [
    "dictionary = gensim.corpora.Dictionary(processed_text)\n",
    "print('Number of unique tokens: {}'.format(len(dictionary)))"
   ]
  },
  {
   "cell_type": "code",
   "execution_count": 14,
   "id": "61e76803",
   "metadata": {},
   "outputs": [],
   "source": [
    "corpus = [dictionary.doc2bow(t) for t in processed_text]"
   ]
  },
  {
   "cell_type": "markdown",
   "id": "b9265737",
   "metadata": {},
   "source": [
    "## Initial LDA Model"
   ]
  },
  {
   "cell_type": "code",
   "execution_count": 27,
   "id": "76ed525e",
   "metadata": {
    "scrolled": true
   },
   "outputs": [
    {
     "name": "stdout",
     "output_type": "stream",
     "text": [
      "[(0,\n",
      "  '0.005*\"beautiful scenery\" + 0.004*\"little traffic\" + 0.003*\"speed limit\" + '\n",
      "  '0.003*\"elevation changes\" + 0.003*\"twists turns\" + 0.003*\"places stop\" + '\n",
      "  '0.003*\"highly recommend\" + 0.003*\"tail dragon\" + 0.002*\"ridden times\" + '\n",
      "  '0.002*\"blue ridge\"'),\n",
      " (1,\n",
      "  '0.002*\"https www\" + 0.001*\"million dollar\" + 0.001*\"lake superior\" + '\n",
      "  '0.001*\"circle tour\" + 0.001*\"hard beat\" + 0.001*\"ranger july\" + 0.001*\"rd '\n",
      "  'turn\" + 0.001*\"stop sign\" + 0.001*\"beautiful scenery\" + 0.001*\"june 2020\"'),\n",
      " (2,\n",
      "  '0.002*\"tail dragon\" + 0.002*\"state park\" + 0.002*\"legs inn\" + 0.001*\"lake '\n",
      "  'michigan\" + 0.001*\"rock state park\" + 0.001*\"rock state\" + 0.001*\"cross '\n",
      "  'village\" + 0.001*\"hot day\" + 0.001*\"little traffic\" + 0.001*\"blue ridge\"')]\n"
     ]
    }
   ],
   "source": [
    "#LDA model parameters\n",
    "num_topics = 3\n",
    "num_words = 10\n",
    "\n",
    "lda_model = gensim.models.ldamodel.LdaModel(corpus=corpus, \n",
    "                                            id2word=dictionary,\n",
    "                                            num_topics=num_topics, \n",
    "                                            random_state=17, update_every=1,\n",
    "                                            chunksize=1500, \n",
    "                                            passes=5, iterations=10,\n",
    "                                            alpha='asymmetric', eta=1/100,\n",
    "                                            per_word_topics=True)\n",
    "\n",
    "pprint(lda_model.print_topics(num_words=num_words))"
   ]
  },
  {
   "cell_type": "code",
   "execution_count": 28,
   "id": "84e8f8ea",
   "metadata": {},
   "outputs": [],
   "source": [
    "# get_document_topics method shows the topics found \n",
    "# in each corpus doc\n",
    "# i = 0\n",
    "# print(comments.iloc[i], processed_text[i], lda_model.get_document_topics(corpus[i]))"
   ]
  },
  {
   "cell_type": "code",
   "execution_count": 29,
   "id": "97086b8a",
   "metadata": {},
   "outputs": [],
   "source": [
    "# extracts dominant topic (and percentage) for each comment\n",
    "\n",
    "def get_main_topic_df(model, bow, texts):\n",
    "    topic_list = []\n",
    "    percent_list = []\n",
    "    keyword_list = []\n",
    "    \n",
    "    for wc in bow:\n",
    "        topic, percent = sorted(model.get_document_topics(wc), key=lambda x: x[1], reverse=True)[0]\n",
    "        topic_list.append(topic)\n",
    "        percent_list.append(round(percent, 3))\n",
    "        keyword_list.append(' '.join(sorted([x[0] for x in model.show_topic(topic)])))\n",
    "\n",
    "    result_df = pd.concat([pd.Series(topic_list, name='Dominant_topic'), \n",
    "                           pd.Series(percent_list, name='Percent'), \n",
    "                           pd.Series(texts, name='Processed_text'), \n",
    "                           pd.Series(keyword_list, name='Keywords')], axis=1)\n",
    "\n",
    "    return result_df"
   ]
  },
  {
   "cell_type": "code",
   "execution_count": 30,
   "id": "f8ece1e0",
   "metadata": {},
   "outputs": [],
   "source": [
    "main_topic_df = get_main_topic_df(lda_model, corpus, processed_text)"
   ]
  },
  {
   "cell_type": "code",
   "execution_count": 31,
   "id": "67dd0ee9",
   "metadata": {},
   "outputs": [],
   "source": [
    "# len(main_topic_df)"
   ]
  },
  {
   "cell_type": "code",
   "execution_count": 32,
   "id": "f67ac399",
   "metadata": {},
   "outputs": [
    {
     "data": {
      "image/png": "[encoded data removed]",
      "text/plain": [
       "<Figure size 576x396 with 1 Axes>"
      ]
     },
     "metadata": {},
     "output_type": "display_data"
    }
   ],
   "source": [
    "plt.style.use('seaborn')\n",
    "\n",
    "grouped_topics = main_topic_df.groupby('Dominant_topic')\n",
    "grouped_topics.count()['Processed_text'].\\\n",
    "    plot.bar(rot=0).\\\n",
    "    set(title=f'Dominant Topic Frequency in the {len(comments)} Comments',\n",
    "        ylabel='Topic frequency');\n"
   ]
  },
  {
   "cell_type": "markdown",
   "id": "be5229d3",
   "metadata": {},
   "source": [
    "## Representative data\n",
    "\n",
    "What's the \"most representative\" comment we have in the data for each topic?  "
   ]
  },
  {
   "cell_type": "code",
   "execution_count": 33,
   "id": "089b01b9",
   "metadata": {},
   "outputs": [
    {
     "name": "stdout",
     "output_type": "stream",
     "text": [
      "\n",
      "        Document: 1308  \n",
      "        Dominant topic: 0\n",
      " \n",
      "    \n",
      "We road ACH from La Canada up to Wrightwood for lunch - perfect weather, great ride, epic day!!,For being so close in proximity to the sprawling Los Angeles Metropolis ACH feels a million miles away from LA.  Its rugged and scenic with epic views everywhere you look - and plenty of passing lanes and turn out spots to stop and stretch your legs if desired.  Very easy ride with plenty of big sweeping turns and fairly good road conditions - not many technical turns - so suitable for novice to advanced riders.  Only thing to watch for is falling rocks on hwy and day hikers parking/pulling out onto hwy.  Other than that, one of the better scenic rides in So Cal.  Newcombs Ranch is a big draw for bikers and seemed to be the turn-around point for many.  The traffic seemed to thin out considerably after we passed Newcombs continuing up to Wrightwood, CA which is a cute little (very little) mountain town with ski slopes, gas, food and lodging.  We ate at the Wrightwood brewery which has epic views and a nice spot for lunch before heading back down the mountain.  Last time I rode ACH was 30+ years ago - enjoyed this trip so much more with my wife on back of bike and continuing on past Newcombs Ranch.  Would highly recommend this ride to all in So Cal.\n",
      " ------- \n",
      "\n",
      "\n",
      "        Document: 313  \n",
      "        Dominant topic: 0\n",
      " \n",
      "    \n",
      "A nice, easy road that lets you relax and look at the scenery and just enjoy the ride.  I take 62 from Bentonville then hang a right onto this route, another right on 412, that gets me back to Springdale, then 71 or 49 back north and home.  A good lazy trip.,great area to find small town atmosphere.  Several small towns along the route with many great southern style restaurants. Eureka Springs always welcomes riders with anything from getting a drink, food , lodging, entertainment, anything else you can think of.,This is, like so many in this area of the country, a great ride!  Our group visited the area when the Razorbacks were hosting a home game, so the back roads were lightly traveled and few cars or trucks were encountered.  We did a poor job of planning gas stops, so when you make runs in this area, be sure to plan around places to fill up....think some of our group pulled in \"on fumes\".  Hard to find better places to ride than the Ozark country.\n",
      " ------- \n",
      "\n",
      "\n",
      "        Document: 726  \n",
      "        Dominant topic: 0\n",
      " \n",
      "    \n",
      "This is an awesome stretch, one lane, very safe and absolutely beautiful. The one lane makes it very fun, lots of leaning, great road quality. It's twisty and that's what makes it fun. If you are into straight roads, then this isn't for you. There's absolutely no gravel patches on this road - there is however one 100 ft rough spot to watch out for after a large parking lot once you pass the Sheridan Peak. No traffic unless on a weekend.,\r\n",
      "We went through it last weekend and the detour from the main Nestucca Road is clearly marked. Didn't check for TP at the bathroom up top, but did pull into the parking, very nice spot for a break and a snack. You can expect beautiful foliage cover on this road.,\r\n",
      ",\r\n",
      "Beware that this road gets snow in the winter, so don't attempt on a clear day in January. Reserve this for late spring, summer or fall.,\r\n",
      ",\r\n",
      "Once the road joins back to the big Y as mentioned above, you could theoretically visit the nearby Niagara fall (so called) in the area, but there's a gravel road to get to it - so dual sport bike recommended.,\r\n",
      ",\r\n",
      "Cheers and be safe,This is an enjoyable ride.  Three of us rode this the Nestucca River Road Gravel Section Bypass - Bald Mtn Access & Bible Creek on Tuesday, August 18, 2020.  The road is good condition, with a couple of rough spots, but nothing exceptionally hazardous.  Two items warrant special consideration:  1. On weekdays log trucks use this road.  Be careful going around blind corners, in some sections of the road there is barely enough room for a log truck and motorcycle to pass, so keep well to the right.  2. This route crosses through an Off-Highway Vehicle (OHV) area with OHV tracks crossing the paved road.  The woods may block your view of an OHV as you approach the crossings.\r\n",
      "\r\n",
      "RideInRain posted this ride six years ago, but his comments and ratings are still accurate.  The scenery is rated at three stars, and the nicest thing about the scenery is the variety.  The ride takes you through forest, replanted clear cut areas, a small canyon with a stream at the bottom and along sections of the Nestucca River.  Take the time to enjoy the ride.\r\n",
      "\r\n",
      "This route is posted as a paved alternative to the Nestucca River Road (AKA \r\n",
      "Nestucca River Back Country Byway).  Nestucca River Road is currently closed but will reopen in late Fall 2020 with significant improvements.  Upon reopening the three-mile gravel section will be eliminated thus providing another 100% paved route from the Willamette Valley to the Oregon Coast.\r\n",
      ",This is an enjoyable ride.  Three of us rode this the Nestucca River Road Gravel Section Bypass - Bald Mtn Access & Bible Creek on Tuesday, August 18, 2020.  The road is good condition, with a couple of rough spots, but nothing exceptionally hazardous.  Two items warrant special consideration:  1. On weekdays log trucks use this road.  Be careful going around blind corners, in some sections of the road there is barely enough room for a log truck and motorcycle to pass, so keep well to the right.  2. This route crosses through an Off-Highway Vehicle (OHV) area with OHV tracks crossing the paved road.  The woods may block your view of an OHV as you approach the crossings.\r\n",
      "\r\n",
      "\r\n",
      "RideInRain posted this ride six years ago, but his comments and ratings are still accurate.  The scenery is rated at three stars, and the nicest thing about the scenery is the variety.  The ride takes you through forest, replanted clear cut areas, a small canyon with a stream at the bottom and along sections of the Nestucca River.  Take the time to enjoy the ride.\r\n",
      "\r\n",
      "\r\n",
      "This route is posted as a paved alternative to the Nestucca River Road (AKA \r\n",
      "Nestucca River Back Country Byway).  Nestucca River Road is currently closed but will reopen in late Fall 2020 with significant improvements.  Upon reopening the three-mile gravel section will be eliminated thus providing another 100% paved route from the Willamette Valley to the Oregon Coast.\r\n",
      "\n",
      " ------- \n",
      "\n",
      "\n",
      "        Document: 236  \n",
      "        Dominant topic: 1\n",
      " \n",
      "    \n",
      "I was the rider who nominated the route for publishing.,As of 9/26/2020, there are two articles related to Caesar's Head.  One takes you from Brevard (\"Caesar's Ascent\") and the other from Hwy 11 (\"Caesar's Head\").  Going to attempt a cross post in both. \r\n",
      "\r\n",
      "Rode Hwy 276 on 9/19/20 from Cherokee Foothills Scenic Hwy 11 to Brevard, NC.  Video is not excellent, but will give you some ideas of the road quality as of 2020.   https://youtu.be/Pe-zINWqMz4\r\n",
      "\r\n",
      "Picking up from Hwy 11, it's a spirited ride.  The road condition has deteriorated with some spots where the road has been undermined and some signs of pavement sloughing.  (Rated 4 for the excellent curves, but only \"fair\" road condition)\r\n",
      "\r\n",
      "Automobile traffic is courteous.  Plenty of pullouts allow slower traffic to let others pass.  The park at Caesar's Head was closed when i passed.  It was a Saturday and they had reached capacity.  Watch for people parking on the roadside on days like this.,I did this route almost every week the fall if 2020. Great scenery and fun twisties to take. I need to get on it with a sporty bike and fewer tourists in the way.\n",
      " ------- \n",
      "\n",
      "\n",
      "        Document: 2356  \n",
      "        Dominant topic: 1\n",
      " \n",
      "    \n",
      "Hiway 276 from the NC-SC state line has been totally repaved from Ceasar's Head down into Brevard, NC fall 2008. Super smooth but still twisty so watch your speed as you will want to ride faster than the road will allow.,This road is fun!  I've been riding it for years and has always provided a thrill and gorgeous scenery.  The SC side is not in good shape anymore and will suprise you with some loose spots if you aren't careful. Once you reach the summit the NC side is new and very smooth and confidence inspiring.  Overall a great riding experience for the sportbike and cruiser/touring motorcyclist alike!,As of 9/26/2020, there are two articles related to Caesar's Head.  One takes you from Brevard (\"Caesar's Ascent\") and the other from Hwy 11 (\"Caesar's Head\").  Going to attempt a cross post in both. \r\n",
      "\r\n",
      "Rode Hwy 276 on 9/19/20 from Cherokee Foothills Scenic Hwy 11 to Brevard, NC.  Video is not excellent, but will give you some ideas of the road quality as of 2020.   https://youtu.be/Pe-zINWqMz4\r\n",
      "\r\n",
      "Picking up from Hwy 11, it's a spirited ride.  The road condition has deteriorated with some spots where the road has been undermined and some signs of pavement sloughing.  (Rated 4 for the excellent curves, but only \"fair\" road condition)\r\n",
      "\r\n",
      "Automobile traffic is courteous.  Plenty of pullouts allow slower traffic to let others pass.  The park at Caesar's Head was closed when i passed.  It was a Saturday and they had reached capacity.  Watch for people parking on the roadside on days like this.\n",
      " ------- \n",
      "\n",
      "\n",
      "        Document: 991  \n",
      "        Dominant topic: 1\n",
      " \n",
      "    \n",
      "A great name for this-It was definitely 13 UNLUCKY miles between the deer, dogs trying to chase our bikes, dead animals in the road, and the road closure a mile before the end of the route. Otherwise this was a treat-the curves were crazy but fun. I'm still new to the curvy routes but for an experienced rider I imagine this route would be a blast!,Road is closed at the very beginning side coming from route 52 along ohio river.  If you start from the upper side you can ride the whole road minus 1\\2 mile maybe at end that's under construction.  There is a road right near end called 251 take it till ends make left brings you out to the highway but don't go to fast it's not a great road but it is paved,Perfect ride this morning, cool and quiet, no traffic.  Looking forward to riding it again.  Thanks for posting.\n",
      " ------- \n",
      "\n",
      "\n",
      "        Document: 63  \n",
      "        Dominant topic: 2\n",
      " \n",
      "    \n",
      "Awsome ride, ran Santa Barbara to Big Sur and back in a week end. The views are incredible, the petro is expensive :), some loose debri if your on the inside side (dirt) of the road, but overall its excellent!!!!!,Coming home from Iraq soon and will be taking this from San Diego......all the way up to Victoria, Canada and back down to the 5 hitting EVERYTHING, along the way. 2-3 week round trip and I can't wait! I have never been up this route in the 16 years I have lived here.,There's just something special about motorcycling across the Golden Gate Bridge, so that's how I started my southbound tour on Highway 1.  My advice is that once across the bridge get off of the marked Hwy 1 and over to the coast by taking Geary.  This is a lovely part of San Francisco's seafront and much better than staying on 19th Street.  You'll see the famed Cliff House and the remains of Sutro's baths as you join the coast.  ,Once through the tunnel just south of Pacifica, use the viewpoint parking and enjoy the first views of how rugged the Pacific Coast can be.  The tunnel was bored to eliminate traveling under the frequent rock fall of the notorious and sometimes deadly Devil's Slide.  (I was almost killed in a rockslide here while attempting a 50 mile \"Kennedy Walk\" in the early 1060's)   ,\r\n",
      "On my tour I had my wife on the back of my CTX700 and we timed our ride to be at Phil's Fish Market in Moss Landing for an early dinner.  This is one of those always crowded eateries that serves simple meals that are reasonably priced, yet astoundingly good.  After dinner we spent our first night in Monterey where Cannery Row, the Monterey Aquarium and hanging out on the coast watching the otters swim by are our favorites.  ,\r\n",
      "This was a sight-seeing trip and the next day was a short hop to Morro Bay.  This is the very best of the central coast.  Twisty, well paved asphalt, wide open views of crashing waves and the misty, salty spray that they leave behind lay in front of you for mile after gorgeous mile.  Big Sur, the Bixby Bridge and every turnout offer something new.  A tour of Hearst Castle near San Simeon  is a must do, and we enjoyed ours immensely.   You'll park your moto and take the 15 minute shuttle up the mountain to the castle while enjoying a variety of animals that occupy the property.  I didn't expect to like this as much as I did and enjoyed the surprise.  ,\r\n",
      "Once in Morro Bay we enjoyed the lively waterfront bars and restaurants and the casual, relaxed feeling of this coastal jewel.  Morro Rock, a volcanic plug sticks out of the sea and offers photographers the opportunity to shoot fabulous sunset photos.  (best taken 30-45 minutes after sunset)  I like to stay at the Inn at Morro Bay which is just inside Morro Bay State Park.  The harbor views and the view of Morro Rock are perfect from the Inn's property.,\r\n",
      "The next time I do this tour, I'll spend two nights in Santa Barbara.  I think it is the most beautiful and upscale small town on the central coast.  There are plenty of eateries, bars, a nice wharf  and a boat shuttle that goes between the harbor and wharf for wide open views of town.  ,\r\n",
      "Our tour took us down to Ventura and out to the desert through Mojave and then up Highway 395 through Lone Pine, Mammoth Lakes and then up and over Monitor Pass, Luther Pass and Echo Summit back to where we began our tour at our home near Sacramento.  Just under 1,200 miles of pure moto-bliss!!\n",
      " ------- \n",
      "\n",
      "\n",
      "        Document: 1041  \n",
      "        Dominant topic: 2\n",
      " \n",
      "    \n",
      "Good: It was a nice ride in July heat with the tree canopies, lake views, cookout and sunscreen smells, and low speeds.,\r\n",
      "Bad: The road is torn up in a few places and there are several blind curves.  Road humps are present in the route by the some of the park areas.  ,\r\n",
      ",\r\n",
      "Conclusion: I wouldn't trek a long way to experience this route but if you live nearby it's good, given we don't have many options.  Next time I'll stop in one of the parks and seek to enjoy the environment more before moving on.,This is a fantastic ride.  Most of the ride is a slow going winding road among trees, charming lake homes and lake side parks. The highlight is the Heron castle that simply stands out in the area.  There are some dirt roads that connect with the paved roads so beware of gravel in these areas.  There is White Settlement on one end of the trail and Lake Worth on the other so your never very far from a soda or gasoline.  This trail begins only about 2 miles from my house and has become a Sunday afternoon tradition for me as a great way to end the weekend and start the work week.  My wife will ride with me on occasion and we will head on into Azle for a catfish dinner.  I have ridden many trails over the years but this is my most ridden as it is so pleasant and close to home.,Rode this one in January. I'm a new rider and this piqued my interest in riding more of the trails on the site here as well as coming back to this one many more times, especially in warmer weather.\n",
      " ------- \n",
      "\n",
      "\n",
      "        Document: 1022  \n",
      "        Dominant topic: 2\n",
      " \n",
      "    \n",
      "This is a great little and mostly undiscovered gem in the White Mountains of Arizona.  Be prepared for some steep climbs out of or near Eager and the sit back and enjoy the scenery and\r\n",
      "Sweeping curves near Big Lake and back to the main road from Pinetop and Showlow.  If you up for it take the turnoff towards Alpine and grab some great grub for lunch or connect to AZ191 and the Coronado Trail aka “the devil’s Highway”.,Fun Roads,I relatively appreciably get pride out of your blog the following, thanks so much you may have helped me out significantly Smile spread the definitely like. I have to say that this publish is the maximum applicable article I've ever study and noticed. It's a outstanding assist to every body who's looking for this records. And I absolutely agree with you and it was as soon as mainly an excellent blog. All the benefits of the entertainment and [url=https://essayservices.org/]cheap essay writing service[/url] have been ensured for the influx of the commodities and gadgets for the people for the future times.\n",
      " ------- \n",
      "\n"
     ]
    }
   ],
   "source": [
    "representatives = pd.DataFrame()\n",
    "\n",
    "for k in grouped_topics.groups.keys():\n",
    "    representatives = pd.concat([ representatives, \n",
    "                                 grouped_topics.get_group(k).sort_values(['Percent'], ascending=False).head(3)])\n",
    "# representatives\n",
    "for i in range(len(representatives)):\n",
    "    print(f'''\n",
    "        Document: {representatives.index[i]}  \n",
    "        Dominant topic: {representatives.loc[representatives.index[i]]['Dominant_topic']}\\n \n",
    "    ''')\n",
    "    print(texts[representatives.index[i]] + '\\n ------- \\n')"
   ]
  },
  {
   "cell_type": "markdown",
   "id": "fe5bc62b",
   "metadata": {},
   "source": [
    "## Length of documents in each topic"
   ]
  },
  {
   "cell_type": "code",
   "execution_count": 34,
   "id": "992b60ba",
   "metadata": {},
   "outputs": [],
   "source": [
    "def word_count_by_topic(topic=0):\n",
    "    d_lens = [len(d) for d in grouped_topics.get_group(topic)['Processed_text']]\n",
    "    plt.hist(d_lens, bins=50)\n",
    "    large = plt.gca().get_ylim()[1]\n",
    "    d_mean = round(np.mean(d_lens), 1)\n",
    "    d_median = np.median(d_lens)\n",
    "    plt.plot([d_mean, d_mean], [0,large], label='Mean = {}'.format(d_mean))\n",
    "    plt.plot([d_median, d_median], [0,large], label='Median = {}'.format(d_median))\n",
    "    plt.legend()\n",
    "    plt.gca().set(xlabel='Document word count', ylabel='Number of documents', xlim=(0, 450), \n",
    "            title='Distribution of Comment Lengths for {} Comments in Topic {}'.format(len(d_lens), topic));"
   ]
  },
  {
   "cell_type": "code",
   "execution_count": 35,
   "id": "5b8d8421",
   "metadata": {
    "scrolled": true
   },
   "outputs": [
    {
     "data": {
      "application/vnd.jupyter.widget-view+json": {
       "model_id": "749bd5da49ea48e2bf180f2915327fc0",
       "version_major": 2,
       "version_minor": 0
      },
      "text/plain": [
       "interactive(children=(IntSlider(value=0, description='Topic', max=2), Output()), _dom_classes=('widget-interac…"
      ]
     },
     "metadata": {},
     "output_type": "display_data"
    }
   ],
   "source": [
    "slider = IntSlider(min=0, max=num_topics-1, step=1, value=0, description='Topic')\n",
    "interact(word_count_by_topic, topic=slider);"
   ]
  },
  {
   "cell_type": "markdown",
   "id": "6bfe0e3a",
   "metadata": {},
   "source": [
    "## Top word distribution per topic"
   ]
  },
  {
   "cell_type": "code",
   "execution_count": 36,
   "id": "66d5f5e9",
   "metadata": {
    "scrolled": true,
    "slideshow": null
   },
   "outputs": [
    {
     "name": "stdout",
     "output_type": "stream",
     "text": [
      "Indices of top words: \n",
      "{7682, 23610, 24965, 24966, 36936, 650, 13333, 4950, 13271, 86170, 13850, 1690, 35741, 1309, 90, 55900, 16669, 3874, 73955, 7844, 2982, 3051, 55855, 3317, 41850, 31165}\n",
      "\n"
     ]
    },
    {
     "data": {
      "text/plain": [
       "[Text(0, 0.5, 'Word frequency'),\n",
       " Text(0.5, 1.0, 'Word Frequencies by Topic, Combining the Top 26 Words in Each Topic')]"
      ]
     },
     "execution_count": 36,
     "metadata": {},
     "output_type": "execute_result"
    },
    {
     "data": {
      "image/png": "[encoded data removed]",
      "text/plain": [
       "<Figure size 1080x360 with 1 Axes>"
      ]
     },
     "metadata": {},
     "output_type": "display_data"
    }
   ],
   "source": [
    "lda_top_words_index = set()\n",
    "for i in range(lda_model.num_topics):\n",
    "    lda_top_words_index = lda_top_words_index.union([k for (k,v) in lda_model.get_topic_terms(i)])\n",
    "\n",
    "print('Indices of top words: \\n{}\\n'.format(lda_top_words_index))\n",
    "words_we_care_about = [{dictionary[tup[0]]: tup[1] for tup in lst if tup[0] in lda_top_words_index} \n",
    "                       for lst in corpus]\n",
    "lda_top_words_df = pd.DataFrame(words_we_care_about).fillna(0).astype(int).sort_index(axis=1)\n",
    "lda_top_words_df['Cluster'] = main_topic_df['Dominant_topic']\n",
    "(\n",
    "    lda_top_words_df\n",
    "    .groupby('Cluster').sum().transpose()\n",
    "    .plot.bar(figsize=(15, 5), width=0.7)\n",
    "    .set(ylabel='Word frequency', \n",
    "         title=f'Word Frequencies by Topic, Combining the Top {len(lda_top_words_index)} Words in Each Topic')\n",
    ")"
   ]
  },
  {
   "cell_type": "markdown",
   "id": "a71eefd6",
   "metadata": {
    "slideshow": null
   },
   "source": [
    "## Coherence scores based on number of topics"
   ]
  },
  {
   "cell_type": "code",
   "execution_count": 25,
   "id": "e8a6dfcd",
   "metadata": {
    "slideshow": null
   },
   "outputs": [],
   "source": [
    "coherence_scores = []\n",
    "\n",
    "for n in range(1, 5):\n",
    "    mod = gensim.models.ldamodel.LdaModel(corpus=corpus, \n",
    "                                          id2word=dictionary,\n",
    "                                          num_topics=n, \n",
    "                                          random_state=117, update_every=1,\n",
    "                                          chunksize=1500, \n",
    "                                          passes=5, iterations=10,\n",
    "                                          alpha='asymmetric', eta=1/100,\n",
    "                                          per_word_topics=True)\n",
    "    cmodel = gensim.models.coherencemodel.CoherenceModel(model=mod,\n",
    "                                                 texts=processed_text,\n",
    "                                                 dictionary=dictionary)\n",
    "    coherence_scores.append((n, cmodel.get_coherence()))\n",
    "\n",
    "topic_range = [coherence_scores[i][0] for i in range(len(coherence_scores))]\n",
    "cscore = [coherence_scores[i][1] for i in range(len(coherence_scores))]"
   ]
  },
  {
   "cell_type": "code",
   "execution_count": 26,
   "id": "23366ced",
   "metadata": {},
   "outputs": [
    {
     "name": "stdout",
     "output_type": "stream",
     "text": [
      "Coherence scores for the ngram range: (2, 3) \n",
      " [(1, 0.2481953894927499), (2, 0.36974942871513117), (3, 0.49621836131342634), (4, 0.506817108993558)]\n"
     ]
    },
    {
     "data": {
      "text/plain": [
       "[<matplotlib.lines.Line2D at 0x7fe152a6d160>]"
      ]
     },
     "execution_count": 26,
     "metadata": {},
     "output_type": "execute_result"
    },
    {
     "data": {
      "image/png": "[encoded data removed]",
      "text/plain": [
       "<Figure size 576x396 with 1 Axes>"
      ]
     },
     "metadata": {},
     "output_type": "display_data"
    }
   ],
   "source": [
    "print(f'Coherence scores for the ngram range: {ngram_range} \\n {coherence_scores}')\n",
    "plt.plot(topic_range,cscore)"
   ]
  },
  {
   "cell_type": "markdown",
   "id": "393bf12c",
   "metadata": {
    "slideshow": null
   },
   "source": [
    "# Conclusions\n",
    "\n",
    "- There seem to be 3-4 groups of users making comments on this website.\n",
    "- IF 3:\n",
    "    0. The 'core' group of users make most of the comments.\n",
    "    1. The second group are those who are not as frequent commenters, but when they do post, they usually share videos/links to other sites.\n",
    "    2. The last group do not frequently comment or share videos/links.\n",
    "- IF 4:\n",
    "    0. The 'core' group of users make most of the comments.\n",
    "    1. Post like core group, but less overall. Maybe newer members/budding 'core' group?\n",
    "    2. People riding the tail of the dragon.\n",
    "    3. Other infrequent posters."
   ]
  },
  {
   "cell_type": "code",
   "execution_count": null,
   "id": "0a7c161c",
   "metadata": {},
   "outputs": [],
   "source": []
  }
 ],
 "metadata": {
  "kernelspec": {
   "display_name": "venv",
   "language": "python",
   "name": "venv"
  },
  "language_info": {
   "codemirror_mode": {
    "name": "ipython",
    "version": 3
   },
   "file_extension": ".py",
   "mimetype": "text/x-python",
   "name": "python",
   "nbconvert_exporter": "python",
   "pygments_lexer": "ipython3",
   "version": "3.9.6"
  },
  "varInspector": {
   "cols": {
    "lenName": 16,
    "lenType": 16,
    "lenVar": 40
   },
   "kernels_config": {
    "python": {
     "delete_cmd_postfix": "",
     "delete_cmd_prefix": "del ",
     "library": "var_list.py",
     "varRefreshCmd": "print(var_dic_list())"
    },
    "r": {
     "delete_cmd_postfix": ") ",
     "delete_cmd_prefix": "rm(",
     "library": "var_list.r",
     "varRefreshCmd": "cat(var_dic_list()) "
    }
   },
   "types_to_exclude": [
    "module",
    "function",
    "builtin_function_or_method",
    "instance",
    "_Feature"
   ],
   "window_display": false
  }
 },
 "nbformat": 4,
 "nbformat_minor": 5
}
