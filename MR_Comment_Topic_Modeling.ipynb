{
 "cells": [
  {
   "cell_type": "markdown",
   "id": "3c793832",
   "metadata": {},
   "source": [
    "# Latent Dirichlet allocation (LDA)"
   ]
  },
  {
   "cell_type": "code",
   "execution_count": 1,
   "id": "3ddae063",
   "metadata": {},
   "outputs": [],
   "source": [
    "import numpy as np\n",
    "import pandas as pd\n",
    "import gensim\n",
    "import re\n",
    "import spacy\n",
    "from spacy.lang.en.stop_words import STOP_WORDS\n",
    "from pprint import pprint\n",
    "from sklearn.feature_extraction.text import CountVectorizer\n",
    "import matplotlib.pyplot as plt\n",
    "from ipywidgets import interact, IntSlider"
   ]
  },
  {
   "cell_type": "code",
   "execution_count": 3,
   "id": "d6a3740d",
   "metadata": {},
   "outputs": [
    {
     "data": {
      "text/plain": [
       "4236"
      ]
     },
     "execution_count": 3,
     "metadata": {},
     "output_type": "execute_result"
    }
   ],
   "source": [
    "#import data\n",
    "comments = pd.read_csv('data/comments.csv')[['comments']].dropna().drop_duplicates()\n",
    "len(comments['comments'])"
   ]
  },
  {
   "cell_type": "code",
   "execution_count": 4,
   "id": "ec9648fd",
   "metadata": {},
   "outputs": [],
   "source": [
    "#Preprocessing\n",
    "\n",
    "STOP_WORDS = STOP_WORDS.union({'ll', 've', 'pron',\n",
    "                               'good','great', 'nice',\n",
    "                               'ride','route','road','rt','roads'\n",
    "                              })"
   ]
  },
  {
   "cell_type": "markdown",
   "id": "55ea81b3",
   "metadata": {},
   "source": [
    "## Text Processing"
   ]
  },
  {
   "cell_type": "code",
   "execution_count": 5,
   "id": "5e97bc07",
   "metadata": {},
   "outputs": [],
   "source": [
    "ngram_range = (2, 3)\n",
    "\n",
    "vectorizer = CountVectorizer(ngram_range=ngram_range,\n",
    "                             stop_words=STOP_WORDS,\n",
    "                            )\n",
    "analyzer = vectorizer.build_analyzer()\n",
    "\n",
    "texts = comments.comments.values.tolist()\n",
    "processed_text = [analyzer(text) for text in texts]"
   ]
  },
  {
   "cell_type": "code",
   "execution_count": 6,
   "id": "bddb983d",
   "metadata": {},
   "outputs": [
    {
     "name": "stdout",
     "output_type": "stream",
     "text": [
      "Number of unique tokens: 312243\n"
     ]
    }
   ],
   "source": [
    "dictionary = gensim.corpora.Dictionary(processed_text)\n",
    "print('Number of unique tokens: {}'.format(len(dictionary)))"
   ]
  },
  {
   "cell_type": "code",
   "execution_count": 7,
   "id": "84902d24",
   "metadata": {},
   "outputs": [],
   "source": [
    "corpus = [dictionary.doc2bow(t) for t in processed_text]"
   ]
  },
  {
   "cell_type": "markdown",
   "id": "9095a2d1",
   "metadata": {},
   "source": [
    "## Initial LDA Model"
   ]
  },
  {
   "cell_type": "code",
   "execution_count": 18,
   "id": "d6b2e8f8",
   "metadata": {
    "scrolled": true
   },
   "outputs": [
    {
     "name": "stdout",
     "output_type": "stream",
     "text": [
      "[(0,\n",
      "  '0.006*\"beautiful scenery\" + 0.004*\"little traffic\" + 0.004*\"speed limit\" + '\n",
      "  '0.003*\"elevation changes\" + 0.003*\"places stop\" + 0.003*\"twists turns\" + '\n",
      "  '0.003*\"highly recommend\" + 0.003*\"ridden times\" + 0.002*\"sure stop\" + '\n",
      "  '0.002*\"lots curves\"'),\n",
      " (1,\n",
      "  '0.002*\"tail dragon\" + 0.002*\"lot fun\" + 0.002*\"blue ridge\" + 0.002*\"https '\n",
      "  'www\" + 0.001*\"beautiful scenery\" + 0.001*\"lake superior\" + 0.001*\"best '\n",
      "  'rides\" + 0.001*\"memorial day\" + 0.001*\"crotch rocket\" + 0.001*\"north end\"'),\n",
      " (2,\n",
      "  '0.002*\"tail dragon\" + 0.002*\"million dollar\" + 0.002*\"rock state park\" + '\n",
      "  '0.002*\"rock state\" + 0.002*\"cross village\" + 0.002*\"state park\" + '\n",
      "  '0.002*\"lake michigan\" + 0.001*\"trip times\" + 0.001*\"poudre canyon\" + '\n",
      "  '0.001*\"speed limit\"'),\n",
      " (3,\n",
      "  '0.002*\"turn left\" + 0.001*\"patches gravel\" + 0.001*\"turn right\" + '\n",
      "  '0.001*\"weekend traffic\" + 0.001*\"red bluff\" + 0.001*\"plan accordingly\" + '\n",
      "  '0.001*\"140 miles\" + 0.001*\"blind corners\" + 0.001*\"rd turn\" + 0.001*\"left '\n",
      "  'hwy\"')]\n"
     ]
    }
   ],
   "source": [
    "#LDA model parameters\n",
    "num_topics = 4\n",
    "num_words = 10\n",
    "\n",
    "lda_model = gensim.models.ldamodel.LdaModel(corpus=corpus, \n",
    "                                            id2word=dictionary,\n",
    "                                            num_topics=num_topics, \n",
    "                                            random_state=17, update_every=1,\n",
    "                                            chunksize=1500, \n",
    "                                            passes=5, iterations=10,\n",
    "                                            alpha='asymmetric', eta=1/100,\n",
    "                                            per_word_topics=True)\n",
    "\n",
    "pprint(lda_model.print_topics(num_words=num_words))"
   ]
  },
  {
   "cell_type": "code",
   "execution_count": 19,
   "id": "b77fa744",
   "metadata": {},
   "outputs": [],
   "source": [
    "# get_document_topics method shows the topics found \n",
    "# in each corpus doc\n",
    "# i = 0\n",
    "# print(comments.iloc[i], processed_text[i], lda_model.get_document_topics(corpus[i]))"
   ]
  },
  {
   "cell_type": "code",
   "execution_count": 20,
   "id": "93992ab5",
   "metadata": {},
   "outputs": [],
   "source": [
    "# extracts dominant topic (and percentage) for each comment\n",
    "\n",
    "def get_main_topic_df(model, bow, texts):\n",
    "    topic_list = []\n",
    "    percent_list = []\n",
    "    keyword_list = []\n",
    "    \n",
    "    for wc in bow:\n",
    "        topic, percent = sorted(model.get_document_topics(wc), key=lambda x: x[1], reverse=True)[0]\n",
    "        topic_list.append(topic)\n",
    "        percent_list.append(round(percent, 3))\n",
    "        keyword_list.append(' '.join(sorted([x[0] for x in model.show_topic(topic)])))\n",
    "\n",
    "    result_df = pd.concat([pd.Series(topic_list, name='Dominant_topic'), \n",
    "                           pd.Series(percent_list, name='Percent'), \n",
    "                           pd.Series(texts, name='Processed_text'), \n",
    "                           pd.Series(keyword_list, name='Keywords')], axis=1)\n",
    "\n",
    "    return result_df"
   ]
  },
  {
   "cell_type": "code",
   "execution_count": 21,
   "id": "a5301172",
   "metadata": {},
   "outputs": [],
   "source": [
    "main_topic_df = get_main_topic_df(lda_model, corpus, processed_text)"
   ]
  },
  {
   "cell_type": "code",
   "execution_count": 22,
   "id": "90f0a0b3",
   "metadata": {},
   "outputs": [],
   "source": [
    "# len(main_topic_df)"
   ]
  },
  {
   "cell_type": "code",
   "execution_count": 23,
   "id": "1c01e6c9",
   "metadata": {},
   "outputs": [
    {
     "data": {
      "image/png": "[encoded data removed]",
      "text/plain": [
       "<Figure size 576x396 with 1 Axes>"
      ]
     },
     "metadata": {},
     "output_type": "display_data"
    }
   ],
   "source": [
    "plt.style.use('seaborn')\n",
    "\n",
    "grouped_topics = main_topic_df.groupby('Dominant_topic')\n",
    "grouped_topics.count()['Processed_text'].\\\n",
    "    plot.bar(rot=0).\\\n",
    "    set(title=f'Dominant Topic Frequency in the {len(comments)} Comments',\n",
    "        ylabel='Topic frequency');\n"
   ]
  },
  {
   "cell_type": "markdown",
   "id": "1325e754",
   "metadata": {},
   "source": [
    "## Representative data\n",
    "\n",
    "What's the \"most representative\" comment we have in the data for each topic?  "
   ]
  },
  {
   "cell_type": "code",
   "execution_count": 24,
   "id": "dd7574d4",
   "metadata": {},
   "outputs": [
    {
     "name": "stdout",
     "output_type": "stream",
     "text": [
      "\n",
      "        Document: 236  \n",
      "        Dominant topic: 0\n",
      " \n",
      "    \n",
      "I was the rider who nominated the route for publishing.,As of 9/26/2020, there are two articles related to Caesar's Head.  One takes you from Brevard (\"Caesar's Ascent\") and the other from Hwy 11 (\"Caesar's Head\").  Going to attempt a cross post in both. \r\n",
      "\r\n",
      "Rode Hwy 276 on 9/19/20 from Cherokee Foothills Scenic Hwy 11 to Brevard, NC.  Video is not excellent, but will give you some ideas of the road quality as of 2020.   https://youtu.be/Pe-zINWqMz4\r\n",
      "\r\n",
      "Picking up from Hwy 11, it's a spirited ride.  The road condition has deteriorated with some spots where the road has been undermined and some signs of pavement sloughing.  (Rated 4 for the excellent curves, but only \"fair\" road condition)\r\n",
      "\r\n",
      "Automobile traffic is courteous.  Plenty of pullouts allow slower traffic to let others pass.  The park at Caesar's Head was closed when i passed.  It was a Saturday and they had reached capacity.  Watch for people parking on the roadside on days like this.,I did this route almost every week the fall if 2020. Great scenery and fun twisties to take. I need to get on it with a sporty bike and fewer tourists in the way.\n",
      " ------- \n",
      "\n",
      "\n",
      "        Document: 2356  \n",
      "        Dominant topic: 0\n",
      " \n",
      "    \n",
      "Hiway 276 from the NC-SC state line has been totally repaved from Ceasar's Head down into Brevard, NC fall 2008. Super smooth but still twisty so watch your speed as you will want to ride faster than the road will allow.,This road is fun!  I've been riding it for years and has always provided a thrill and gorgeous scenery.  The SC side is not in good shape anymore and will suprise you with some loose spots if you aren't careful. Once you reach the summit the NC side is new and very smooth and confidence inspiring.  Overall a great riding experience for the sportbike and cruiser/touring motorcyclist alike!,As of 9/26/2020, there are two articles related to Caesar's Head.  One takes you from Brevard (\"Caesar's Ascent\") and the other from Hwy 11 (\"Caesar's Head\").  Going to attempt a cross post in both. \r\n",
      "\r\n",
      "Rode Hwy 276 on 9/19/20 from Cherokee Foothills Scenic Hwy 11 to Brevard, NC.  Video is not excellent, but will give you some ideas of the road quality as of 2020.   https://youtu.be/Pe-zINWqMz4\r\n",
      "\r\n",
      "Picking up from Hwy 11, it's a spirited ride.  The road condition has deteriorated with some spots where the road has been undermined and some signs of pavement sloughing.  (Rated 4 for the excellent curves, but only \"fair\" road condition)\r\n",
      "\r\n",
      "Automobile traffic is courteous.  Plenty of pullouts allow slower traffic to let others pass.  The park at Caesar's Head was closed when i passed.  It was a Saturday and they had reached capacity.  Watch for people parking on the roadside on days like this.\n",
      " ------- \n",
      "\n",
      "\n",
      "        Document: 695  \n",
      "        Dominant topic: 0\n",
      " \n",
      "    \n",
      "Nice ride, several winding roads, beautiful in the spring... fields full of bluebonnets,Rocket cafe is always great stop opens at Noon on Sundays,Live in the area and always enjoy the roads around Waxahachie.  Never pieced it all together like this route does.  Very nice roads, curves, rolling hills, shade, sun; all facets of a nice ride.  The road between Rockett and Palmer has always been one of my favorites.  Bardswell reservoir was much larger than I expected being the first time along FM34.  Overall an enjoyable spring ride on a Saturday afternoon.,This route is in my back yard and I ride it or parts of it on a very regular basis on all types of bikes from BMW touring bikes, sports bikes and cruisers, The roads are all in good condition  with nice curves twist and turns.  The views are beautiful especially in late March through May.  Don't miss the great sushi and American food at the Bristol General Store on FM 660 or The Rockett Cafe on FM 813, if you pass them they are worth turning around for.  Don't miss a chance to visit The Shop in downtown Waxahachie, open every day except Monday; great people and all kinds of riding gear.\n",
      " ------- \n",
      "\n",
      "\n",
      "        Document: 538  \n",
      "        Dominant topic: 1\n",
      " \n",
      "    \n",
      "Hey y'all, I took this ride today 7/28/2019. I left from the  west end of Louisville and went up IN-62 to Madison. I followed the directions from there and it was a lot of fun. I definitely enjoyed Rabbit Hash. That place is a trip and can easily suck up Afew hours chillin and enjoying the atmosphere  and beverages from the general store. It was an enjoyable ride along both sides of the river. On the return trip I took 421 back to 42 to get back to Louisville and made it a full day of riding. It was my first time to Rabbit Hash and already planning a trip back. Hope y'all enjoy.,Nice day ride\n",
      " ------- \n",
      "\n",
      "\n",
      "        Document: 924  \n",
      "        Dominant topic: 1\n",
      " \n",
      "    \n",
      "Fun road with some gravel. Lots of twisties and few amenities. I enjoyed it.,This ride, and 555 north branch are about as good jack of all trades roads in Ohio that aren't in one of the Wayne's National Forests. I can only imagine this road is run very often by people from central Ohio areas. I can see why, and thoroughly recommend the south and north branch of 555 to anyone passing through the area.,10/10/2020 \r\n",
      "This road is filled with blind everything, Rocks and sand in the worst spots possible. \r\n",
      "That being said its a wild ride you will never forget. you will be happy to be alive when you get to the end if you are going at any pace over 30 mph.  \n",
      " ------- \n",
      "\n",
      "\n",
      "        Document: 2671  \n",
      "        Dominant topic: 1\n",
      " \n",
      "    \n",
      "Been on some of 821 north of Marietta a couple years ago, rode the stretch from Cambridge to 258 this weekend, nice ride, pavement was great up until about the end of Guernsey County, it was just okay after that.  We based in Cambridge for the weekend, beautiful Courthouse, it was all lit up red, white, and blue at night.  Ate at the Tlaquepaque Mexican restaurant off 209 south of Cambridge back in by Walmart, food was great, frozen margaritas were fantastic!   Have to do the whole ride one of these days.  ,This is a very odd route as it's mapped out here. There's a hell of a lot of slab, a bit of 'Old Twenty One Road' and bits of 821. I've been on 2 of the 3. The slab is...not fun, or scenic. 821 can be amusing, but it's mostly just a North/South road in the area with some sweepers and Old Twenty One Road just...doesn't look special. Perhaps next time cut the route down on the map to just the title of the route, because as this is it's a bit of a mess.,Great part of our ride.  Road offered turns and bends; ups and downs, and got us from point A to point B\r\n",
      "Day 3 Marietta, OH to Parkersburg, WVA\tName => Ohio’s Dragon Tail\t ~ 266 Miles\r\n",
      "Marietta OH to McConnelsville OH -> \t\tWayne National Forest Run\t\t#27 in Ohio\r\n",
      "McConnelsville OH to Glouster OH ->\t\tOhio’s Dragon Tail\t\t\t#4 in Ohio\r\n",
      "Glouster OH to Chester Hill Oh ->\t\tRidgetop Fun on Rt. 377\t\t\t#58 in Ohio\r\n",
      "Chester Hill OH to Brush Creek OH ->\t\tThe Triple Nickel Rt. 555\t\t#1 in Ohio\r\n",
      "Brush Creek OH to Beverly OH ->\t\tRiver Run Rt. 60\t\t\t\t#27 in Ohio\r\n",
      "Beverly OH to Dexter City OH ->\t\t\tOhio Rt. 339\t\t\t\t#76 in Ohio\r\n",
      "Stop in McConnelsville for homemade sweets at MoCo’s Dip-n-Sip\r\n",
      "Dexter City OH to Lower Salem OH ->\t\tOld US 21\t\t\t\t#68 in Ohio\r\n",
      "Lower Salem OH to Clarington OH ->\t\tThe Roller Coaster Rt. 145\t\t#56 in Ohio\r\n",
      "Clarington OH to Altitude OH ->\t\t\tSykes Ridge Road County Rd 4\t\t#58 in Ohio\r\n",
      "Altitude OH to Hannibal OH ->\t\t\tcousin of “The Tail of The Dragon”\t#2 in Ohio\r\n",
      "\n",
      " ------- \n",
      "\n",
      "\n",
      "        Document: 971  \n",
      "        Dominant topic: 2\n",
      " \n",
      "    \n",
      "A 42 km ride. The north section is possibly the twistiest road Canada has to offer.  Careful of sand in the Spring and leaves in the Fall.  And slow-moving cottage traffic at all times.  No amenities, as you are literally riding through a forest.  Great ride, highly recommended.  And the Bala Bay Inn in Bala, just north of Southwood Road, is a fun place to chow down.  And gas is nearby.,I rode this on July 17, 2020. This would be a great road of but for the broken pavement and construction. Beware of the gravel in the corners. Definitely not a nighttime ride! I think the construction is to upgrade culverts, so one day of they repave this road I would consider raising the rating from 3.\n",
      " ------- \n",
      "\n",
      "\n",
      "        Document: 1447  \n",
      "        Dominant topic: 2\n",
      " \n",
      "    \n",
      "Good road.  Scenery was great.,It's a washboard in both directions. If you stay to the right side of your lane it's not so bad, but that's also dangerous being close to the mountain or the cliff. I was almost always behind a car going UNDER the speed limit. If you're looking for some fast \"twisties\" like I was, this isn't it. ,\r\n",
      "I met 2 other riders in the parking lot of the restaurant and we went down together, which was more fun. Going with other people definitely adds to the experience. ,\r\n",
      ",\r\n",
      "I'm honestly not sure if I went all the way or not... I went to the restaurant and turned around, because I thought that's the end of it. But looking at the map now, it looks like that's just the beginning of it. Maybe someone can reply and let me know!,Always a fun ride\n",
      " ------- \n",
      "\n",
      "\n",
      "        Document: 1523  \n",
      "        Dominant topic: 2\n",
      " \n",
      "    \n",
      "It's a washboard in both directions. If you stay to the right side of your lane it's not so bad, but that's also dangerous being close to the mountain or the cliff. I was almost always behind a car going UNDER the speed limit. If you're looking for some fast \"twisties\" like I was, this isn't it. ,\r\n",
      "I met 2 other riders in the parking lot of the restaurant and we went down together, which was more fun. Going with other people definitely adds to the experience. ,\r\n",
      ",\r\n",
      "I'm honestly not sure if I went all the way or not... I went to the restaurant and turned around, because I thought that's the end of it. But looking at the map now, it looks like that's just the beginning of it. Maybe someone can reply and let me know!,Always a fun ride,What looked like a wonderful twisty sportbike road, turned out to be a gravel strewn washboarded teeth rattling ride to Tortilla Flat. Best left for adventurer and enduro bikes. The only saving grace is good scenery and a couple of nice lakes.\n",
      " ------- \n",
      "\n",
      "\n",
      "        Document: 711  \n",
      "        Dominant topic: 3\n",
      " \n",
      "    \n",
      "West of 77 to 555 is a great ride. McConnelsville has a great place to eat ( Wing Slingers ) and some of the best looking women in Ohio. This whole ride is a higher speed ride with alot of sweepers.,Link for rt 78.  https://en.wikipedia.org/wiki/Ohio_State_Route_78,State Route 78 (SR 78) is a state highway that runs for 105 miles (169 km) from Nelsonville to Clarington in the U.S. state of Ohio. Car and Driver has called it one of the most scenic highways nationwide.[2] The stretch of this highway that runs along the south side of Burr Oak State Park in Morgan County, Ohio, is well known for its extreme curves and views, and is sometimes locally referred to as the \"Rim of the World.\" Much of this highway runs through old coal-producing areas,This is just a really nice ride! Twists, curves, sweepers, some banked and good pavement. Go right past Big Muskie. Good food in McConnelsville and Caldwell, really like Boondocks just north of McConnelsville on 60. ,Pretty cool mural in downtown Caldwell.\n",
      " ------- \n",
      "\n",
      "\n",
      "        Document: 1795  \n",
      "        Dominant topic: 3\n",
      " \n",
      "    \n",
      "A good stretch of road. The road can be a little rough in areas. I will be back to ride it again.,I've rode this 3 times now it's a pleasure the surface is good with lots of well banked sweeping curves that allow you to throttle right threw them no need to stop at McConnelsville go at least to 77,Link for Rt. 78.  https://en.wikipedia.org/wiki/Ohio_State_Route_78,State Route 78 (SR 78) is a state highway that runs for 105 miles (169 km) from Nelsonville to Clarington in the U.S. state of Ohio. Car and Driver has called it one of the most scenic highways nationwide.[2] The stretch of this highway that runs along the south side of Burr Oak State Park in Morgan County, Ohio, is well known for its extreme curves and views, and is sometimes locally referred to as the \"Rim of the World.\" Much of this highway runs through old coal-producing areas\n",
      " ------- \n",
      "\n",
      "\n",
      "        Document: 369  \n",
      "        Dominant topic: 3\n",
      " \n",
      "    \n",
      "*correction* prefer riding it south to north...,Stay away in the summer, too much traffic, highlight is the Indian River Bridge at the south end, can speed thru if you want but you'll miss an extraordinary view of the beach, ocean, inlet and bay if you do.,Touring\r\n",
      "\r\n",
      "Stay away in the summer, too much traffic, highlight is the Indian River Bridge at the south end, can speed thru if you want but you'll miss an extraordinary view of the beach, ocean, inlet and bay if you do.\r\n",
      "\r\n",
      "\n",
      " ------- \n",
      "\n"
     ]
    }
   ],
   "source": [
    "representatives = pd.DataFrame()\n",
    "\n",
    "for k in grouped_topics.groups.keys():\n",
    "    representatives = pd.concat([ representatives, \n",
    "                                 grouped_topics.get_group(k).sort_values(['Percent'], ascending=False).head(3)])\n",
    "# representatives\n",
    "for i in range(len(representatives)):\n",
    "    print(f'''\n",
    "        Document: {representatives.index[i]}  \n",
    "        Dominant topic: {representatives.loc[representatives.index[i]]['Dominant_topic']}\\n \n",
    "    ''')\n",
    "    print(texts[representatives.index[i]] + '\\n ------- \\n')"
   ]
  },
  {
   "cell_type": "markdown",
   "id": "c05ec6d2",
   "metadata": {},
   "source": [
    "## Length of documents in each topic"
   ]
  },
  {
   "cell_type": "code",
   "execution_count": 25,
   "id": "8972679b",
   "metadata": {},
   "outputs": [],
   "source": [
    "def word_count_by_topic(topic=0):\n",
    "    d_lens = [len(d) for d in grouped_topics.get_group(topic)['Processed_text']]\n",
    "    plt.hist(d_lens, bins=50)\n",
    "    large = plt.gca().get_ylim()[1]\n",
    "    d_mean = round(np.mean(d_lens), 1)\n",
    "    d_median = np.median(d_lens)\n",
    "    plt.plot([d_mean, d_mean], [0,large], label='Mean = {}'.format(d_mean))\n",
    "    plt.plot([d_median, d_median], [0,large], label='Median = {}'.format(d_median))\n",
    "    plt.legend()\n",
    "    plt.gca().set(xlabel='Document word count', ylabel='Number of documents', xlim=(0, 450), \n",
    "            title='Distribution of Comment Lengths for {} Comments in Topic {}'.format(len(d_lens), topic));"
   ]
  },
  {
   "cell_type": "code",
   "execution_count": 26,
   "id": "123dd119",
   "metadata": {
    "scrolled": true
   },
   "outputs": [
    {
     "data": {
      "application/vnd.jupyter.widget-view+json": {
       "model_id": "91a31d8ef7754dcd8d35302cf1b2ec30",
       "version_major": 2,
       "version_minor": 0
      },
      "text/plain": [
       "interactive(children=(IntSlider(value=0, description='Topic', max=3), Output()), _dom_classes=('widget-interac…"
      ]
     },
     "metadata": {},
     "output_type": "display_data"
    }
   ],
   "source": [
    "slider = IntSlider(min=0, max=num_topics-1, step=1, value=0, description='Topic')\n",
    "interact(word_count_by_topic, topic=slider);"
   ]
  },
  {
   "cell_type": "markdown",
   "id": "80e67926",
   "metadata": {},
   "source": [
    "## Top word distribution per topic"
   ]
  },
  {
   "cell_type": "code",
   "execution_count": 29,
   "id": "8d5c0827",
   "metadata": {
    "scrolled": true,
    "slideshow": null
   },
   "outputs": [
    {
     "data": {
      "text/plain": [
       "list"
      ]
     },
     "execution_count": 29,
     "metadata": {},
     "output_type": "execute_result"
    },
    {
     "data": {
      "image/png": "[encoded data removed]",
      "text/plain": [
       "<Figure size 1080x360 with 1 Axes>"
      ]
     },
     "metadata": {},
     "output_type": "display_data"
    }
   ],
   "source": [
    "lda_top_words_index = set()\n",
    "for i in range(lda_model.num_topics):\n",
    "    lda_top_words_index = lda_top_words_index.union([k for (k,v) in lda_model.get_topic_terms(i)])\n",
    "\n",
    "#print('Indices of top words: \\n{}\\n'.format(lda_top_words_index))\n",
    "words_we_care_about = [{dictionary[tup[0]]: tup[1] for tup in lst if tup[0] in lda_top_words_index} \n",
    "                       for lst in corpus]\n",
    "lda_top_words_df = pd.DataFrame(words_we_care_about).fillna(0).astype(int).sort_index(axis=1)\n",
    "lda_top_words_df['Cluster'] = main_topic_df['Dominant_topic']\n",
    "plot = (\n",
    "    lda_top_words_df\n",
    "    .groupby('Cluster').sum().transpose()\n",
    "    .plot.bar(figsize=(15, 5), width=0.7)\n",
    "    .set(ylabel='Word frequency', \n",
    "         title=f'Word Frequencies by Topic, Combining the Top {len(lda_top_words_index)} Words in Each Topic')\n",
    ")\n",
    "type(plot)"
   ]
  },
  {
   "cell_type": "markdown",
   "id": "d11c6f6c",
   "metadata": {
    "slideshow": null
   },
   "source": [
    "## Coherence scores based on number of topics"
   ]
  },
  {
   "cell_type": "code",
   "execution_count": null,
   "id": "a2d06328",
   "metadata": {
    "slideshow": null
   },
   "outputs": [],
   "source": [
    "# coherence_scores = []\n",
    "\n",
    "# for n in range(1, 5):\n",
    "#     mod = gensim.models.ldamodel.LdaModel(corpus=corpus, \n",
    "#                                           id2word=dictionary,\n",
    "#                                           num_topics=n, \n",
    "#                                           random_state=117, update_every=1,\n",
    "#                                           chunksize=1500, \n",
    "#                                           passes=5, iterations=10,\n",
    "#                                           alpha='asymmetric', eta=1/100,\n",
    "#                                           per_word_topics=True)\n",
    "#     cmodel = gensim.models.coherencemodel.CoherenceModel(model=mod,\n",
    "#                                                  texts=processed_text,\n",
    "#                                                  dictionary=dictionary)\n",
    "#     coherence_scores.append((n, cmodel.get_coherence()))\n",
    "\n",
    "# topic_range = [coherence_scores[i][0] for i in range(len(coherence_scores))]\n",
    "# cscore = [coherence_scores[i][1] for i in range(len(coherence_scores))]"
   ]
  },
  {
   "cell_type": "code",
   "execution_count": null,
   "id": "a8ecb265",
   "metadata": {},
   "outputs": [],
   "source": [
    "# print(f'Coherence scores for the ngram range: {ngram_range} \\n {coherence_scores}')\n",
    "# plt.plot(topic_range,cscore)"
   ]
  },
  {
   "cell_type": "markdown",
   "id": "db887123",
   "metadata": {
    "slideshow": null
   },
   "source": [
    "# Conclusions\n",
    "\n",
    "- There seem to be 3-4 groups of users making comments on this website.\n",
    "- IF 3:\n",
    "    0. The 'core' group of users make most of the comments.\n",
    "    1. The second group are those who are not as frequent commenters, but when they do post, they usually share videos/links to other sites.\n",
    "    2. The last group do not frequently comment or share videos/links.\n",
    "- IF 4:\n",
    "    0. The 'core' group of users make most of the comments.\n",
    "    1. Post like core group, but less overall. Maybe newer members/budding 'core' group?\n",
    "    2. People riding the tail of the dragon.\n",
    "    3. Other infrequent posters."
   ]
  },
  {
   "cell_type": "code",
   "execution_count": null,
   "id": "c1d9e97d",
   "metadata": {},
   "outputs": [],
   "source": []
  }
 ],
 "metadata": {
  "kernelspec": {
   "display_name": "venv",
   "language": "python",
   "name": "venv"
  },
  "language_info": {
   "codemirror_mode": {
    "name": "ipython",
    "version": 3
   },
   "file_extension": ".py",
   "mimetype": "text/x-python",
   "name": "python",
   "nbconvert_exporter": "python",
   "pygments_lexer": "ipython3",
   "version": "3.9.6"
  },
  "varInspector": {
   "cols": {
    "lenName": 16,
    "lenType": 16,
    "lenVar": 40
   },
   "kernels_config": {
    "python": {
     "delete_cmd_postfix": "",
     "delete_cmd_prefix": "del ",
     "library": "var_list.py",
     "varRefreshCmd": "print(var_dic_list())"
    },
    "r": {
     "delete_cmd_postfix": ") ",
     "delete_cmd_prefix": "rm(",
     "library": "var_list.r",
     "varRefreshCmd": "cat(var_dic_list()) "
    }
   },
   "types_to_exclude": [
    "module",
    "function",
    "builtin_function_or_method",
    "instance",
    "_Feature"
   ],
   "window_display": false
  }
 },
 "nbformat": 4,
 "nbformat_minor": 5
}
