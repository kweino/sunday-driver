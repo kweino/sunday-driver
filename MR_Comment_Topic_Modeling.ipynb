{
 "cells": [
  {
   "cell_type": "markdown",
   "id": "3b37ef68",
   "metadata": {},
   "source": [
    "# Latent Dirichlet allocation (LDA)"
   ]
  },
  {
   "cell_type": "code",
   "execution_count": 1,
   "id": "d5ad140b",
   "metadata": {},
   "outputs": [],
   "source": [
    "import numpy as np\n",
    "import pandas as pd\n",
    "import gensim\n",
    "import re\n",
    "import spacy\n",
    "from spacy.lang.en.stop_words import STOP_WORDS\n",
    "from pprint import pprint\n",
    "from sklearn.feature_extraction.text import CountVectorizer\n",
    "import matplotlib.pyplot as plt\n",
    "from ipywidgets import interact, IntSlider"
   ]
  },
  {
   "cell_type": "code",
   "execution_count": 2,
   "id": "e25e2e78",
   "metadata": {},
   "outputs": [
    {
     "data": {
      "text/plain": [
       "4236"
      ]
     },
     "execution_count": 2,
     "metadata": {},
     "output_type": "execute_result"
    }
   ],
   "source": [
    "#import data\n",
    "comments = pd.read_csv('comments.csv')[['comments']].dropna().drop_duplicates()\n",
    "len(comments['comments'])"
   ]
  },
  {
   "cell_type": "code",
   "execution_count": 3,
   "id": "9567297f",
   "metadata": {},
   "outputs": [],
   "source": [
    "#Preprocessing\n",
    "\n",
    "STOP_WORDS = STOP_WORDS.union({'ll', 've', 'pron',\n",
    "                               'good','great', 'nice',\n",
    "                               'ride','route','road','rt','roads'\n",
    "                              })"
   ]
  },
  {
   "cell_type": "markdown",
   "id": "406eb7d8",
   "metadata": {},
   "source": [
    "## Text Processing"
   ]
  },
  {
   "cell_type": "code",
   "execution_count": 29,
   "id": "cb57422e",
   "metadata": {},
   "outputs": [],
   "source": [
    "ngram_range = (2, 4)\n",
    "\n",
    "vectorizer = CountVectorizer(ngram_range=ngram_range,\n",
    "                             stop_words=STOP_WORDS,\n",
    "                            )\n",
    "analyzer = vectorizer.build_analyzer()\n",
    "\n",
    "texts = comments.comments.values.tolist()\n",
    "processed_text = [analyzer(text) for text in texts]"
   ]
  },
  {
   "cell_type": "code",
   "execution_count": 30,
   "id": "15d997db",
   "metadata": {},
   "outputs": [
    {
     "name": "stdout",
     "output_type": "stream",
     "text": [
      "Number of unique tokens: 488823\n"
     ]
    }
   ],
   "source": [
    "dictionary = gensim.corpora.Dictionary(processed_text)\n",
    "print('Number of unique tokens: {}'.format(len(dictionary)))"
   ]
  },
  {
   "cell_type": "code",
   "execution_count": 31,
   "id": "5366b0f5",
   "metadata": {},
   "outputs": [],
   "source": [
    "corpus = [dictionary.doc2bow(t) for t in processed_text]"
   ]
  },
  {
   "cell_type": "markdown",
   "id": "d558bcc4",
   "metadata": {},
   "source": [
    "## Initial LDA Model"
   ]
  },
  {
   "cell_type": "code",
   "execution_count": 43,
   "id": "3a7064c2",
   "metadata": {
    "scrolled": true
   },
   "outputs": [
    {
     "name": "stdout",
     "output_type": "stream",
     "text": [
      "[(0,\n",
      "  '0.005*\"beautiful scenery\" + 0.004*\"little traffic\" + 0.003*\"speed limit\" + '\n",
      "  '0.003*\"elevation changes\" + 0.003*\"tail dragon\" + 0.003*\"twists turns\" + '\n",
      "  '0.003*\"highly recommend\" + 0.003*\"blue ridge\" + 0.002*\"places stop\" + '\n",
      "  '0.002*\"ridden times\"'),\n",
      " (1,\n",
      "  '0.002*\"tunnel trees\" + 0.002*\"turn left\" + 0.001*\"turn right\" + '\n",
      "  '0.001*\"crotch rocket\" + 0.001*\"speed limit\" + 0.001*\"legs inn\" + '\n",
      "  '0.001*\"cross village\" + 0.001*\"twisties fun\" + 0.001*\"stop sign\" + '\n",
      "  '0.001*\"places stop\"'),\n",
      " (2,\n",
      "  '0.001*\"https www\" + 0.001*\"www youtube com\" + 0.001*\"youtube com\" + '\n",
      "  '0.001*\"www youtube\" + 0.001*\"dragon tail\" + 0.001*\"starting turn\" + '\n",
      "  '0.001*\"rode 30\" + 0.001*\"salt river\" + 0.001*\"oh ohio\" + 0.001*\"ohio '\n",
      "  'dragon\"'),\n",
      " (3,\n",
      "  '0.002*\"cody wy\" + 0.001*\"chief joseph scenic\" + 0.001*\"joseph scenic\" + '\n",
      "  '0.001*\"time loop\" + 0.001*\"starved rock\" + 0.001*\"cool views\" + 0.001*\"ar '\n",
      "  '21\" + 0.001*\"red bluff\" + 0.001*\"starved rock state park\" + 0.001*\"pass '\n",
      "  'times\"')]\n"
     ]
    }
   ],
   "source": [
    "#LDA model parameters\n",
    "num_topics = 4\n",
    "num_words = 10\n",
    "\n",
    "lda_model = gensim.models.ldamodel.LdaModel(corpus=corpus, \n",
    "                                            id2word=dictionary,\n",
    "                                            num_topics=num_topics, \n",
    "                                            random_state=17, update_every=1,\n",
    "                                            chunksize=1500, \n",
    "                                            passes=5, iterations=10,\n",
    "                                            alpha='asymmetric', eta=1/100,\n",
    "                                            per_word_topics=True)\n",
    "\n",
    "pprint(lda_model.print_topics(num_words=num_words))"
   ]
  },
  {
   "cell_type": "code",
   "execution_count": 44,
   "id": "91a0dae6",
   "metadata": {},
   "outputs": [
    {
     "data": {
      "text/plain": [
       "[(0, 0.7300124), (1, 0.026473997), (2, 0.22789559), (3, 0.015618061)]"
      ]
     },
     "execution_count": 44,
     "metadata": {},
     "output_type": "execute_result"
    }
   ],
   "source": [
    "# get_document_topics method shows the topics found \n",
    "# in each corpus doc\n",
    "lda_model.get_document_topics(corpus[1])"
   ]
  },
  {
   "cell_type": "code",
   "execution_count": 45,
   "id": "5d6c8f65",
   "metadata": {},
   "outputs": [],
   "source": [
    "# extracts dominant topic (and percentage) for each comment\n",
    "\n",
    "def get_main_topic_df(model, bow, texts):\n",
    "    topic_list = []\n",
    "    percent_list = []\n",
    "    keyword_list = []\n",
    "    \n",
    "    for wc in bow:\n",
    "        topic, percent = sorted(model.get_document_topics(wc), key=lambda x: x[1], reverse=True)[0]\n",
    "        topic_list.append(topic)\n",
    "        percent_list.append(round(percent, 3))\n",
    "        keyword_list.append(' '.join(sorted([x[0] for x in model.show_topic(topic)])))\n",
    "\n",
    "    result_df = pd.concat([pd.Series(topic_list, name='Dominant_topic'), \n",
    "                           pd.Series(percent_list, name='Percent'), \n",
    "                           pd.Series(texts, name='Processed_text'), \n",
    "                           pd.Series(keyword_list, name='Keywords')], axis=1)\n",
    "\n",
    "    return result_df"
   ]
  },
  {
   "cell_type": "code",
   "execution_count": 46,
   "id": "34c443f6",
   "metadata": {},
   "outputs": [],
   "source": [
    "main_topic_df = get_main_topic_df(lda_model, corpus, processed_text)"
   ]
  },
  {
   "cell_type": "code",
   "execution_count": 47,
   "id": "f95b3406",
   "metadata": {},
   "outputs": [],
   "source": [
    "# len(main_topic_df)"
   ]
  },
  {
   "cell_type": "code",
   "execution_count": 48,
   "id": "85e4bb45",
   "metadata": {},
   "outputs": [
    {
     "data": {
      "image/png": "[encoded data removed]",
      "text/plain": [
       "<Figure size 576x396 with 1 Axes>"
      ]
     },
     "metadata": {},
     "output_type": "display_data"
    }
   ],
   "source": [
    "plt.style.use('seaborn')\n",
    "\n",
    "grouped_topics = main_topic_df.groupby('Dominant_topic')\n",
    "grouped_topics.count()['Processed_text'].\\\n",
    "    plot.bar(rot=0).\\\n",
    "    set(title=f'Dominant Topic Frequency in the {len(comments)} Comments',\n",
    "        ylabel='Topic frequency');\n"
   ]
  },
  {
   "cell_type": "markdown",
   "id": "8470d5aa",
   "metadata": {},
   "source": [
    "## Representative data\n",
    "\n",
    "What's the \"most representative\" comment we have in the data for each topic?  "
   ]
  },
  {
   "cell_type": "code",
   "execution_count": 49,
   "id": "a3c58350",
   "metadata": {},
   "outputs": [
    {
     "name": "stdout",
     "output_type": "stream",
     "text": [
      "\n",
      "        Document: 695  \n",
      "        Dominant topic: 0\n",
      " \n",
      "    \n",
      "Nice ride, several winding roads, beautiful in the spring... fields full of bluebonnets,Rocket cafe is always great stop opens at Noon on Sundays,Live in the area and always enjoy the roads around Waxahachie.  Never pieced it all together like this route does.  Very nice roads, curves, rolling hills, shade, sun; all facets of a nice ride.  The road between Rockett and Palmer has always been one of my favorites.  Bardswell reservoir was much larger than I expected being the first time along FM34.  Overall an enjoyable spring ride on a Saturday afternoon.,This route is in my back yard and I ride it or parts of it on a very regular basis on all types of bikes from BMW touring bikes, sports bikes and cruisers, The roads are all in good condition  with nice curves twist and turns.  The views are beautiful especially in late March through May.  Don't miss the great sushi and American food at the Bristol General Store on FM 660 or The Rockett Cafe on FM 813, if you pass them they are worth turning around for.  Don't miss a chance to visit The Shop in downtown Waxahachie, open every day except Monday; great people and all kinds of riding gear.\n",
      " ------- \n",
      "\n",
      "\n",
      "        Document: 543  \n",
      "        Dominant topic: 0\n",
      " \n",
      "    \n",
      "Started out in Spearfish, checked out the falls, a break at Cheyenne Corner, then back up the canyon.  Was one of our favorite rides in the Black Hills.  Would love to be able to see it in the fall.  ,Beautiful ride!  The 35mph speed limit kinda takes some of the fun out of it, but it does let you take in the scenery!,Another Black Hills classic ride. Beautiful ride through the Canyon with high rock walls and several waterfalls. Check out the falls near Savoy and don't miss the rest stop at Cheyenne Crossing. The restaurant inside is the BEST breakfast in the Blck Hills.\n",
      " ------- \n",
      "\n",
      "\n",
      "        Document: 705  \n",
      "        Dominant topic: 0\n",
      " \n",
      "    \n",
      "This route is in my back yard and I ride it or parts of it on a very regular basis on all types of bikes from BMW touring bikes, sports bikes and cruisers, The roads are all in good condition  with nice curves twist and turns.  The views are beautiful especially in late March through May.  Don't miss the great sushi and American food at the Bristol General Store on FM 660 or The Rockett Cafe on FM 813, if you pass them they are worth turning around for.  Don't miss a chance to visit The Shop in downtown Waxahachie, open every day except Monday; great people and all kinds of riding gear.\n",
      " ------- \n",
      "\n",
      "\n",
      "        Document: 1203  \n",
      "        Dominant topic: 1\n",
      " \n",
      "    \n",
      "You need to go past the 190 turn into Warm Springs. Gotta send out some props to Xtreme Rider Shop (Leather). Great gals in there.  Grab some eats and head back down south to  190 which takes you over to the \"other\" 27. 190 is damn curvy with lots of drop offs..\r\n",
      "If you want to kill more time, take 354 off 190 up to Pine Mnt. They have shop's N eats  there as well. Then catch 27 to get back down to 80. This is what we do every few months, Certain places you can feel the temp drop due to the trees. Really a great ride...,You need to go past the 190 turn into Warm Springs. Gotta send out some props to Xtreme Rider Shop (Leather). Great gals in there.  Grab some eats and head back down south to  190 which takes you over to the \"other\" 27. 190 is damn curvy with lots of drop offs..\r\n",
      "If you want to kill more time, take 354 off 190 up to Pine Mnt. They have shop's N eats  there as well. Then catch 27 to get back down to 80. This is what we do every few months, Certain places you can feel the temp drop due to the trees. Really a great ride...,Took my honda grom  on this fun adventure. The best ride ever taken so far. Breathtaking views awsome curves and plenty of road.\n",
      " ------- \n",
      "\n",
      "\n",
      "        Document: 673  \n",
      "        Dominant topic: 1\n",
      " \n",
      "    \n",
      "An exquisite gem of a road. Truly a road and not a highway. Its easy to see how this road started as a horse and wagon route and has not been engineered into a high speed highway. Nice sharp switchbacks and turns. Low traffic on the road, every  time I have ridden it, which is 6 or 7 times in the last 2 years. I prefer to go up the canyon and then take Stove Prairie Road north if I am heading up the Cache la Poudre Canyon to Walden. It also makes a good leg of a half day loop in the foothills. It doesn't have the great scenic views of some routes, but is a fun road that puts a smile on your face when you ride it.,I rode this route twice this July (2016), The road was a great tour of the Cache la Poudre area. There were some burned areas from a 2014 fire, but it did not affect the entire area. There is a nice long curvy stretch running through the valley with a nice elevation change on the western end. At the western end, you can go right for a nice ride on Stove Prairie road north to SR14 on the Cache la Poudre River road. If you go left at the western end, you go through another nice valley and Stove Prairie. Your road becomes Buckhorn Road (CR27) and passes through Masonville before getting to US34 .,\r\n",
      "It was a fun road for my pocket rocket (CB300F) that I bring on my RV trips. That's why I rode it twice!,It is a nice ride and can get busy on the weekends.\n",
      " ------- \n",
      "\n",
      "\n",
      "        Document: 721  \n",
      "        Dominant topic: 1\n",
      " \n",
      "    \n",
      "This is a fantastic ride when done during a weekday. So few cars and nothing but open road. I turned off to go to Paradise instead of going east. 410 is slightly ruff in spots out of Enumclaw for about 8 miles and then smooth as silk.. Nothing but trees hugging the road and great views after that. Bring something to eat and drink so when you stop at the many vista views you can quench your thirst and drown your appetite. This is world class riding folks! Head back down the mountain thru Elbe or take skate creek to Packwood. There are endless roads to discover as you enjoy a uncrowded ride that is sure to be on the top of your list of places to go back.,We combined this ride with the taco run, but we took a right onto 169 to Enumclaw then out 410.  This was a great ride even in a bit of summer traffic with an average speed of about 60 dropping to some 20- 30 mph twisty switchbacks that provide some Pretty terrific scenery. The road quality is pretty good, but there is the occasional pot hole or rough patch. ,\r\n",
      "  Be warned!  If you're afraid of heights the switchbacks approaching the summit of chinook pass may give you some serious willies! We ended our ride with an over night stay at Whistlin Jacks in Cliffdell. On the way home we took our time and puttered around on the way back taking in all the sights in the area along 410.\n",
      " ------- \n",
      "\n",
      "\n",
      "        Document: 2671  \n",
      "        Dominant topic: 2\n",
      " \n",
      "    \n",
      "Been on some of 821 north of Marietta a couple years ago, rode the stretch from Cambridge to 258 this weekend, nice ride, pavement was great up until about the end of Guernsey County, it was just okay after that.  We based in Cambridge for the weekend, beautiful Courthouse, it was all lit up red, white, and blue at night.  Ate at the Tlaquepaque Mexican restaurant off 209 south of Cambridge back in by Walmart, food was great, frozen margaritas were fantastic!   Have to do the whole ride one of these days.  ,This is a very odd route as it's mapped out here. There's a hell of a lot of slab, a bit of 'Old Twenty One Road' and bits of 821. I've been on 2 of the 3. The slab is...not fun, or scenic. 821 can be amusing, but it's mostly just a North/South road in the area with some sweepers and Old Twenty One Road just...doesn't look special. Perhaps next time cut the route down on the map to just the title of the route, because as this is it's a bit of a mess.,Great part of our ride.  Road offered turns and bends; ups and downs, and got us from point A to point B\r\n",
      "Day 3 Marietta, OH to Parkersburg, WVA\tName => Ohio’s Dragon Tail\t ~ 266 Miles\r\n",
      "Marietta OH to McConnelsville OH -> \t\tWayne National Forest Run\t\t#27 in Ohio\r\n",
      "McConnelsville OH to Glouster OH ->\t\tOhio’s Dragon Tail\t\t\t#4 in Ohio\r\n",
      "Glouster OH to Chester Hill Oh ->\t\tRidgetop Fun on Rt. 377\t\t\t#58 in Ohio\r\n",
      "Chester Hill OH to Brush Creek OH ->\t\tThe Triple Nickel Rt. 555\t\t#1 in Ohio\r\n",
      "Brush Creek OH to Beverly OH ->\t\tRiver Run Rt. 60\t\t\t\t#27 in Ohio\r\n",
      "Beverly OH to Dexter City OH ->\t\t\tOhio Rt. 339\t\t\t\t#76 in Ohio\r\n",
      "Stop in McConnelsville for homemade sweets at MoCo’s Dip-n-Sip\r\n",
      "Dexter City OH to Lower Salem OH ->\t\tOld US 21\t\t\t\t#68 in Ohio\r\n",
      "Lower Salem OH to Clarington OH ->\t\tThe Roller Coaster Rt. 145\t\t#56 in Ohio\r\n",
      "Clarington OH to Altitude OH ->\t\t\tSykes Ridge Road County Rd 4\t\t#58 in Ohio\r\n",
      "Altitude OH to Hannibal OH ->\t\t\tcousin of “The Tail of The Dragon”\t#2 in Ohio\r\n",
      "\n",
      " ------- \n",
      "\n",
      "\n",
      "        Document: 272  \n",
      "        Dominant topic: 2\n",
      " \n",
      "    \n",
      "Fun road, as is so many of the roads in this area.  Rolling hillls, farmland, hardly any traffic.  Passes thru a couple small villages. Still have not ate at Triple Nickel Diner... maybe this year.  Pavement was good last time we  were on it which was Sep/2019.,*Activate Ohio Road Ranger Mode*\r\n",
      "ROAD CONDITION as of 01/21 - Road is in average, give or take, condition as of 01/21.\r\n",
      "\r\n",
      "This is, indeed, a fun road. Lots of ups and down, lots of back and forth. It parallels 555, so there's some more fun in the neighborhood. Mind the rutted roads in Chesterhill, as of 01/21. Other than that, it's a good, solid haul.\r\n",
      "\r\n",
      "Be sure to check out the video of it that I have up, and there's plenty more where that came from on my YouTube channel.\r\n",
      "\r\n",
      ",Very nice ride; part of our excursion through eastern OH; good connection to other routes and really light traffic on roads in excellent condition (2021)\r\n",
      "Day 3 Marietta, OH to Parkersburg, WVA\tName => Ohio’s Dragon Tail\t ~ 266 Miles\r\n",
      "Marietta OH to McConnelsville OH -> \t\tWayne National Forest Run\t\t#27 in Ohio\r\n",
      "McConnelsville OH to Glouster OH ->\t\tOhio’s Dragon Tail\t\t\t#4 in Ohio\r\n",
      "Glouster OH to Chester Hill Oh ->\t\tRidgetop Fun on Rt. 377\t\t\t#58 in Ohio\r\n",
      "Chester Hill OH to Brush Creek OH ->\t\tThe Triple Nickel Rt. 555\t\t#1 in Ohio\r\n",
      "Brush Creek OH to Beverly OH ->\t\tRiver Run Rt. 60\t\t\t\t#27 in Ohio\r\n",
      "Beverly OH to Dexter City OH ->\t\t\tOhio Rt. 339\t\t\t\t#76 in Ohio\r\n",
      "Stop in McConnelsville for homemade sweets at MoCo’s Dip-n-Sip\r\n",
      "Dexter City OH to Lower Salem OH ->\t\tOld US 21\t\t\t\t#68 in Ohio\r\n",
      "Lower Salem OH to Clarington OH ->\t\tThe Roller Coaster Rt. 145\t\t#56 in Ohio\r\n",
      "Clarington OH to Altitude OH ->\t\t\tSykes Ridge Road County Rd 4\t\t#58 in Ohio\r\n",
      "Altitude OH to Hannibal OH ->\t\t\tcousin of “The Tail of The Dragon”\t#2 in Ohio\r\n",
      "\n",
      " ------- \n",
      "\n",
      "\n",
      "        Document: 236  \n",
      "        Dominant topic: 2\n",
      " \n",
      "    \n",
      "I was the rider who nominated the route for publishing.,As of 9/26/2020, there are two articles related to Caesar's Head.  One takes you from Brevard (\"Caesar's Ascent\") and the other from Hwy 11 (\"Caesar's Head\").  Going to attempt a cross post in both. \r\n",
      "\r\n",
      "Rode Hwy 276 on 9/19/20 from Cherokee Foothills Scenic Hwy 11 to Brevard, NC.  Video is not excellent, but will give you some ideas of the road quality as of 2020.   https://youtu.be/Pe-zINWqMz4\r\n",
      "\r\n",
      "Picking up from Hwy 11, it's a spirited ride.  The road condition has deteriorated with some spots where the road has been undermined and some signs of pavement sloughing.  (Rated 4 for the excellent curves, but only \"fair\" road condition)\r\n",
      "\r\n",
      "Automobile traffic is courteous.  Plenty of pullouts allow slower traffic to let others pass.  The park at Caesar's Head was closed when i passed.  It was a Saturday and they had reached capacity.  Watch for people parking on the roadside on days like this.,I did this route almost every week the fall if 2020. Great scenery and fun twisties to take. I need to get on it with a sporty bike and fewer tourists in the way.\n",
      " ------- \n",
      "\n",
      "\n",
      "        Document: 711  \n",
      "        Dominant topic: 3\n",
      " \n",
      "    \n",
      "West of 77 to 555 is a great ride. McConnelsville has a great place to eat ( Wing Slingers ) and some of the best looking women in Ohio. This whole ride is a higher speed ride with alot of sweepers.,Link for rt 78.  https://en.wikipedia.org/wiki/Ohio_State_Route_78,State Route 78 (SR 78) is a state highway that runs for 105 miles (169 km) from Nelsonville to Clarington in the U.S. state of Ohio. Car and Driver has called it one of the most scenic highways nationwide.[2] The stretch of this highway that runs along the south side of Burr Oak State Park in Morgan County, Ohio, is well known for its extreme curves and views, and is sometimes locally referred to as the \"Rim of the World.\" Much of this highway runs through old coal-producing areas,This is just a really nice ride! Twists, curves, sweepers, some banked and good pavement. Go right past Big Muskie. Good food in McConnelsville and Caldwell, really like Boondocks just north of McConnelsville on 60. ,Pretty cool mural in downtown Caldwell.\n",
      " ------- \n",
      "\n",
      "\n",
      "        Document: 1795  \n",
      "        Dominant topic: 3\n",
      " \n",
      "    \n",
      "A good stretch of road. The road can be a little rough in areas. I will be back to ride it again.,I've rode this 3 times now it's a pleasure the surface is good with lots of well banked sweeping curves that allow you to throttle right threw them no need to stop at McConnelsville go at least to 77,Link for Rt. 78.  https://en.wikipedia.org/wiki/Ohio_State_Route_78,State Route 78 (SR 78) is a state highway that runs for 105 miles (169 km) from Nelsonville to Clarington in the U.S. state of Ohio. Car and Driver has called it one of the most scenic highways nationwide.[2] The stretch of this highway that runs along the south side of Burr Oak State Park in Morgan County, Ohio, is well known for its extreme curves and views, and is sometimes locally referred to as the \"Rim of the World.\" Much of this highway runs through old coal-producing areas\n",
      " ------- \n",
      "\n",
      "\n",
      "        Document: 1468  \n",
      "        Dominant topic: 3\n",
      " \n",
      "    \n",
      "My wife and I really enjoyed this ride. There are a lot of restraunts along topsail and Surf City to eat at. The second part of the ride on HWY 50 is very scenic and it isnt busy so you can take your time.,This ride was rather uneventful. Lots of straight boring roads with some lazy sweepers. Not what I would call an engaging or exciting ride by any stretch. I tried to keep the pace pretty quick but even then it was a lackluster ride. I guess if your looking to cruise, stare at farms, and Marine Corps training area signs it would be ok but if your a twisty craving hooligan you should look else where for excitement. I rode on a Saturday mid day and there was lots of Lejeune traffic on 17 headed to topsail.  \n",
      " ------- \n",
      "\n"
     ]
    }
   ],
   "source": [
    "representatives = pd.DataFrame()\n",
    "\n",
    "for k in grouped_topics.groups.keys():\n",
    "    representatives = pd.concat([ representatives, \n",
    "                                 grouped_topics.get_group(k).sort_values(['Percent'], ascending=False).head(3)])\n",
    "# representatives\n",
    "for i in range(len(representatives)):\n",
    "    print(f'''\n",
    "        Document: {representatives.index[i]}  \n",
    "        Dominant topic: {representatives.loc[representatives.index[i]]['Dominant_topic']}\\n \n",
    "    ''')\n",
    "    print(texts[representatives.index[i]] + '\\n ------- \\n')"
   ]
  },
  {
   "cell_type": "markdown",
   "id": "17bfec08",
   "metadata": {},
   "source": [
    "## Length of documents in each topic"
   ]
  },
  {
   "cell_type": "code",
   "execution_count": 50,
   "id": "6db9ff3e",
   "metadata": {},
   "outputs": [],
   "source": [
    "def word_count_by_topic(topic=0):\n",
    "    d_lens = [len(d) for d in grouped_topics.get_group(topic)['Processed_text']]\n",
    "    plt.hist(d_lens, bins=50)\n",
    "    large = plt.gca().get_ylim()[1]\n",
    "    d_mean = round(np.mean(d_lens), 1)\n",
    "    d_median = np.median(d_lens)\n",
    "    plt.plot([d_mean, d_mean], [0,large], label='Mean = {}'.format(d_mean))\n",
    "    plt.plot([d_median, d_median], [0,large], label='Median = {}'.format(d_median))\n",
    "    plt.legend()\n",
    "    plt.gca().set(xlabel='Document word count', ylabel='Number of documents', xlim=(0, 450), \n",
    "            title='Distribution of Comment Lengths for {} Comments in Topic {}'.format(len(d_lens), topic));"
   ]
  },
  {
   "cell_type": "code",
   "execution_count": 51,
   "id": "4c6130a8",
   "metadata": {
    "scrolled": true
   },
   "outputs": [
    {
     "data": {
      "application/vnd.jupyter.widget-view+json": {
       "model_id": "dc944fc8d1ef4362bd0094c2b3a96e9e",
       "version_major": 2,
       "version_minor": 0
      },
      "text/plain": [
       "interactive(children=(IntSlider(value=0, description='Topic', max=3), Output()), _dom_classes=('widget-interac…"
      ]
     },
     "metadata": {},
     "output_type": "display_data"
    }
   ],
   "source": [
    "slider = IntSlider(min=0, max=num_topics-1, step=1, value=0, description='Topic')\n",
    "interact(word_count_by_topic, topic=slider);"
   ]
  },
  {
   "cell_type": "markdown",
   "id": "d69bed20",
   "metadata": {},
   "source": [
    "## Top word distribution per topic"
   ]
  },
  {
   "cell_type": "code",
   "execution_count": 52,
   "id": "9ffb269b",
   "metadata": {
    "scrolled": true,
    "slideshow": null
   },
   "outputs": [
    {
     "name": "stdout",
     "output_type": "stream",
     "text": [
      "Indices of top words: \n",
      "{84736, 11521, 7425, 28691, 15647, 20023, 45368, 48955, 84803, 131656, 15694, 130669, 130671, 130674, 4980, 141177, 4473, 34940, 15490, 134, 64651, 105360, 130705, 665, 668, 1956, 103845, 2982, 5813, 132277, 16074, 16075, 972, 16080, 113875, 19925, 2529, 11760}\n",
      "\n"
     ]
    },
    {
     "data": {
      "text/plain": [
       "[Text(0, 0.5, 'Word frequency'),\n",
       " Text(0.5, 1.0, 'Word Frequencies by Topic, Combining the Top 38 Words in Each Topic')]"
      ]
     },
     "execution_count": 52,
     "metadata": {},
     "output_type": "execute_result"
    },
    {
     "data": {
      "image/png": "[encoded data removed]",
      "text/plain": [
       "<Figure size 1080x360 with 1 Axes>"
      ]
     },
     "metadata": {},
     "output_type": "display_data"
    }
   ],
   "source": [
    "lda_top_words_index = set()\n",
    "for i in range(lda_model.num_topics):\n",
    "    lda_top_words_index = lda_top_words_index.union([k for (k,v) in lda_model.get_topic_terms(i)])\n",
    "\n",
    "print('Indices of top words: \\n{}\\n'.format(lda_top_words_index))\n",
    "words_we_care_about = [{dictionary[tup[0]]: tup[1] for tup in lst if tup[0] in lda_top_words_index} \n",
    "                       for lst in corpus]\n",
    "lda_top_words_df = pd.DataFrame(words_we_care_about).fillna(0).astype(int).sort_index(axis=1)\n",
    "lda_top_words_df['Cluster'] = main_topic_df['Dominant_topic']\n",
    "(\n",
    "    lda_top_words_df\n",
    "    .groupby('Cluster').sum().transpose()\n",
    "    .plot.bar(figsize=(15, 5), width=0.7)\n",
    "    .set(ylabel='Word frequency', \n",
    "         title=f'Word Frequencies by Topic, Combining the Top {len(lda_top_words_index)} Words in Each Topic')\n",
    ")"
   ]
  },
  {
   "cell_type": "markdown",
   "id": "0504bac7",
   "metadata": {
    "slideshow": null
   },
   "source": [
    "## Coherence scores based on number of topics"
   ]
  },
  {
   "cell_type": "code",
   "execution_count": 42,
   "id": "7809d876",
   "metadata": {
    "slideshow": null
   },
   "outputs": [
    {
     "name": "stdout",
     "output_type": "stream",
     "text": [
      "Coherence scores for the ngram range: (2, 4) \n",
      " [(1, 0.21300752083840652), (2, 0.3776526410567235), (3, 0.413150091170489), (4, 0.48856209625923575), (5, 0.4749763971508833), (6, 0.5121274932882053), (7, 0.5566498473770802), (8, 0.5600037584409502), (9, 0.5483508199176442), (10, 0.5912511167683759)]\n"
     ]
    },
    {
     "data": {
      "text/plain": [
       "[<matplotlib.lines.Line2D at 0x7faacc7ed280>]"
      ]
     },
     "execution_count": 42,
     "metadata": {},
     "output_type": "execute_result"
    },
    {
     "data": {
      "image/png": "[encoded data removed]",
      "text/plain": [
       "<Figure size 576x396 with 1 Axes>"
      ]
     },
     "metadata": {},
     "output_type": "display_data"
    }
   ],
   "source": [
    "coherence_scores = []\n",
    "\n",
    "for n in range(1, 11):\n",
    "    mod = gensim.models.ldamodel.LdaModel(corpus=corpus, \n",
    "                                          id2word=dictionary,\n",
    "                                          num_topics=n, \n",
    "                                          random_state=117, update_every=1,\n",
    "                                          chunksize=1500, \n",
    "                                          passes=5, iterations=10,\n",
    "                                          alpha='asymmetric', eta=1/100,\n",
    "                                          per_word_topics=True)\n",
    "    cmodel = gensim.models.coherencemodel.CoherenceModel(model=mod,\n",
    "                                                 texts=processed_text,\n",
    "                                                 dictionary=dictionary)\n",
    "    coherence_scores.append((n, cmodel.get_coherence()))\n",
    "\n",
    "topic_range = [coherence_scores[i][0] for i in range(len(coherence_scores))]\n",
    "cscore = [coherence_scores[i][1] for i in range(len(coherence_scores))]"
   ]
  },
  {
   "cell_type": "code",
   "execution_count": null,
   "id": "87c3f1ff",
   "metadata": {},
   "outputs": [],
   "source": [
    "print(f'Coherence scores for the ngram range: {ngram_range} \\n {coherence_scores}')\n",
    "plt.plot(topic_range,cscore)"
   ]
  },
  {
   "cell_type": "markdown",
   "id": "21063676",
   "metadata": {
    "slideshow": null
   },
   "source": [
    "# Conclusions\n",
    "\n",
    "- There seem to be 3-4 groups of users making comments on this website.\n",
    "- IF 3:\n",
    "    0. The 'core' group of users make most of the comments.\n",
    "    1. The second group are those who are not as frequent commenters, but when they do post, they usually share videos/links to other sites.\n",
    "    2. The last group do not frequently comment or share videos/links.\n",
    "- IF 4:\n",
    "    0. The 'core' group of users make most of the comments.\n",
    "    1. Post like core group, but less overall. Maybe newer members/budding 'core' group?\n",
    "    2. People riding the tail of the dragon.\n",
    "    3. Other infrequent posters."
   ]
  },
  {
   "cell_type": "code",
   "execution_count": null,
   "id": "c6dd4c72",
   "metadata": {},
   "outputs": [],
   "source": []
  }
 ],
 "metadata": {
  "kernelspec": {
   "display_name": "Python 3 (ipykernel)",
   "language": "python",
   "name": "python3"
  },
  "language_info": {
   "codemirror_mode": {
    "name": "ipython",
    "version": 3
   },
   "file_extension": ".py",
   "mimetype": "text/x-python",
   "name": "python",
   "nbconvert_exporter": "python",
   "pygments_lexer": "ipython3",
   "version": "3.9.6"
  },
  "varInspector": {
   "cols": {
    "lenName": 16,
    "lenType": 16,
    "lenVar": 40
   },
   "kernels_config": {
    "python": {
     "delete_cmd_postfix": "",
     "delete_cmd_prefix": "del ",
     "library": "var_list.py",
     "varRefreshCmd": "print(var_dic_list())"
    },
    "r": {
     "delete_cmd_postfix": ") ",
     "delete_cmd_prefix": "rm(",
     "library": "var_list.r",
     "varRefreshCmd": "cat(var_dic_list()) "
    }
   },
   "types_to_exclude": [
    "module",
    "function",
    "builtin_function_or_method",
    "instance",
    "_Feature"
   ],
   "window_display": false
  }
 },
 "nbformat": 4,
 "nbformat_minor": 5
}
