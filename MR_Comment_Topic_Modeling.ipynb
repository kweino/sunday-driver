{
 "cells": [
  {
   "cell_type": "markdown",
   "id": "144e7352",
   "metadata": {},
   "source": [
    "# Latent Dirichlet allocation (LDA)"
   ]
  },
  {
   "cell_type": "code",
   "execution_count": 1,
   "id": "097b1242",
   "metadata": {},
   "outputs": [],
   "source": [
    "import numpy as np\n",
    "import pandas as pd\n",
    "import gensim\n",
    "import re\n",
    "import spacy\n",
    "from spacy.lang.en.stop_words import STOP_WORDS\n",
    "from pprint import pprint\n",
    "from sklearn.feature_extraction.text import CountVectorizer\n",
    "import matplotlib.pyplot as plt\n",
    "from ipywidgets import interact, IntSlider"
   ]
  },
  {
   "cell_type": "code",
   "execution_count": 2,
   "id": "701db55a",
   "metadata": {},
   "outputs": [
    {
     "data": {
      "text/plain": [
       "4236"
      ]
     },
     "execution_count": 2,
     "metadata": {},
     "output_type": "execute_result"
    }
   ],
   "source": [
    "#import data\n",
    "comments = pd.read_csv('comments.csv')[['comments']].dropna().drop_duplicates()\n",
    "len(comments['comments'])"
   ]
  },
  {
   "cell_type": "code",
   "execution_count": 3,
   "id": "94c49145",
   "metadata": {},
   "outputs": [],
   "source": [
    "#Preprocessing\n",
    "\n",
    "STOP_WORDS = STOP_WORDS.union({'ll', 've', 'pron',\n",
    "                               'good','great', 'nice',\n",
    "                               'ride','route','road','rt','roads'\n",
    "                              })"
   ]
  },
  {
   "cell_type": "markdown",
   "id": "db88ad3f",
   "metadata": {},
   "source": [
    "## Text Processing"
   ]
  },
  {
   "cell_type": "code",
   "execution_count": 4,
   "id": "0782ca72",
   "metadata": {},
   "outputs": [],
   "source": [
    "ngram_range = (2, 3)\n",
    "\n",
    "vectorizer = CountVectorizer(ngram_range=ngram_range,\n",
    "                             stop_words=STOP_WORDS,\n",
    "                            )\n",
    "analyzer = vectorizer.build_analyzer()\n",
    "\n",
    "texts = comments.comments.values.tolist()\n",
    "processed_text = [analyzer(text) for text in texts]"
   ]
  },
  {
   "cell_type": "code",
   "execution_count": 5,
   "id": "da5c821c",
   "metadata": {},
   "outputs": [
    {
     "name": "stdout",
     "output_type": "stream",
     "text": [
      "Number of unique tokens: 312243\n"
     ]
    }
   ],
   "source": [
    "dictionary = gensim.corpora.Dictionary(processed_text)\n",
    "print('Number of unique tokens: {}'.format(len(dictionary)))"
   ]
  },
  {
   "cell_type": "code",
   "execution_count": 6,
   "id": "f7e18196",
   "metadata": {},
   "outputs": [],
   "source": [
    "corpus = [dictionary.doc2bow(t) for t in processed_text]"
   ]
  },
  {
   "cell_type": "markdown",
   "id": "408492d8",
   "metadata": {},
   "source": [
    "## Initial LDA Model"
   ]
  },
  {
   "cell_type": "code",
   "execution_count": 19,
   "id": "49691deb",
   "metadata": {
    "scrolled": true
   },
   "outputs": [
    {
     "name": "stdout",
     "output_type": "stream",
     "text": [
      "[(0,\n",
      "  '0.006*\"beautiful scenery\" + 0.004*\"little traffic\" + 0.004*\"elevation '\n",
      "  'changes\" + 0.003*\"places stop\" + 0.003*\"speed limit\" + 0.003*\"highly '\n",
      "  'recommend\" + 0.003*\"twists turns\" + 0.003*\"ridden times\" + 0.003*\"sure '\n",
      "  'stop\" + 0.003*\"lots curves\"'),\n",
      " (1,\n",
      "  '0.003*\"tail dragon\" + 0.003*\"speed limit\" + 0.003*\"beautiful scenery\" + '\n",
      "  '0.002*\"twists turns\" + 0.002*\"years ago\" + 0.002*\"little traffic\" + '\n",
      "  '0.002*\"tellico plains\" + 0.002*\"highly recommend\" + 0.002*\"general store\" + '\n",
      "  '0.002*\"hot springs\"'),\n",
      " (2,\n",
      "  '0.003*\"state park\" + 0.003*\"rock state park\" + 0.003*\"rock state\" + '\n",
      "  '0.002*\"eureka springs\" + 0.002*\"tail dragon\" + 0.002*\"circle tour\" + '\n",
      "  '0.002*\"poudre canyon\" + 0.002*\"bucket list\" + 0.002*\"park beautiful\" + '\n",
      "  '0.002*\"curves tight\"'),\n",
      " (3,\n",
      "  '0.002*\"west coast\" + 0.001*\"weekend traffic\" + 0.001*\"right left\" + '\n",
      "  '0.001*\"stay right\" + 0.001*\"beautiful park\" + 0.001*\"best rode\" + '\n",
      "  '0.001*\"entire trip\" + 0.001*\"ar 21\" + 0.001*\"lots motorcycles\" + '\n",
      "  '0.001*\"agree author\"'),\n",
      " (4,\n",
      "  '0.002*\"suggest taking\" + 0.002*\"scenery best\" + 0.002*\"far favorite\" + '\n",
      "  '0.002*\"time run\" + 0.001*\"easily best\" + 0.001*\"riding mountain\" + '\n",
      "  '0.001*\"elevation changes scenery\" + 0.001*\"local flavor\" + 0.001*\"crowded '\n",
      "  'tourists\" + 0.001*\"continue ar\"'),\n",
      " (5,\n",
      "  '0.005*\"mountain view\" + 0.004*\"blue ridge\" + 0.002*\"shady valley\" + '\n",
      "  '0.002*\"mt evans\" + 0.002*\"blue ridge parkway\" + 0.002*\"ridge parkway\" + '\n",
      "  '0.002*\"july 31st\" + 0.001*\"little stretch\" + 0.001*\"devil whip\" + '\n",
      "  '0.001*\"north river\"')]\n"
     ]
    }
   ],
   "source": [
    "#LDA model parameters\n",
    "num_topics = 6\n",
    "num_words = 10\n",
    "\n",
    "lda_model = gensim.models.ldamodel.LdaModel(corpus=corpus, \n",
    "                                            id2word=dictionary,\n",
    "                                            num_topics=num_topics, \n",
    "                                            random_state=17, update_every=1,\n",
    "                                            chunksize=1500, \n",
    "                                            passes=5, iterations=10,\n",
    "                                            alpha='asymmetric', eta=1/100,\n",
    "                                            per_word_topics=True)\n",
    "\n",
    "pprint(lda_model.print_topics(num_words=num_words))"
   ]
  },
  {
   "cell_type": "code",
   "execution_count": 20,
   "id": "071da100",
   "metadata": {},
   "outputs": [
    {
     "data": {
      "text/plain": [
       "[(0, 0.5821752),\n",
       " (1, 0.02336336),\n",
       " (2, 0.01791803),\n",
       " (3, 0.13124743),\n",
       " (4, 0.012361611),\n",
       " (5, 0.23293431)]"
      ]
     },
     "execution_count": 20,
     "metadata": {},
     "output_type": "execute_result"
    }
   ],
   "source": [
    "# get_document_topics method shows the topics found \n",
    "# in each corpus doc\n",
    "lda_model.get_document_topics(corpus[1])"
   ]
  },
  {
   "cell_type": "code",
   "execution_count": 21,
   "id": "38411170",
   "metadata": {},
   "outputs": [],
   "source": [
    "# extracts dominant topic (and percentage) for each comment\n",
    "\n",
    "def get_main_topic_df(model, bow, texts):\n",
    "    topic_list = []\n",
    "    percent_list = []\n",
    "    keyword_list = []\n",
    "    \n",
    "    for wc in bow:\n",
    "        topic, percent = sorted(model.get_document_topics(wc), key=lambda x: x[1], reverse=True)[0]\n",
    "        topic_list.append(topic)\n",
    "        percent_list.append(round(percent, 3))\n",
    "        keyword_list.append(' '.join(sorted([x[0] for x in model.show_topic(topic)])))\n",
    "\n",
    "    result_df = pd.concat([pd.Series(topic_list, name='Dominant_topic'), \n",
    "                           pd.Series(percent_list, name='Percent'), \n",
    "                           pd.Series(texts, name='Processed_text'), \n",
    "                           pd.Series(keyword_list, name='Keywords')], axis=1)\n",
    "\n",
    "    return result_df"
   ]
  },
  {
   "cell_type": "code",
   "execution_count": 22,
   "id": "c060bd17",
   "metadata": {},
   "outputs": [],
   "source": [
    "main_topic_df = get_main_topic_df(lda_model, corpus, processed_text)"
   ]
  },
  {
   "cell_type": "code",
   "execution_count": 23,
   "id": "372d6f86",
   "metadata": {},
   "outputs": [],
   "source": [
    "# len(main_topic_df)"
   ]
  },
  {
   "cell_type": "code",
   "execution_count": 24,
   "id": "1eec31b5",
   "metadata": {},
   "outputs": [
    {
     "data": {
      "image/png": "[encoded data removed]",
      "text/plain": [
       "<Figure size 576x396 with 1 Axes>"
      ]
     },
     "metadata": {},
     "output_type": "display_data"
    }
   ],
   "source": [
    "plt.style.use('seaborn')\n",
    "\n",
    "grouped_topics = main_topic_df.groupby('Dominant_topic')\n",
    "grouped_topics.count()['Processed_text'].\\\n",
    "    plot.bar(rot=0).\\\n",
    "    set(title=f'Dominant Topic Frequency in the {len(comments)} Comments',\n",
    "        ylabel='Topic frequency');\n"
   ]
  },
  {
   "cell_type": "markdown",
   "id": "ab50b048",
   "metadata": {},
   "source": [
    "## Representative data\n",
    "\n",
    "What's the \"most representative\" comment we have in the data for each topic?  "
   ]
  },
  {
   "cell_type": "code",
   "execution_count": 25,
   "id": "6e0218a5",
   "metadata": {},
   "outputs": [
    {
     "name": "stdout",
     "output_type": "stream",
     "text": [
      "\n",
      "        Document: 11  \n",
      "        Dominant topic: 0\n",
      " \n",
      "    \n",
      "Just completed Red Bluff to Fortuna on route 36. Unbelievable! Here in the UK we have some twisties but none that go on for 140 miles through spectacular scenery on roads that no one else seems to use! Rode \"two up\" on a 2006 Harley Softail Heritage which was good for the first 70 miles but very limited thereafter. Asked several people in Red Bluff if there was fuel on the way but no one knew. Why? Because no one used the road. On hearing that, I brimmed the bikewith premium, rode past the sign \"twisties next 140 miles\", held my breath and hoped for the best as the Harley was good on the straights for 130'ish miles from a tank. The first 40 odd miles are sweeping curves on glorious tarmac with supreme contours in the road. Through ranching country towards the snow-capped hills, after 48 miles there is Plantina. One store with one gas pump selling regular. Filled up, had a coffee and a chat with the lady who must see very few people in her daily routine and headed on, safe in the knowledge that I would reach Fortuna. I could relax, but not too much as the\r\n",
      "corners and views on the middle section are equally spectacular and can take you by surprise. Stop as much as you can cause you wont see this scenery every day! The road surfaces in the middle section are sometimes very rough with rockfalls and gravel to contend with but once through that, the last third of this road mirrors the first section with more sweeping bends allowing you to plan two and three corners in advance. I cant do justice to this road. I ride the TT course on the Isle of Man every year and that takes my breath away but the length, the road quality, the scenery, the cambers the sheer emptiness of both the road and the countryside is amazing. I went from Red Bluff to Fortuna and never came across another vehicle going westbound. I was riding for periods of 15 to 20 minutes without seeing another vehicle. Amazing! One regret, Harleys are the wrong bike for this road. I ride an Aprilia RSV R which would be good but could I stand after 140 miles of route 36? At my age I doubt it. Best bike in my opinion, any \"sit-up\" V-twin (Aprilia Tuono, Ducati Monster or Streetfighter) with good ground clearance. The engine does the braking leaving you off the brake lever able to look at the spectacular\r\n",
      "road that is coming at you at  great speed. Do this road and every other one will fade into mediocrity.\r\n",
      "\r\n",
      "Frazzamacca, UK.,I was just riding 36 and hwy 3 today it's a great road but not the best in the area.  I live in Redding and ride this area a lot and much prefer hwy 3 from 36 through hayfork on up to Yreka.  If you are into some really fast riding try Gazelle (north of Weed) to Cecilville, there is absolutly no traffic (or cops) and the road from Callahan to Cecilville is unbelievable.  If you really are adventuresome try the \"Forks of the Salmon\" loop from Callahan through Cecilville along the south fork of the Salmon then back up the north fork on Sawyers Bar Rd to Etna.  I live in motorcycle heaven!,I have been across SR-36 more times than I can count in the past 40 years. Often on a motorcycle. I love this road. It is much safer than it used to be by far. HOWEVER, it has many obstacles in the form of gravel on blind corners, rocks from slides, oncoming vehicles in your lane around blind corners, big trucks, locals driving fast, etc, etc. S-o-o-o, be very careful.                                                                                                 What has become known as the \"Rollercoaster\" section (named decades ago) starts west of Red Bluff & continues for 20 miles (?) or so. Most of the original roller coaster is gone, replaced by re-routing of the road years ago. BUT, there are several reminders of that road still left. Off camber tight corners, rises that can get you air born by surprise, Hidden corners right after a steep rise & fall. If care is taken, this road is awesome. Here are a few suggestions for first timers- (1) If you can\"t see asphalt beyond the rise, SLOW way down, road may turn sharply & force you into oncoming lane or the bank. (2) Watch for hidden gravel around Every blind corner, vehicles dip into inside corners & spray gravel all over, very common. (3)  If you don't already, learn to use outside edge of road on left corners (I prefer a late braking style), squaring off @ apex, gives you room & a chance to alter you path as needed when a giant dodge pick-up is in the middle of your road. (4) Right hand blind corners I use late braking/square the corner style, however must be ready to dive to the inside if vehicle in your lane & avoid gravel at the same time. (5) Don't leave red Bluff with out a full tank, Platina not always available, next fuel is Dinsmore. If heading east, fill up in Dinsmore. (6) It can get cold @ higher elevations, even in August. While it will probably be warm that time of year, be prepared anyway. (7) Critters, lots of them any time of year. I think I've hit 1 million squirrels over the years... Avoiding small animals is often a dangerous proposition on a road like this. I've hit a deer, had a few close ones with black bears... Mailboxes = dogs!!!                                                                          This road has fantastic vistas, incredible elevation changes, corners, a few straights, wonderful river accesses, a few campgrounds, redwoods to almost high desert, old homesteads, farms, ranches & a lot of \"way out there\"!!!  Be careful & enjoy\n",
      " ------- \n",
      "\n",
      "\n",
      "        Document: 98  \n",
      "        Dominant topic: 0\n",
      " \n",
      "    \n",
      "Iconic road and ride. During the summer it's usually packed with tourists and RV's,So good to get out of the city. Enjoyable easy ride.,I did this ride along with the 'Highway 1 - San Mateo Coast' ride. We started on Friday after work (from Dubbelju Motorcycle Rental) in downtown SF, rode down to Marina, CA (stopped at Gherkins for dinner) and crashed at the Motel 6. It has been recently renovated, and not a bad place to stop.,\r\n",
      "Had a beer at English Ales in Marina -- nice little local spot.,\r\n",
      "Breakfast at Coffee Mia was great!,\r\n",
      ",\r\n",
      "Then on down to this part of the trip. What an absolutely gorgeous ride!,\r\n",
      "Big Sur River Inn is a nice spot to eat and stretch your legs.\n",
      " ------- \n",
      "\n",
      "\n",
      "        Document: 1081  \n",
      "        Dominant topic: 0\n",
      " \n",
      "    \n",
      "Great route for a morning or afternoon ride. We live in Goodyear and left the house around 12PM. The ride up was fun with not a lot of traffic on the Wickenburg road. we toured the museum and had lunch at Anita's - Great Mexican food, by the way. We took the same route back and the scenery was even better with the sun setting.,\r\n",
      "This route is winding at the north end, which is always fun but be careful of the cattle guards and watch for sand on the road. ,\r\n",
      ",\r\n",
      "Ride Safe!,--\r\n",
      "Update: Agree with the poster that noted too many cattle guards, but that's what we have although I've never seen any cattle. Plus, the Vulture Mine changes how often and when it's open, so if you're planning a visit, call them first.\r\n",
      "--,This was a great ride.  Total solitude while riding the Vulture Mine Road from Tonopah to Wickenburg.  Unique view of the White Tank Mountains from the west on your right before riding easy turns through Vulture Mountains on the way to Wickenburg.  Only one on the road for miles!  \n",
      " ------- \n",
      "\n",
      "\n",
      "        Document: 2671  \n",
      "        Dominant topic: 1\n",
      " \n",
      "    \n",
      "Been on some of 821 north of Marietta a couple years ago, rode the stretch from Cambridge to 258 this weekend, nice ride, pavement was great up until about the end of Guernsey County, it was just okay after that.  We based in Cambridge for the weekend, beautiful Courthouse, it was all lit up red, white, and blue at night.  Ate at the Tlaquepaque Mexican restaurant off 209 south of Cambridge back in by Walmart, food was great, frozen margaritas were fantastic!   Have to do the whole ride one of these days.  ,This is a very odd route as it's mapped out here. There's a hell of a lot of slab, a bit of 'Old Twenty One Road' and bits of 821. I've been on 2 of the 3. The slab is...not fun, or scenic. 821 can be amusing, but it's mostly just a North/South road in the area with some sweepers and Old Twenty One Road just...doesn't look special. Perhaps next time cut the route down on the map to just the title of the route, because as this is it's a bit of a mess.,Great part of our ride.  Road offered turns and bends; ups and downs, and got us from point A to point B\r\n",
      "Day 3 Marietta, OH to Parkersburg, WVA\tName => Ohio’s Dragon Tail\t ~ 266 Miles\r\n",
      "Marietta OH to McConnelsville OH -> \t\tWayne National Forest Run\t\t#27 in Ohio\r\n",
      "McConnelsville OH to Glouster OH ->\t\tOhio’s Dragon Tail\t\t\t#4 in Ohio\r\n",
      "Glouster OH to Chester Hill Oh ->\t\tRidgetop Fun on Rt. 377\t\t\t#58 in Ohio\r\n",
      "Chester Hill OH to Brush Creek OH ->\t\tThe Triple Nickel Rt. 555\t\t#1 in Ohio\r\n",
      "Brush Creek OH to Beverly OH ->\t\tRiver Run Rt. 60\t\t\t\t#27 in Ohio\r\n",
      "Beverly OH to Dexter City OH ->\t\t\tOhio Rt. 339\t\t\t\t#76 in Ohio\r\n",
      "Stop in McConnelsville for homemade sweets at MoCo’s Dip-n-Sip\r\n",
      "Dexter City OH to Lower Salem OH ->\t\tOld US 21\t\t\t\t#68 in Ohio\r\n",
      "Lower Salem OH to Clarington OH ->\t\tThe Roller Coaster Rt. 145\t\t#56 in Ohio\r\n",
      "Clarington OH to Altitude OH ->\t\t\tSykes Ridge Road County Rd 4\t\t#58 in Ohio\r\n",
      "Altitude OH to Hannibal OH ->\t\t\tcousin of “The Tail of The Dragon”\t#2 in Ohio\r\n",
      "\n",
      " ------- \n",
      "\n",
      "\n",
      "        Document: 202  \n",
      "        Dominant topic: 1\n",
      " \n",
      "    \n",
      "As stated in my summary, this road isn't some slick shit killer like 536 or the freshly paved, as of July 2020, 255. It's more of an alternative to 78 E or W. I recommend coming up 536 North and then sliding onto Sykes, if you want to go East. By then you're already at the end of 536, pretty much.\r\n",
      "\r\n",
      "Pavement as of July 2020 is a 3 to 4 out of 5. There's one sudden dip in the road you can here me call out in the video. There's also 2 decent size potholes that may or may not be there when you ride this road. (I imagine they'll fill the things at some point. Those pot holes are much closer to the Ohio river side, and significant enough that you should be able to spot them well before you hit them, which is good, because God help you if you do hit them.)\r\n",
      "\r\n",
      "Overall 3.5/5,I like the ride on OH-78 from 536 to 7, so we made a little loop.  Came off 556 from Beallsville, turned south onto 7, pass the BP at OH-78 & 7 intersection, like Akumu said... after crossing bridge over Sunfish Creek, hang a right onto Sykes Ridge Rd, it's marked. (It's only about 3/4 of mile south of OH-556).  We ran Sykes Ridge out to 536, went up to 78 East and back to Clarington (OH-7), 18 mile 30 minute loop,  Sykes Ridge is a nice cruiser with a few views over the ridge.  Road isn't in great shape, but it's easily doable, especially if your just cruising along.  Hardly any traffic, encountered a car or two, was just a nice laid back ride, would do it again. ,nice road conditions and just enough turns and hills to make this an easy morning ride;\r\n",
      "Day 3 Marietta, OH to Parkersburg, WVA\tName => Ohio’s Dragon Tail\t ~ 266 Miles\r\n",
      "Marietta OH to McConnelsville OH -> \t\tWayne National Forest Run\t\t#27 in Ohio\r\n",
      "McConnelsville OH to Glouster OH ->\t\tOhio’s Dragon Tail\t\t\t#4 in Ohio\r\n",
      "Glouster OH to Chester Hill Oh ->\t\tRidgetop Fun on Rt. 377\t\t\t#58 in Ohio\r\n",
      "Chester Hill OH to Brush Creek OH ->\t\tThe Triple Nickel Rt. 555\t\t#1 in Ohio\r\n",
      "Brush Creek OH to Beverly OH ->\t\tRiver Run Rt. 60\t\t\t\t#27 in Ohio\r\n",
      "Beverly OH to Dexter City OH ->\t\t\tOhio Rt. 339\t\t\t\t#76 in Ohio\r\n",
      "Stop in McConnelsville for homemade sweets at MoCo’s Dip-n-Sip\r\n",
      "Dexter City OH to Lower Salem OH ->\t\tOld US 21\t\t\t\t#68 in Ohio\r\n",
      "Lower Salem OH to Clarington OH ->\t\tThe Roller Coaster Rt. 145\t\t#56 in Ohio\r\n",
      "Clarington OH to Altitude OH ->\t\t\tSykes Ridge Road County Rd 4\t\t#58 in Ohio\r\n",
      "Altitude OH to Hannibal OH ->\t\t\tcousin of “The Tail of The Dragon”\t#2 in Ohio\r\n",
      "\n",
      " ------- \n",
      "\n",
      "\n",
      "        Document: 1539  \n",
      "        Dominant topic: 1\n",
      " \n",
      "    \n",
      "This is a great ride during the weekday after work.  Great views and less traffic during weekday.,soldier on to roosevelt lake.,The repave was scheduled for last Spring, but ADOT took down all the signs and has postponed indefinitely. Not worth the effort to hit those last 8 miles until that happens because the road surface is brutal, and traffic is always a problem on weekend.  The food at Tortilla Flat should avoided. Better options right at beginning of Apache Trail Rd, but it would be a GREAT road if and when it gets redone.\n",
      " ------- \n",
      "\n",
      "\n",
      "        Document: 882  \n",
      "        Dominant topic: 2\n",
      " \n",
      "    \n",
      "Southwest PA is not especially known for it's twisties, but rather it's access to twisties. However, when the weather is cold out I don't want to ride my typical 450 miles loops so I stay closer to home with routes like this, 221, 130 and such. All solid rides that aren't especially challenging, but good enough to keep you entertained until the weather warms up and allows you to expand your mileage. (Or perhaps time is an issue and you want to stay closer to home for that sake.) Regardless, this is a solid road, never really boring, but not exactly challenging either. The stereotypical cruiser ride would like this road.\n",
      " ------- \n",
      "\n",
      "\n",
      "        Document: 883  \n",
      "        Dominant topic: 2\n",
      " \n",
      "    \n",
      "Southwest PA is not especially known for it's twisties, but rather it's access to twisties. However, when the weather is cold out I don't want to ride my typical 450 miles loops so I stay closer to home with routes like this, 231, 130 and such. All solid rides that aren't especially challenging, but good enough to keep you entertained until the weather warms up and allows you to expand your mileage. (Or perhaps time is an issue and you want to stay closer to home for that sake.) Regardless, this is a solid road, never really boring, but not exactly challenging either. The stereotypical cruiser ride would like this road.\n",
      " ------- \n",
      "\n",
      "\n",
      "        Document: 103  \n",
      "        Dominant topic: 2\n",
      " \n",
      "    \n",
      "It's the PCH.... That's ALL you need to know. Get a motorcycle and get on it!,after a couple of days in lemoore to visit famil,, headed west on 98 then to rt 25 both great roads to ride with little traffic. we then headed over to  santa cruz, and stayed the night in pacifica. great views and awesome road. rode over golden gate bridge, then caught one up to fort bragg wow. if in the area although you are interstate 80 riding  over truckee pass is sweet. did 7600 miles over 28 days,DOne it twice, missed the third when the washout occurred\n",
      " ------- \n",
      "\n",
      "\n",
      "        Document: 236  \n",
      "        Dominant topic: 3\n",
      " \n",
      "    \n",
      "I was the rider who nominated the route for publishing.,As of 9/26/2020, there are two articles related to Caesar's Head.  One takes you from Brevard (\"Caesar's Ascent\") and the other from Hwy 11 (\"Caesar's Head\").  Going to attempt a cross post in both. \r\n",
      "\r\n",
      "Rode Hwy 276 on 9/19/20 from Cherokee Foothills Scenic Hwy 11 to Brevard, NC.  Video is not excellent, but will give you some ideas of the road quality as of 2020.   https://youtu.be/Pe-zINWqMz4\r\n",
      "\r\n",
      "Picking up from Hwy 11, it's a spirited ride.  The road condition has deteriorated with some spots where the road has been undermined and some signs of pavement sloughing.  (Rated 4 for the excellent curves, but only \"fair\" road condition)\r\n",
      "\r\n",
      "Automobile traffic is courteous.  Plenty of pullouts allow slower traffic to let others pass.  The park at Caesar's Head was closed when i passed.  It was a Saturday and they had reached capacity.  Watch for people parking on the roadside on days like this.,I did this route almost every week the fall if 2020. Great scenery and fun twisties to take. I need to get on it with a sporty bike and fewer tourists in the way.\n",
      " ------- \n",
      "\n",
      "\n",
      "        Document: 711  \n",
      "        Dominant topic: 3\n",
      " \n",
      "    \n",
      "West of 77 to 555 is a great ride. McConnelsville has a great place to eat ( Wing Slingers ) and some of the best looking women in Ohio. This whole ride is a higher speed ride with alot of sweepers.,Link for rt 78.  https://en.wikipedia.org/wiki/Ohio_State_Route_78,State Route 78 (SR 78) is a state highway that runs for 105 miles (169 km) from Nelsonville to Clarington in the U.S. state of Ohio. Car and Driver has called it one of the most scenic highways nationwide.[2] The stretch of this highway that runs along the south side of Burr Oak State Park in Morgan County, Ohio, is well known for its extreme curves and views, and is sometimes locally referred to as the \"Rim of the World.\" Much of this highway runs through old coal-producing areas,This is just a really nice ride! Twists, curves, sweepers, some banked and good pavement. Go right past Big Muskie. Good food in McConnelsville and Caldwell, really like Boondocks just north of McConnelsville on 60. ,Pretty cool mural in downtown Caldwell.\n",
      " ------- \n",
      "\n",
      "\n",
      "        Document: 1795  \n",
      "        Dominant topic: 3\n",
      " \n",
      "    \n",
      "A good stretch of road. The road can be a little rough in areas. I will be back to ride it again.,I've rode this 3 times now it's a pleasure the surface is good with lots of well banked sweeping curves that allow you to throttle right threw them no need to stop at McConnelsville go at least to 77,Link for Rt. 78.  https://en.wikipedia.org/wiki/Ohio_State_Route_78,State Route 78 (SR 78) is a state highway that runs for 105 miles (169 km) from Nelsonville to Clarington in the U.S. state of Ohio. Car and Driver has called it one of the most scenic highways nationwide.[2] The stretch of this highway that runs along the south side of Burr Oak State Park in Morgan County, Ohio, is well known for its extreme curves and views, and is sometimes locally referred to as the \"Rim of the World.\" Much of this highway runs through old coal-producing areas\n",
      " ------- \n",
      "\n",
      "\n",
      "        Document: 1282  \n",
      "        Dominant topic: 4\n",
      " \n",
      "    \n",
      "Not included in the route unfortunately.   About 1 mile north of Columbia along 441, at the top of the hill, is a park named Chickies Rocks.  It has the best river overlook in southern PA. And you can drive to within a few yards of the overlook  \r\n",
      "\r\n",
      ",From Wrightsville down the ride was excellent Used Garmin ZUMO 595 set for twisties and followed the route for the most part south to Havre De Grace then coming north roads were more highway through countryside. Would highly recommend this ride.\n",
      " ------- \n",
      "\n",
      "\n",
      "        Document: 119  \n",
      "        Dominant topic: 4\n",
      " \n",
      "    \n",
      "Nice ride a lot of twist and turns it was some loose gravel that spooked me but I made it thru the ride just wasn't long enough for me ,Nice ride a lot of twist and turns it was some loose gravel that spooked me but I made it thru the ride just wasn't long enough for me \n",
      " ------- \n",
      "\n",
      "\n",
      "        Document: 1205  \n",
      "        Dominant topic: 4\n",
      " \n",
      "    \n",
      "Decent road, especially for the area.  There ARE some decreasing radius corners depending on which way you ride the road.  Cruisers be warned!  I have personally helped more than one cruiser rider from the area into an ambulance because they overcooked the entry.  They aren't difficult corners, but it's so flat and straight around here that people get surprised even after being warned.\n",
      " ------- \n",
      "\n",
      "\n",
      "        Document: 1437  \n",
      "        Dominant topic: 5\n",
      " \n",
      "    \n",
      "loved the route great start to our day,Rode this back in July, came down NC-226 from NC-261 (Roan Mountain).  Ran small loop (226 & 226A), then from Little Switzerland took 226A back out to 226, rode south to US-221 then south on 221 to US-70 west to NC-80 (Devil's Whip) and ran it up to US-19E (Micaville).  If I recall correctly road conditions on 80 were a little rough in spots, but all in all it was a really nice ride!  ,loved the route great start to our day\n",
      " ------- \n",
      "\n",
      "\n",
      "        Document: 1532  \n",
      "        Dominant topic: 5\n",
      " \n",
      "    \n",
      "This loop is amazing! It has the most incredible scenery you will probably ever see. The road itself is so fun to ride, its constant curve for miles and miles and even on a beautiful weekend I had no problems getting stuck behind slow moving vehicles (at least for long). I talked to a biker who has travel from coast to coast in both the U.S. and Canada and he said the stretch of road between Pemberton and Lillooet is now his #1 road that he has ever riden. I highly recommend that anyone that is traveling near this area take this route!,Have ridden several times in both directions\n",
      " ------- \n",
      "\n",
      "\n",
      "        Document: 1499  \n",
      "        Dominant topic: 5\n",
      " \n",
      "    \n",
      "This is an awesome ride. West Vancouver to Squamish is stunning scenery along the new Sea-to-Sky Hwy 99 - the reverse direction is great too. The Starbucks referred to is in Squamish. The Duffy Lake stretch especially westbound to Pemberton is absolutely stunning. Eastern half of this route is a little rough though.,This loop is amazing! It has the most incredible scenery you will probably ever see. The road itself is so fun to ride, its constant curve for miles and miles and even on a beautiful weekend I had no problems getting stuck behind slow moving vehicles (at least for long). I talked to a biker who has travel from coast to coast in both the U.S. and Canada and he said the stretch of road between Pemberton and Lillooet is now his #1 road that he has ever riden. I highly recommend that anyone that is traveling near this area take this route!,Have ridden several times in both directions\n",
      " ------- \n",
      "\n"
     ]
    }
   ],
   "source": [
    "representatives = pd.DataFrame()\n",
    "\n",
    "for k in grouped_topics.groups.keys():\n",
    "    representatives = pd.concat([ representatives, \n",
    "                                 grouped_topics.get_group(k).sort_values(['Percent'], ascending=False).head(3)])\n",
    "# representatives\n",
    "for i in range(len(representatives)):\n",
    "    print(f'''\n",
    "        Document: {representatives.index[i]}  \n",
    "        Dominant topic: {representatives.loc[representatives.index[i]]['Dominant_topic']}\\n \n",
    "    ''')\n",
    "    print(texts[representatives.index[i]] + '\\n ------- \\n')"
   ]
  },
  {
   "cell_type": "markdown",
   "id": "b88cd52c",
   "metadata": {},
   "source": [
    "## Length of documents in each topic"
   ]
  },
  {
   "cell_type": "code",
   "execution_count": 26,
   "id": "390b2453",
   "metadata": {},
   "outputs": [],
   "source": [
    "def word_count_by_topic(topic=0):\n",
    "    d_lens = [len(d) for d in grouped_topics.get_group(topic)['Processed_text']]\n",
    "    plt.hist(d_lens, bins=50)\n",
    "    large = plt.gca().get_ylim()[1]\n",
    "    d_mean = round(np.mean(d_lens), 1)\n",
    "    d_median = np.median(d_lens)\n",
    "    plt.plot([d_mean, d_mean], [0,large], label='Mean = {}'.format(d_mean))\n",
    "    plt.plot([d_median, d_median], [0,large], label='Median = {}'.format(d_median))\n",
    "    plt.legend()\n",
    "    plt.gca().set(xlabel='Document word count', ylabel='Number of documents', xlim=(0, 450), \n",
    "            title='Distribution of Comment Lengths for {} Comments in Topic {}'.format(len(d_lens), topic));"
   ]
  },
  {
   "cell_type": "code",
   "execution_count": 27,
   "id": "22f8619e",
   "metadata": {
    "scrolled": true
   },
   "outputs": [
    {
     "data": {
      "application/vnd.jupyter.widget-view+json": {
       "model_id": "8501c534802e4351917a079abc57db8d",
       "version_major": 2,
       "version_minor": 0
      },
      "text/plain": [
       "interactive(children=(IntSlider(value=0, description='Topic', max=5), Output()), _dom_classes=('widget-interac…"
      ]
     },
     "metadata": {},
     "output_type": "display_data"
    }
   ],
   "source": [
    "slider = IntSlider(min=0, max=num_topics-1, step=1, value=0, description='Topic')\n",
    "interact(word_count_by_topic, topic=slider);"
   ]
  },
  {
   "cell_type": "markdown",
   "id": "3707be3a",
   "metadata": {},
   "source": [
    "## Top word distribution per topic"
   ]
  },
  {
   "cell_type": "code",
   "execution_count": 28,
   "id": "12c520ea",
   "metadata": {
    "scrolled": true,
    "slideshow": null
   },
   "outputs": [
    {
     "name": "stdout",
     "output_type": "stream",
     "text": [
      "Indices of top words: \n",
      "{7682, 17923, 388, 24965, 24966, 29831, 86280, 650, 17931, 15759, 56725, 792, 665, 1690, 1309, 3874, 7844, 2982, 14502, 83114, 86199, 46391, 3898, 14650, 25916, 95931, 5566, 9281, 5315, 4550, 2250, 36171, 14541, 16718, 46035, 24440, 4950, 17494, 13271, 7385, 5593, 72025, 14169, 96221, 73955, 34151, 3051, 10732, 9453, 6514, 8691, 3317, 15992, 20474}\n",
      "\n"
     ]
    },
    {
     "data": {
      "text/plain": [
       "[Text(0, 0.5, 'Word frequency'),\n",
       " Text(0.5, 1.0, 'Word Frequencies by Topic, Combining the Top 54 Words in Each Topic')]"
      ]
     },
     "execution_count": 28,
     "metadata": {},
     "output_type": "execute_result"
    },
    {
     "data": {
      "image/png": "[encoded data removed]",
      "text/plain": [
       "<Figure size 1080x360 with 1 Axes>"
      ]
     },
     "metadata": {},
     "output_type": "display_data"
    }
   ],
   "source": [
    "lda_top_words_index = set()\n",
    "for i in range(lda_model.num_topics):\n",
    "    lda_top_words_index = lda_top_words_index.union([k for (k,v) in lda_model.get_topic_terms(i)])\n",
    "\n",
    "print('Indices of top words: \\n{}\\n'.format(lda_top_words_index))\n",
    "words_we_care_about = [{dictionary[tup[0]]: tup[1] for tup in lst if tup[0] in lda_top_words_index} \n",
    "                       for lst in corpus]\n",
    "lda_top_words_df = pd.DataFrame(words_we_care_about).fillna(0).astype(int).sort_index(axis=1)\n",
    "lda_top_words_df['Cluster'] = main_topic_df['Dominant_topic']\n",
    "(\n",
    "    lda_top_words_df\n",
    "    .groupby('Cluster').sum().transpose()\n",
    "    .plot.bar(figsize=(15, 5), width=0.7)\n",
    "    .set(ylabel='Word frequency', \n",
    "         title=f'Word Frequencies by Topic, Combining the Top {len(lda_top_words_index)} Words in Each Topic')\n",
    ")"
   ]
  },
  {
   "cell_type": "markdown",
   "id": "4fc46144",
   "metadata": {
    "slideshow": null
   },
   "source": [
    "## Coherence scores based on number of topics"
   ]
  },
  {
   "cell_type": "code",
   "execution_count": 17,
   "id": "eba5d361",
   "metadata": {
    "slideshow": null
   },
   "outputs": [],
   "source": [
    "coherence_scores = []\n",
    "\n",
    "for n in range(1, 11):\n",
    "    mod = gensim.models.ldamodel.LdaModel(corpus=corpus, \n",
    "                                          id2word=dictionary,\n",
    "                                          num_topics=n, \n",
    "                                          random_state=117, update_every=1,\n",
    "                                          chunksize=1500, \n",
    "                                          passes=5, iterations=10,\n",
    "                                          alpha='asymmetric', eta=1/100,\n",
    "                                          per_word_topics=True)\n",
    "    cmodel = gensim.models.coherencemodel.CoherenceModel(model=mod,\n",
    "                                                 texts=processed_text,\n",
    "                                                 dictionary=dictionary)\n",
    "    coherence_scores.append((n, cmodel.get_coherence()))\n",
    "\n",
    "topic_range = [coherence_scores[i][0] for i in range(len(coherence_scores))]\n",
    "cscore = [coherence_scores[i][1] for i in range(len(coherence_scores))]"
   ]
  },
  {
   "cell_type": "code",
   "execution_count": 18,
   "id": "3d5fab0d",
   "metadata": {},
   "outputs": [
    {
     "name": "stdout",
     "output_type": "stream",
     "text": [
      "Coherence scores for the ngram range: (2, 3) \n",
      " [(1, 0.2481953894927499), (2, 0.36974942871513117), (3, 0.49621836131342634), (4, 0.506817108993558), (5, 0.5694850700442649), (6, 0.5783379905360885), (7, 0.6018908634055268), (8, 0.5923857622727005), (9, 0.5965844116374854), (10, 0.5790567928589875)]\n"
     ]
    },
    {
     "data": {
      "text/plain": [
       "[<matplotlib.lines.Line2D at 0x7fefaa4a3850>]"
      ]
     },
     "execution_count": 18,
     "metadata": {},
     "output_type": "execute_result"
    },
    {
     "data": {
      "image/png": "[encoded data removed]",
      "text/plain": [
       "<Figure size 576x396 with 1 Axes>"
      ]
     },
     "metadata": {},
     "output_type": "display_data"
    }
   ],
   "source": [
    "print(f'Coherence scores for the ngram range: {ngram_range} \\n {coherence_scores}')\n",
    "plt.plot(topic_range,cscore)"
   ]
  },
  {
   "cell_type": "markdown",
   "id": "2ce69ac1",
   "metadata": {
    "slideshow": null
   },
   "source": [
    "# Conclusions\n",
    "\n",
    "- There seem to be 3-4 groups of users making comments on this website.\n",
    "- IF 3:\n",
    "    0. The 'core' group of users make most of the comments.\n",
    "    1. The second group are those who are not as frequent commenters, but when they do post, they usually share videos/links to other sites.\n",
    "    2. The last group do not frequently comment or share videos/links.\n",
    "- IF 4:\n",
    "    0. The 'core' group of users make most of the comments.\n",
    "    1. Post like core group, but less overall. Maybe newer members/budding 'core' group?\n",
    "    2. People riding the tail of the dragon.\n",
    "    3. Other infrequent posters."
   ]
  },
  {
   "cell_type": "code",
   "execution_count": null,
   "id": "4202f24a",
   "metadata": {},
   "outputs": [],
   "source": []
  }
 ],
 "metadata": {
  "kernelspec": {
   "display_name": "Python 3 (ipykernel)",
   "language": "python",
   "name": "python3"
  },
  "language_info": {
   "codemirror_mode": {
    "name": "ipython",
    "version": 3
   },
   "file_extension": ".py",
   "mimetype": "text/x-python",
   "name": "python",
   "nbconvert_exporter": "python",
   "pygments_lexer": "ipython3",
   "version": "3.9.6"
  },
  "varInspector": {
   "cols": {
    "lenName": 16,
    "lenType": 16,
    "lenVar": 40
   },
   "kernels_config": {
    "python": {
     "delete_cmd_postfix": "",
     "delete_cmd_prefix": "del ",
     "library": "var_list.py",
     "varRefreshCmd": "print(var_dic_list())"
    },
    "r": {
     "delete_cmd_postfix": ") ",
     "delete_cmd_prefix": "rm(",
     "library": "var_list.r",
     "varRefreshCmd": "cat(var_dic_list()) "
    }
   },
   "types_to_exclude": [
    "module",
    "function",
    "builtin_function_or_method",
    "instance",
    "_Feature"
   ],
   "window_display": false
  }
 },
 "nbformat": 4,
 "nbformat_minor": 5
}
