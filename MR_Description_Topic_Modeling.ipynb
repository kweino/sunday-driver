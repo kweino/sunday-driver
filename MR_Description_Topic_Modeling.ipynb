{
 "cells": [
  {
   "cell_type": "markdown",
   "id": "ed6c1ab4",
   "metadata": {},
   "source": [
    "# Latent Dirichlet Allocation (LDA) for MR Route Descriptions"
   ]
  },
  {
   "cell_type": "code",
   "execution_count": 1,
   "id": "1798252b",
   "metadata": {},
   "outputs": [],
   "source": [
    "import numpy as np\n",
    "import pandas as pd\n",
    "import gensim\n",
    "import re\n",
    "import spacy\n",
    "from spacy.lang.en.stop_words import STOP_WORDS\n",
    "from pprint import pprint\n",
    "from sklearn.feature_extraction.text import CountVectorizer\n",
    "import matplotlib.pyplot as plt\n",
    "from ipywidgets import interact, IntSlider"
   ]
  },
  {
   "cell_type": "code",
   "execution_count": 2,
   "id": "e9772343",
   "metadata": {},
   "outputs": [
    {
     "data": {
      "text/plain": [
       "0       The valley road winds beside the Paint Rock Ri...\n",
       "1       The valley road winds beside the Paint Rock Ri...\n",
       "2       Drive through a nice slide of Central Alabama ...\n",
       "3       County Rd 14 west of the Natchez Trace runs al...\n",
       "4       On this route you will find several homes and ...\n",
       "                              ...                        \n",
       "2069    The route travels through the SW Missouri plai...\n",
       "2070    Goes through vineyards and rolling hills with ...\n",
       "2071    The route goes through typical mid-Missouri co...\n",
       "2072    This route has some of the best of the Missour...\n",
       "2073    There are some beautiful lookout points along ...\n",
       "Name: description, Length: 2074, dtype: object"
      ]
     },
     "execution_count": 2,
     "metadata": {},
     "output_type": "execute_result"
    }
   ],
   "source": [
    "#import data\n",
    "valid_states = ['Alabama', 'California', 'Georgia', 'Missouri', 'Illinois', 'Ohio',\n",
    "       'Kentucky', 'Colorado', 'United States', 'Indiana', 'New York',\n",
    "       'Vermont', 'Texas', 'Florida', 'Minnesota', 'Virginia',\n",
    "       'Oklahoma', 'Arkansas', 'Maryland', 'West Virginia',\n",
    "       'Michigan', 'North Carolina', 'Oregon', 'Pennsylvania',\n",
    "       'Washington', 'New Jersey', 'Alaska',\n",
    "       'South Carolina', 'Utah', 'New Hampshire', 'Iowa', 'Louisiana',\n",
    "       'Mississippi', 'Wisconsin',\n",
    "       'South Dakota', 'Wyoming', 'Massachusetts', 'New Mexico',\n",
    "       'Montana', 'Idaho', 'Nevada', 'Arizona',\n",
    "       'Kansas', 'Northeast', 'Southwest', 'Golf Coast', 'Southeast',\n",
    "       'Tennessee', 'Nebraska', 'Delaware', 'Pacific Coast',\n",
    "       'Appalachian Mountains', 'Maine', 'Rhode Island', 'Connecticut',\n",
    "       'North Dakota', 'Hawaii']\n",
    "\n",
    "route_data_RAW = pd.read_csv('route_data_RAW.csv')\n",
    "route_data_RAW['description'] = route_data_RAW.agg(lambda x: f\"{x['scenery_description']}, {x['drive_enjoyment_description']}, {x['tourism_description']}\", axis=1)\n",
    "route_data_RAW.description"
   ]
  },
  {
   "cell_type": "code",
   "execution_count": 4,
   "id": "80344dc3",
   "metadata": {},
   "outputs": [],
   "source": [
    "#Preprocessing\n",
    "\n",
    "STOP_WORDS = STOP_WORDS.union({'ll', 've', 'pron',\n",
    "                                'good','great', 'nice',\n",
    "                                'ride','route','road','rt','roads'\n",
    "                              })"
   ]
  },
  {
   "cell_type": "markdown",
   "id": "488dae99",
   "metadata": {},
   "source": [
    "## Text Processing"
   ]
  },
  {
   "cell_type": "code",
   "execution_count": 45,
   "id": "8363c949",
   "metadata": {},
   "outputs": [],
   "source": [
    "ngram_range = (2,3)\n",
    "vectorizer = CountVectorizer(ngram_range=ngram_range,\n",
    "                             stop_words=STOP_WORDS,\n",
    "                            )\n",
    "analyzer = vectorizer.build_analyzer()\n",
    "\n",
    "texts = route_data_RAW.scenery_description.values.tolist()\n",
    "processed_text = [analyzer(text) for text in texts]"
   ]
  },
  {
   "cell_type": "code",
   "execution_count": 46,
   "id": "e4e4a0f9",
   "metadata": {},
   "outputs": [
    {
     "name": "stdout",
     "output_type": "stream",
     "text": [
      "Number of unique tokens: 116123\n"
     ]
    }
   ],
   "source": [
    "dictionary = gensim.corpora.Dictionary(processed_text)\n",
    "print('Number of unique tokens: {}'.format(len(dictionary)))"
   ]
  },
  {
   "cell_type": "code",
   "execution_count": 47,
   "id": "cc309fbc",
   "metadata": {},
   "outputs": [],
   "source": [
    "corpus = [dictionary.doc2bow(t) for t in processed_text]"
   ]
  },
  {
   "cell_type": "markdown",
   "id": "3a1adf9e",
   "metadata": {},
   "source": [
    "## Initial LDA Model"
   ]
  },
  {
   "cell_type": "code",
   "execution_count": 48,
   "id": "497d922f",
   "metadata": {},
   "outputs": [
    {
     "name": "stdout",
     "output_type": "stream",
     "text": [
      "[(0,\n",
      "  '0.005*\"rolling hills\" + 0.002*\"small towns\" + 0.002*\"national forest\" + '\n",
      "  '0.002*\"state park\" + 0.002*\"river valley\" + 0.001*\"national park\" + '\n",
      "  '0.001*\"tree lined\" + 0.001*\"farm land\" + 0.001*\"little traffic\" + '\n",
      "  '0.001*\"wooded areas\"'),\n",
      " (1,\n",
      "  '0.002*\"rolling hills\" + 0.002*\"state park\" + 0.001*\"farm land\" + '\n",
      "  '0.001*\"national forest\" + 0.001*\"wide open\" + 0.001*\"small towns\" + '\n",
      "  '0.001*\"river valley\" + 0.001*\"st louis\" + 0.001*\"small town\" + '\n",
      "  '0.001*\"places stop\"')]\n"
     ]
    }
   ],
   "source": [
    "#LDA model parameters\n",
    "num_topics = 2\n",
    "num_words = 10\n",
    "\n",
    "lda_model = gensim.models.ldamodel.LdaModel(corpus=corpus, \n",
    "                                            id2word=dictionary,\n",
    "                                            num_topics=num_topics, \n",
    "                                            random_state=17, update_every=1,\n",
    "                                            chunksize=1500, \n",
    "                                            passes=5, iterations=10,\n",
    "                                            alpha='asymmetric', eta=1/100,\n",
    "                                            per_word_topics=True)\n",
    "\n",
    "pprint(lda_model.print_topics(num_words=num_words))"
   ]
  },
  {
   "cell_type": "code",
   "execution_count": 49,
   "id": "7982a89a",
   "metadata": {},
   "outputs": [
    {
     "data": {
      "text/plain": [
       "[(0, 0.026569823), (1, 0.9734302)]"
      ]
     },
     "execution_count": 49,
     "metadata": {},
     "output_type": "execute_result"
    }
   ],
   "source": [
    "# get_document_topics method shows the topics found \n",
    "# in each corpus doc\n",
    "lda_model.get_document_topics(corpus[1])"
   ]
  },
  {
   "cell_type": "code",
   "execution_count": 50,
   "id": "3b67b4aa",
   "metadata": {},
   "outputs": [],
   "source": [
    "# extracts dominant topic (and percentage) for each comment\n",
    "\n",
    "def get_main_topic_df(model, bow, texts):\n",
    "    topic_list = []\n",
    "    percent_list = []\n",
    "    keyword_list = []\n",
    "    \n",
    "    for wc in bow:\n",
    "        topic, percent = sorted(model.get_document_topics(wc), key=lambda x: x[1], reverse=True)[0]\n",
    "        topic_list.append(topic)\n",
    "        percent_list.append(round(percent, 3))\n",
    "        keyword_list.append(' '.join(sorted([x[0] for x in model.show_topic(topic)])))\n",
    "\n",
    "    result_df = pd.concat([pd.Series(topic_list, name='Dominant_topic'), \n",
    "                           pd.Series(percent_list, name='Percent'), \n",
    "                           pd.Series(texts, name='Processed_text'), \n",
    "                           pd.Series(keyword_list, name='Keywords')], axis=1)\n",
    "\n",
    "    return result_df"
   ]
  },
  {
   "cell_type": "code",
   "execution_count": 51,
   "id": "b62b89ab",
   "metadata": {},
   "outputs": [],
   "source": [
    "main_topic_df = get_main_topic_df(lda_model, corpus, processed_text)"
   ]
  },
  {
   "cell_type": "code",
   "execution_count": 52,
   "id": "ad54e409",
   "metadata": {},
   "outputs": [],
   "source": [
    "# len(main_topic_df)"
   ]
  },
  {
   "cell_type": "code",
   "execution_count": 53,
   "id": "9feaa968",
   "metadata": {},
   "outputs": [
    {
     "data": {
      "image/png": "[encoded data removed]",
      "text/plain": [
       "<Figure size 576x396 with 1 Axes>"
      ]
     },
     "metadata": {},
     "output_type": "display_data"
    }
   ],
   "source": [
    "plt.style.use('seaborn')\n",
    "\n",
    "grouped_topics = main_topic_df.groupby('Dominant_topic')\n",
    "grouped_topics.count()['Processed_text'].\\\n",
    "    plot.bar(rot=0).\\\n",
    "    set(title=f'Dominant Topic Frequency in the {len(route_data_RAW)} Descriptions',\n",
    "        ylabel='Topic frequency');\n"
   ]
  },
  {
   "cell_type": "markdown",
   "id": "fa3ae979",
   "metadata": {},
   "source": [
    "## Representative data\n",
    "\n",
    "What's the \"most representative\" comment we have in the data for each topic?  "
   ]
  },
  {
   "cell_type": "code",
   "execution_count": 54,
   "id": "617c808b",
   "metadata": {},
   "outputs": [
    {
     "name": "stdout",
     "output_type": "stream",
     "text": [
      "\n",
      "        Document: 810  \n",
      "        Dominant topic: 0\n",
      " \n",
      "    \n",
      "It is 59 miles one-way. Hope others enjoy it as much as I did.  The general scenery you'll see along the way comprises of farm land, timber land, punctuated by old towns, and hills.  \r\n",
      "For a more detailed rundown of what you'll see on this ride, keep reading.  This is a trip I took not too long ago that was surpisingly nice (to me.)\r\n",
      "\r\n",
      "Starting at Albany, LA on Highway 190 or from Hammond, make your way west on Highway 190 to Albany. Albany seems like a small community right out of the 1960s with buildings out of the 1940s, perhaps. I am very curous about the Pentacostal Church sign at Hwy 190 and 43; it's the biggest sign around these parts. Not much to Albany except a very leisurely 35 MPH speed limit (Observe it! Not much to do in Albany but ticket speeders and go to church, I think!)\r\n",
      "Once you get on Highway 43 North, the ride improves 100%. Very nice rolling turns, not too sharp, and shaded sections of road. Careful of some occassional logging and farm traffic along this road. You are near timber-leases and farmland here. \r\n",
      "\r\n",
      "Take this road north about 14 miles to near Montpeiler, where you can catch Highway 16 east towards Amite.\r\n",
      "The road surface of Hwy 16 is excellent -- you can pick up your pace, and why not? Not much to see but a well-maintained highway with rural pasture land on either side. After about 6.5 miles, you will come to 'civilization' with shopping malls, fast food joints, and I-55 crossing overhead. Don't dispair, don't stop. You are passing this up ...unless you need fuel or want some coffee.\r\n",
      "\r\n",
      "Go about one more mile and you arrive in Amite City's downtown area, which has wonderful old buildings, converted train depot that once served the old IC railroad, and some old houses and hardware stores. It begs one to stop for a few minutes after turning left to go north on highway 51, where a roadside parking area is next to the old train depot and a small municipal park.  \r\n",
      "Murphy's Family Restaurant and Loco Java Coffee and Tea are nearby here, but if you can, wait! A real treat awaits in McComb at the end of this trip.\r\n",
      "\r\n",
      "Run north along side the railroad up Highway 51 towards Mississippi. You'll pass Roseland, Fluker, Tangipahoa (the town), and Kentwood, all nice (and very small) communities forcing you to slow down a bit and ponder \"what do people do around here.\" I think Kentwood produces 1990s child pop singers, but can only recall one named Britney S-omething or other. Anyway, while you can't really see it at this point, you are also running parallel to the Tangipahoa River to your east. You will get closer to it and I'll mention a detour if you actually want to cross it and risk hitting some deer.\r\n",
      "\r\n",
      "Approximately 19 miles after leaving Amite is Osyka, Mississippi, and this is where Highway 51 starts undulating with a few hills. The hills get progessively more steep, and you'll actually have to slow down in some spots to be safe about potential traffic on the blind hills. This is true at Osyka and about 3.5 miles north of Osyka at Chatawa (St. Mary drive on your right.) Now here is where you can get a glimpse of some old, rural timber land, farms and St. Mary of the Pines if you care to take a right onto St. Mary Drive towards OLD Highway 51. The Detour is not great in condition but it is paved. It will force you to cross the Tangipahoa River at the Chatawa Post Office (next to the river and in the middle of seemingly NOWHERE.) I don't know what people do here these days except maybe pick up their mail.. hunt and drill for natural gas and oil.\r\n",
      "\r\n",
      "This area is where deer will run along the road and possibly in front of you. Careful! It is curvy and hilly so you'll have to slow down quite a bit. This area was settled by old New Orleans families and eventually the Catholic nuns at St. Mary's back in the 19th and early 20th centuries. It was a refuge from the Yellow Fever epidemics and eventually good timber and crop land. And yes, the Tuscaloosa Marine Shale is tens of thousands of feet underground and evidently capably of producing a lot of natural gas and oil... Back to the ride>\\.\r\n",
      "\r\n",
      "OLD Highway 51 is reached from this detour using St. Mary Rd, where you'll want to turn left to go north into Magnolia. Old 51 forks at Pleasant Springs Rd. (go Left) then turn left again when that road terminates at Centerville. Centerville joins Highway 48 E (take a left yet again), which takes you right into downtown Magnolia, Mississippi. \r\n",
      "\r\n",
      "If you opted to stay on the Newer Highway 51, it rolls up and down hills right into Magnolia proper. Nice court house. Nice people. Or, breeze up Highway 51 to McComb if you see it is near 11:00 AM. Hwy 51 turns into S. Broadway Street at McComb. Stay on a bit and take a left at 5th Ave for lunch (11:00 AM to 2:00 PM T - Sun) at the Dinner Bell Restaurant. It's real round-table dining with authentic Southern Mississippi food in an older looking home! Huge lazy-susan buffet style feast to enjoy with total strangers. For large groups traveling and eating together, they request a call ahead or reservations, otherwise, pull in and grab a seat!\n",
      " ------- \n",
      "\n",
      "\n",
      "        Document: 1017  \n",
      "        Dominant topic: 0\n",
      " \n",
      "    \n",
      "This loop ride travels first through the North Platte River valley before heading east toward Laramie.  In this section of highway, you will increase in elevation, topping out at Libby Flats at 10,600 feet where there is a spectacular view of the surrounding landscape and an observation area.  You will pass through some beautiful forests and experience many different alpine ecosystems with many places to stop and hike or fish or just enjoy the majesty of this place.  A stop at Laka Marie is not only advised but almost a necessity.  You will have a breathtaking view of Medicine Bow Peak, a sheer cliff of granite rising above Lake Marie to an elevation over 12,000 feet.  This is an excellent picture spot with hiking trails that show even more of the spectacular views.  After passing through Centennial, Wyoming which is an old, quaint former mining and timber town, you will travers the grasslands which are beautiful in their own rite.  At Laramie, you will turn and head toward Woods Landing and then dipping down into Colorado after rising back into the forested, mountainous terrain.  This highway has plenty of twisties to keep your intererst when you are not marveling at the scenery and perhaps seeing some of the abundant wildlife (deer, antelope, elk, coyotes, rabbits).  Near Walden, you enter what is called the North Park of Colorado, a high mountain valley where the North Platte flows from its beginnings in the Colorado Rockies.  High mountains rise above you in every direction as you pass through this are and back to Saratoga via the old copper mining town of Encampment, home of the Encampment Museum\n",
      " ------- \n",
      "\n",
      "\n",
      "        Document: 212  \n",
      "        Dominant topic: 0\n",
      " \n",
      "    \n",
      "This route specializes in scenery, history and some great motorcycle roads. You will be traveling along the nation's first attempt at a federal road that was built back in the early 1800's to encourage settlers to journey into the new frontier to the west. It is known as the 'Old National Road' and along this route you will see one of the few remaining toll-gates designed to help pay for upkeep of the road. Settlers would use this road as their launching point for destinations as far as Oregon, San Francisco, Santa Fe, and Colorado.This route also covers ground where young 22-year-old George Washington led British troops against the French. This act lead to the beginning of the French and Indian war which was one of the factors leading to the England's policy to tax the colonies. It was this 'taxation without representation' that provoked the colonist to rise up against their English King leading to the Revolutionary War. And as if completing a circle it was George Washington who led the colonist to victory and the birth of the greatest nation on earth.This route also passes by the Antietam National Battlefield. It was here where the bloodiest day of battle (September 17, 1862) was fought in the entire Civil War. You can learn about the battle that took the lives of 23,000 men at the visitor center and tour the battleground on your bike or on foot.The scenery on this route is outstanding because of its path through the Allegheny Mountains in the Maryland panhandle. Much of the route takes place near rivers, creaks and in valleys and you will be able to see some waterfalls. Past the town of Cumberland the route takes you up against some 1,000-foot bluffs.\n",
      " ------- \n",
      "\n",
      "\n",
      "        Document: 846  \n",
      "        Dominant topic: 0\n",
      " \n",
      "    \n",
      "This trip starts at the southern outskirts of Phoenix city limits on Hwy 87 and runs south parallel with Interstate 10 before jogging eastward toward Florence, AZ. From Florence, take Hwy 79 due south through virgin unspoiled Sonoran desert. This merges into Hwy 77 and you continue south skirting the western slopes of the Santa Catalina Mt. range of north Tucson. As you enter Tucson, you head east again through the heart of Tucson and reach the base of Mt. Lemmon on the eastern end of town. The sign at the base indicates 30 miles to the top of Mt. lemmon consisting of huge, sweeping curves and breathtaking scenic vistas as you climb from Tucsons 2400ft. above sea level elevation to over 9000ft at the summit. Since it was still early March, we were thankful we had some layers of warm clothing under our leather. The views as you ascended were impressive and it took everything to keep your eyes on the road as you took in the expanding valley below you. We stopped several times, as the view across the San Pedro River Valley to the east was stunning. As you neared the top, the quaint little mountain town of Summerhaven greets you. With a ski slope and lift, this little town does well during the winter months, but inclement weather can close portions of the road going up, if only temporarily. My riding partner and I reached the top and had lunch at a neat little cabin-like restaurant and shared our thoughts and comments on this terrific ride. On our way back to Phoenix we stopped at a roadside memorial on Hwy 79 just south of Florence commemorating cowboy Tom Mix who was killed in a car accident on this very spot. All in all, a really nice little run. With summer temperatures reaching 112 degrees and warmer, the trip down through the desolate desert isnt recommended. Will definitely be coming back this fall.\r\n",
      "\r\n",
      "\"daoist\" added the following in Sep of 2014: \"This route circles the Catalina mountains on the west side and then goes straight to the top from the north. The route starts out in Tucson and immediately gets you out of the urban jungle by heading north on AZ 77 to Oracle.  Then the adventure really begins taking the dirt road up to Summerhaven!\"\n",
      " ------- \n",
      "\n",
      "\n",
      "        Document: 982  \n",
      "        Dominant topic: 0\n",
      " \n",
      "    \n",
      "State HWY63 North from Columbia, Mo to State HWY124 (~12mi):  This super-slab divided 4-lane highway can be very fast, but quickly releases you into the famous lush rolling hills of Missouri.  There's a gas-stop north of town, you should consider stopping if you're low on fuel, or need a bathroom.  Next fuel is almost 20 miles (Fayette) further along this route.  Just past the fuel, you'll find Finger Lakes State Park.  You should explore that when you have time.  This leg terminates at HWY 124 (W), very near Pinnacles Park.  Huers Cafe is there as well...a great little greasy spoon.\r\n",
      "State HWY124 (W) from ST HWY63 to Harrisburg, Mo (~12mi):\r\n",
      "This leg is well-kept blacktop (fresh in 2012) that winds its way through heavily wooded areas.  Careful of that pair of \"S\" turns.  No biggie, but the inexperienced should obey the speed limit through there.  This leg makes the whole ride for many people.  While you can head back south on State Route E (more winding fun), I suggest going on into Harrisburg.  You can always grab some BBQ there.  Don't worry, you can't miss the spot.\r\n",
      "\r\n",
      "State HWY124 (W) from Harrisburg to Fayette, Mo (~13mi):\r\n",
      "This stretch of pavement is also fresh in 2012, and forest has given way to open fields and, not far out of town, you'll cross over the Moniteau River.  It's not much of a river really, but marks your entry into Howard County.  After another set of lovely \"S\" turns you'll have a chance to open it up on some straight open stretches.  Enjoy the nice set of hills!  Before you know it, you're just outside of Fayette.  Go on into town - you'll find Emmet's there on the square.  My hats off to the chef.\r\n",
      "\r\n",
      "State HWY240(E) & State HWY40 from Fayette to Columbia, Mo (~22mi):  Take it easy on this high quality asphalt.  Just follow the signs back to Columbia and relax.  You'll see Agriculture along the way.  Do be careful of our friends working in the field.  Those tractors could be around any corner!  There's a good mix of straight streches, hills, and corners along this route.  Even a novice will not have to fall below the speed limit to negotiate this leg.  Once on 40, you'll quickly cross back over the Moniteau River (now looking more like a river) into Boone County.  A more dramatic bottom land only a few miles from the MIssouri River.  You can always pop through Rocheport if you wish.  Can you find the old train tunnel through the bluff on the south side of town?\r\n",
      "\r\n",
      "Enjoy, and be safe!\n",
      " ------- \n",
      "\n",
      "\n",
      "        Document: 1410  \n",
      "        Dominant topic: 1\n",
      " \n",
      "    \n",
      "The entrance station and visitor center are in the foreground of a virtual tapestry of red and tan sandstone. Up this wall of solid rock snakes the entry road. Near the top, a pull-off will let you look back at a geologic fault line running up the valley you just left. Everything on the west side is younger rock than anything on your side. \r\n",
      "Further progression will take you past amazing views of contorted, eroded, colorful sandstone rock layers. You'll see alcoves, points, domes, walls and even some balanced rocks. You will have a number of places to park to hike or just take photos. (Note: 95% of my photos were taken while sitting on my bike.)\r\n",
      "\r\n",
      "These unbelievable landforms were formed after deep underground salt deposits eroded and shifted allowing the surface rocks to weather in unique ways. The main attraction are the arches of which there are over 2,000 in the park. The number is not fixed as more get discovered and are formed or destroyed by the wind and water continuingly sculpting the rock.\r\n",
      "\r\n",
      "One of the first overlooks is of a wide open area with the La Sal mountains in the background. They are lumpy and jagged on the tops as they were formed by forces pushing up, while this park's rocks were formed by layers under seas and lakes before being eroded from the top. The landform walls here are mostly vertical.\r\n",
      "\r\n",
      "The next stop will be at the Windows Area where there are several arches easily hikable. As you approach this area you will pass Balanced Rock which was in the opening scene in Indiana Jones and the Last Crusade. On down the main road will take you to a turn that brings you to the parking area for a look at the old Wolf Ranch (used in the late 1800s) and start of the moderately difficult hiking trail up to Delicate Arch (probably the most photographed arch in the world). Unfortunately, no bikes, although you can take the paved road further on to the lower view of the arch with a short walk.\r\n",
      "\r\n",
      "The main road will then take you past more beautiful views and overlooks. A stop at Sand Dune Arch will let you take a real short hike up to one near the road. You will also pass a lot of gnarly juniper trees and dark green pinyon pine, the main trees in the park.\r\n",
      "\r\n",
      "Landscape Arch at the end of the road is a 1.6 mile hike out and back, but is the most spectacular in length. At 290', it's the longest natural arch in the world. We used to be able to hike under it, but several slabs have broken off in the last twenty years and the trail is now closed. Don't know how long it will last. One earthquake would doom it. \r\n",
      "\r\n",
      "Of course, if you have time and energy, there are many trails out to many arches you could take. But as this is a m.c. site, you can still see a lot by never leaving your bike. \r\n",
      "\r\n",
      "The movies shot here include Indiana Jones and the Last Crusade (1988), Thelma & Louise (1990), Nurse Betty (2000), and others. At the Red Cliffs Lodge along Hwy. 128 (the Colorado River), at m.p.14 are displays and lists of all the movies and ads using this area.\r\n",
      "\r\n",
      "Although there are usually lots of tourists, I find that with a bike I can always find niches to park in to stretch or take photos. Just beware of tour busses, they don't slow down for anybody! Do stop at all the pullouts as each is a different aspect of geology. \r\n",
      "\r\n",
      "The visitor center is pretty new and has good info. A pass for the park can be used at nearby Canyonlands locations, too.\n",
      " ------- \n",
      "\n",
      "\n",
      "        Document: 320  \n",
      "        Dominant topic: 1\n",
      " \n",
      "    \n",
      "This tour begins at the end of Glen Cove Road (route 107) in Glen Cove on Long Island. As you meander through the affluent suburban neighborhoods of Lattingtown and Locust Valley, you will slalom through well paved twisties lined with beautiful homes and foliage. As you travel north on Bayville road, you ride along the waters edge of the Long Island Sound where you can stop and relax on a peaceful North Shore beach or eat in one of the many restaurants along Bayville Road. A stop at the Tiki Bar is a local bikers favorite destination. The restaurants along this stretch of road offer great local seafood and outdoor dining.After crossing the drawbridge the road changes to West Shore Road in Oyster Bay. The road hugs the Long Island Sound where you can admire the beautiful boats moored in Oyster Bay Harbor or take a right along any side street and be treated to the sights of F. Scott Fitzgerald's literary setting. Once in the Town of Oyster Bay, you are in a great walking town where you can stroll while eating the local Pizza, eat a New York bagel, have some ice cream or try a slice of Long Islands famous Italian Pizza. Back on the bikes heading east, visiting Teddy Roosevelt's House at Sagamore Hill is a well worthwhile side trip. After several miles traveling south on Oyster Bay road, you turn east on Northern Boulevard, more commonly referred to as 25A. This stretch of road meanders through the towns of Cold Spring Harbor and Huntington. Huntington is known as Long Island's best village. Again, you can eat any type of ethnic food ranging from Sushi, to Indian, Chinese, American, Indian, Italian, or Greek. From the center of town, you travel north along West Neck Road, through the town of Lloyd Harbor to Caumset State Park. Once again you are riding along the Long Island Sound through areas reminiscent of The Great Gatsby. At the end of the road is Target Rock, a large Boulder perched at the entrance of Huntington Harbor which was once used for target practice by the British Navy. Target Rock has a lovely hike to the water and a small rest stop with bathrooms. Once back on 25A, travel east to the town of Centerport where a small shanty type structure called the Shack awaits the hungry biker. From Spring until Autumn, this is a major stomping ground for Long Island bikers. Most of the bikers, however, tend to be dentists, lawyers, doctors, and accountants out for a little motorcycle therapy and a cold drink.The trip offers the rider an opportunity to take just about any side road and be treated to well paved two lane roads meandering through lovely estates. Travel north from anywhere off 25A and you will be surrounded by lovely homes with lavishly landscaped properties. Also, try visiting the towns of Northport or Stony Brook on your way to Port Jefferson. This nautical village is home of the Ferry to Connecticut and is another favorite biker destination. You can simply reverse the route to return or if you are in a hurry, take route 112 south from Port Jefferson to the Long Island Expressway West.\n",
      " ------- \n",
      "\n",
      "\n",
      "        Document: 36  \n",
      "        Dominant topic: 1\n",
      " \n",
      "    \n",
      "The scenery on this route is the best coastal scenery you are going to find in LA County. The Palos Verdes peninsula with its hills, cliffs, and impressive elevation offers breathtaking scenery and its only 40 minutes or so from downtown LA. If you live in/near LA and haven't discovered it yet, you've really been missing out on an incredible coastal area. If you follow the path that I spell out below in my directions, you'll start out on a large hill overlooking the southern coast of LA. From there you can see the Port of Los Angeles and all the huge commercial ships coming in and going out as well as smaller pleasure boats. As you drive you'll wind your way around to the southwest and eventually western coastal areas along high cliffs that give you a great view of the ocean scenery (especially beautiful during sunsets!!!). If you're lucky and the weather is clear over the water, you'll see the beautiful and mysterious Catalina Island. Many people in LA have no idea that such large and beautiful island is parked just off shore because the island often is not visible. However, when the ocean air is clear enough, you'll be amazed at the large island sitting only 20 or so miles of shore. You'll also get a great inland view high above LA's south bay towns (Rolling Hills Estates, San Pedro, etc.) if you take Palos Verdes Drive East detour that I recommend in my directions below. This road will take you nearly to the very top of the Palos Verdes hill where you'll be at a great vantage point over the areas below. This is especially pretty at night with all the lights. Also, since this area has some of the most dramatic ocean views near LA, you'll see some magnificent houses in some really upscale neighborhoods that are positioned to take advantage of the wonderful coastal views.\n",
      " ------- \n",
      "\n",
      "\n",
      "        Document: 1055  \n",
      "        Dominant topic: 1\n",
      " \n",
      "    \n",
      "The canyon down from Bagdad, a copper mining area, has a variety of igneous and metamorphic rock formations, all derived from old volcanic and underground action. The hills for the next 25 miles are mostly old volcanic remnants and towards the end, rounded granite boulders. The vegetation is varied, but mostly lusher desert types with plenty of bushes and smaller trees, not like the drier conditions at lower elevations with sparse, small bushes. \r\n",
      "At mm25, the road straightens out as it crosses eroded volcanic flows and sharp, shallow canyons cut into the rocky soil. You can see the edges of the old basaltic flow of molten rock 500 feet higher than the roadway and sharp drop-offs into an older layer. The vegetation along here shows the lack of rainfall. This section ends at Kirkland, which is no more than a few houses and one bar/restaurant.\r\n",
      "\r\n",
      "As you travel up the stream bottom on the way up Iron Springs Road (Hwy. 10), there is a lovely canyon with broadleaf trees such as cottonwood. They are not so common in the western part of the state. In 7 miles, you'll reach the small community of Skull Valley. There is a cafe, garage, and a small museum here (although it's never been open when I've come by).\r\n",
      "\r\n",
      "The gradual climb up this road gives nice views of the mountains to the north. As you get to about mm19, the trees become more plentiful. (Kirkland is 3,930' elevation, Prescott is 5,400'). There are a number of conifer (cone bearing) trees here such as the pinion pine (a round shape), juniper (a pointed top, small tree) and, on the more shady slopes, ponderosa pine. The ponderosa is tall and quite attractive with its giraffe looking bark and long leaves. \r\n",
      "\r\n",
      "You enter the outskirts of Prescott now, and can find full services. You can return the same way you came, or take Hwy. 89 for different views to the south and a very curvy few miles out of town if you head back down towards Wickenburg (elevation 2,100').\n",
      " ------- \n",
      "\n",
      "\n",
      "        Document: 578  \n",
      "        Dominant topic: 1\n",
      " \n",
      "    \n",
      "WV 28 offers a variety of scenery along its path. Headed North from WV39 at Huntersville, the road weaves its way through the Monongahela forest. When you aren't riding through a thick canopy of lush forest, you are cruising through a beautiful valley with mountains on your right and your left. You will hug the banks of a white-water stream as you cruise through the Seneca Rocks area. From beginning to end - WV28 is a visual treat! Road Quality: 5WV 28 has a very nice \"rhythm\" to it - not many tight corners, just one slight curve after another as you ride along the valley floor. There are a few sections with significant elevation changes on the southern end, but you won't find any mountain carving switchbacks on this road - just an abundance of easy to moderate curves. The condition of the tarmac is very good throughout the whole route! Roadside Amenities:: 4For such a secluded road there are many things to see and to do. Headed North from Huntersville: At mile 18 - you can take a slight detour at WV66 and head to the Cass Scenic Railroad State Park.The Cass railroad offers excursions on steam-driven locomotives that are filled with rich histories of the past, unparalleled views of a vast wilderness area, and close-up encounters with original steam-driven locomotives.Just a few miles North of WV66 you will find the Green Bank National Radio Observatory.Green Bank is home to the world's largest fully steerable radio telescope. Tours of the facility are provided - it looks like great destination for a field trip!At mile 65 you can stop at the Seneca Rocks and go for a climb!Further up the road - there are many places to stop and eat, fish, hike, or go canoeing on the river!\n",
      " ------- \n",
      "\n"
     ]
    }
   ],
   "source": [
    "representatives = pd.DataFrame()\n",
    "\n",
    "for k in grouped_topics.groups.keys():\n",
    "    representatives = pd.concat([ representatives, \n",
    "                                 grouped_topics.get_group(k).sort_values(['Percent'], ascending=False).head(5)])\n",
    "# representatives\n",
    "for i in range(len(representatives)):\n",
    "    print(f'''\n",
    "        Document: {representatives.index[i]}  \n",
    "        Dominant topic: {representatives.loc[representatives.index[i]]['Dominant_topic']}\\n \n",
    "    ''')\n",
    "    print(texts[representatives.index[i]] + '\\n ------- \\n')"
   ]
  },
  {
   "cell_type": "markdown",
   "id": "c130a718",
   "metadata": {},
   "source": [
    "There seem to be two dominant topics in this set of comments. \n",
    "\n",
    "Two types of roads:\n",
    "1. Roads for the RIDE (Topic 0)\n",
    "2. Roads for the VIEW (Topic 2)"
   ]
  },
  {
   "cell_type": "markdown",
   "id": "9ea3f07f",
   "metadata": {},
   "source": [
    "## Length of documents in each topic"
   ]
  },
  {
   "cell_type": "code",
   "execution_count": 55,
   "id": "3fec021e",
   "metadata": {},
   "outputs": [],
   "source": [
    "def word_count_by_topic(topic=0):\n",
    "    d_lens = [len(d) for d in grouped_topics.get_group(topic)['Processed_text']]\n",
    "    plt.hist(d_lens, bins=50)\n",
    "    large = plt.gca().get_ylim()[1]\n",
    "    d_mean = round(np.mean(d_lens), 1)\n",
    "    d_median = np.median(d_lens)\n",
    "    plt.plot([d_mean, d_mean], [0,large], label='Mean = {}'.format(d_mean))\n",
    "    plt.plot([d_median, d_median], [0,large], label='Median = {}'.format(d_median))\n",
    "    plt.legend()\n",
    "    plt.gca().set(xlabel='Document word count', ylabel='Number of documents', xlim=(0, 450), \n",
    "            title='Distribution of Comment Lengths for {} Comments in Topic {}'.format(len(d_lens), topic));"
   ]
  },
  {
   "cell_type": "code",
   "execution_count": 56,
   "id": "cd55838f",
   "metadata": {
    "scrolled": true
   },
   "outputs": [
    {
     "data": {
      "application/vnd.jupyter.widget-view+json": {
       "model_id": "f409d4b1dcc04ec8b0547e20d70ae3c6",
       "version_major": 2,
       "version_minor": 0
      },
      "text/plain": [
       "interactive(children=(IntSlider(value=0, description='Topic', max=1), Output()), _dom_classes=('widget-interac…"
      ]
     },
     "metadata": {},
     "output_type": "display_data"
    }
   ],
   "source": [
    "slider = IntSlider(min=0, max=num_topics-1, step=1, value=0, description='Topic')\n",
    "interact(word_count_by_topic, topic=slider);"
   ]
  },
  {
   "cell_type": "markdown",
   "id": "f2bc8fc1",
   "metadata": {},
   "source": [
    "## Top word distribution per topic"
   ]
  },
  {
   "cell_type": "code",
   "execution_count": 57,
   "id": "2a866214",
   "metadata": {
    "scrolled": false,
    "slideshow": null
   },
   "outputs": [
    {
     "data": {
      "text/plain": [
       "[Text(0, 0.5, 'Word frequency'),\n",
       " Text(0.5, 1.0, 'Word Frequencies by Topic, Combining the Top 14 Words in Each Topic')]"
      ]
     },
     "execution_count": 57,
     "metadata": {},
     "output_type": "execute_result"
    },
    {
     "data": {
      "image/png": "[encoded data removed]",
      "text/plain": [
       "<Figure size 1080x360 with 1 Axes>"
      ]
     },
     "metadata": {},
     "output_type": "display_data"
    }
   ],
   "source": [
    "lda_top_words_index = set()\n",
    "for i in range(lda_model.num_topics):\n",
    "    lda_top_words_index = lda_top_words_index.union([k for (k,v) in lda_model.get_topic_terms(i)])\n",
    "\n",
    "\n",
    "words_we_care_about = [{dictionary[tup[0]]: tup[1] for tup in lst if tup[0] in lda_top_words_index} \n",
    "                       for lst in corpus]\n",
    "\n",
    "lda_top_words_df = pd.DataFrame(words_we_care_about).fillna(0).astype(int).sort_index(axis=1)\n",
    "lda_top_words_df['Cluster'] = main_topic_df['Dominant_topic']\n",
    "\n",
    "(\n",
    "    lda_top_words_df\n",
    "    .groupby('Cluster').sum().transpose()\n",
    "    .plot.bar(figsize=(15, 5), width=0.7)\n",
    "    .set(ylabel='Word frequency', \n",
    "         title=f'Word Frequencies by Topic, Combining the Top {len(lda_top_words_index)} Words in Each Topic')\n",
    ")"
   ]
  },
  {
   "cell_type": "markdown",
   "id": "cee13bbe",
   "metadata": {
    "slideshow": null
   },
   "source": [
    "## Coherence scores based on number of topics"
   ]
  },
  {
   "cell_type": "code",
   "execution_count": 58,
   "id": "a1d4f582",
   "metadata": {
    "slideshow": null
   },
   "outputs": [
    {
     "name": "stdout",
     "output_type": "stream",
     "text": [
      "Coherence scores for the ngram range: (2, 3) \n",
      " [(1, 0.4911214295599162), (2, 0.5436075707473813), (3, 0.4829600283581616), (4, 0.5167982842327203), (5, 0.5360777625878905), (6, 0.5436201249044619), (7, 0.6199922221500077), (8, 0.5852518203343744), (9, 0.6093228188157892), (10, 0.5690703575020952)]\n"
     ]
    },
    {
     "data": {
      "text/plain": [
       "[<matplotlib.lines.Line2D at 0x7f8d046e4bb0>]"
      ]
     },
     "execution_count": 58,
     "metadata": {},
     "output_type": "execute_result"
    },
    {
     "data": {
      "image/png": "[encoded data removed]",
      "text/plain": [
       "<Figure size 576x396 with 1 Axes>"
      ]
     },
     "metadata": {},
     "output_type": "display_data"
    }
   ],
   "source": [
    "coherence_scores = []\n",
    "\n",
    "for n in range(1, 11):\n",
    "    mod = gensim.models.ldamodel.LdaModel(corpus=corpus, \n",
    "                                          id2word=dictionary,\n",
    "                                          num_topics=n, \n",
    "                                          random_state=117, update_every=1,\n",
    "                                          chunksize=1500, \n",
    "                                          passes=5, iterations=10,\n",
    "                                          alpha='asymmetric', eta=1/100,\n",
    "                                          per_word_topics=True)\n",
    "    cmodel = gensim.models.coherencemodel.CoherenceModel(model=mod,\n",
    "                                                 texts=processed_text,\n",
    "                                                 dictionary=dictionary)\n",
    "    coherence_scores.append((n, cmodel.get_coherence()))\n",
    "    \n",
    "topic_range = [coherence_scores[i][0] for i in range(len(coherence_scores))]\n",
    "cscore = [coherence_scores[i][1] for i in range(len(coherence_scores))]\n",
    "\n",
    "print(f'Coherence scores for the ngram range: {ngram_range} \\n {coherence_scores}')\n",
    "plt.plot(topic_range,cscore)"
   ]
  },
  {
   "cell_type": "code",
   "execution_count": null,
   "id": "907147cf",
   "metadata": {},
   "outputs": [],
   "source": []
  }
 ],
 "metadata": {
  "kernelspec": {
   "display_name": "Python 3 (ipykernel)",
   "language": "python",
   "name": "python3"
  },
  "language_info": {
   "codemirror_mode": {
    "name": "ipython",
    "version": 3
   },
   "file_extension": ".py",
   "mimetype": "text/x-python",
   "name": "python",
   "nbconvert_exporter": "python",
   "pygments_lexer": "ipython3",
   "version": "3.9.6"
  },
  "varInspector": {
   "cols": {
    "lenName": 16,
    "lenType": 16,
    "lenVar": 40
   },
   "kernels_config": {
    "python": {
     "delete_cmd_postfix": "",
     "delete_cmd_prefix": "del ",
     "library": "var_list.py",
     "varRefreshCmd": "print(var_dic_list())"
    },
    "r": {
     "delete_cmd_postfix": ") ",
     "delete_cmd_prefix": "rm(",
     "library": "var_list.r",
     "varRefreshCmd": "cat(var_dic_list()) "
    }
   },
   "types_to_exclude": [
    "module",
    "function",
    "builtin_function_or_method",
    "instance",
    "_Feature"
   ],
   "window_display": false
  }
 },
 "nbformat": 4,
 "nbformat_minor": 5
}
