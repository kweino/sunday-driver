{
 "cells": [
  {
   "cell_type": "markdown",
   "id": "762b4754",
   "metadata": {},
   "source": [
    "# Latent Dirichlet Allocation (LDA) for MR Route Descriptions"
   ]
  },
  {
   "cell_type": "code",
   "execution_count": 1,
   "id": "2a6cc9ef",
   "metadata": {},
   "outputs": [],
   "source": [
    "import numpy as np\n",
    "import pandas as pd\n",
    "import gensim\n",
    "import re\n",
    "import spacy\n",
    "from spacy.lang.en.stop_words import STOP_WORDS\n",
    "from pprint import pprint\n",
    "from sklearn.feature_extraction.text import CountVectorizer\n",
    "import matplotlib.pyplot as plt\n",
    "from ipywidgets import interact, IntSlider"
   ]
  },
  {
   "cell_type": "code",
   "execution_count": 2,
   "id": "fbef44a8",
   "metadata": {},
   "outputs": [
    {
     "data": {
      "text/plain": [
       "0       The valley road winds beside the Paint Rock Ri...\n",
       "1       The valley road winds beside the Paint Rock Ri...\n",
       "2       Drive through a nice slide of Central Alabama ...\n",
       "3       County Rd 14 west of the Natchez Trace runs al...\n",
       "4       On this route you will find several homes and ...\n",
       "                              ...                        \n",
       "2069    The route travels through the SW Missouri plai...\n",
       "2070    Goes through vineyards and rolling hills with ...\n",
       "2071    The route goes through typical mid-Missouri co...\n",
       "2072    This route has some of the best of the Missour...\n",
       "2073    There are some beautiful lookout points along ...\n",
       "Name: description, Length: 2074, dtype: object"
      ]
     },
     "execution_count": 2,
     "metadata": {},
     "output_type": "execute_result"
    }
   ],
   "source": [
    "#import data\n",
    "valid_states = ['Alabama', 'California', 'Georgia', 'Missouri', 'Illinois', 'Ohio',\n",
    "       'Kentucky', 'Colorado', 'United States', 'Indiana', 'New York',\n",
    "       'Vermont', 'Texas', 'Florida', 'Minnesota', 'Virginia',\n",
    "       'Oklahoma', 'Arkansas', 'Maryland', 'West Virginia',\n",
    "       'Michigan', 'North Carolina', 'Oregon', 'Pennsylvania',\n",
    "       'Washington', 'New Jersey', 'Alaska',\n",
    "       'South Carolina', 'Utah', 'New Hampshire', 'Iowa', 'Louisiana',\n",
    "       'Mississippi', 'Wisconsin',\n",
    "       'South Dakota', 'Wyoming', 'Massachusetts', 'New Mexico',\n",
    "       'Montana', 'Idaho', 'Nevada', 'Arizona',\n",
    "       'Kansas', 'Northeast', 'Southwest', 'Golf Coast', 'Southeast',\n",
    "       'Tennessee', 'Nebraska', 'Delaware', 'Pacific Coast',\n",
    "       'Appalachian Mountains', 'Maine', 'Rhode Island', 'Connecticut',\n",
    "       'North Dakota', 'Hawaii']\n",
    "\n",
    "route_data_RAW = pd.read_csv('route_data_RAW.csv')\n",
    "route_data_RAW['description'] = route_data_RAW.agg(lambda x: f\"{x['scenery_description']}, {x['drive_enjoyment_description']}, {x['tourism_description']}\", axis=1)\n",
    "route_data_RAW.description"
   ]
  },
  {
   "cell_type": "code",
   "execution_count": 4,
   "id": "8b901456",
   "metadata": {},
   "outputs": [],
   "source": [
    "#Preprocessing\n",
    "\n",
    "STOP_WORDS = STOP_WORDS.union({'ll', 've', 'pron',\n",
    "                                'good','great', 'nice',\n",
    "                                'ride','route','road','rt','roads'\n",
    "                              })"
   ]
  },
  {
   "cell_type": "markdown",
   "id": "c288aaea",
   "metadata": {},
   "source": [
    "## Text Processing"
   ]
  },
  {
   "cell_type": "code",
   "execution_count": 45,
   "id": "fbd960e0",
   "metadata": {},
   "outputs": [],
   "source": [
    "ngram_range = (2,3)\n",
    "vectorizer = CountVectorizer(ngram_range=ngram_range,\n",
    "                             stop_words=STOP_WORDS,\n",
    "                            )\n",
    "analyzer = vectorizer.build_analyzer()\n",
    "\n",
    "texts = route_data_RAW.scenery_description.values.tolist()\n",
    "processed_text = [analyzer(text) for text in texts]"
   ]
  },
  {
   "cell_type": "code",
   "execution_count": 46,
   "id": "cb2782cb",
   "metadata": {},
   "outputs": [
    {
     "name": "stdout",
     "output_type": "stream",
     "text": [
      "Number of unique tokens: 116123\n"
     ]
    }
   ],
   "source": [
    "dictionary = gensim.corpora.Dictionary(processed_text)\n",
    "print('Number of unique tokens: {}'.format(len(dictionary)))"
   ]
  },
  {
   "cell_type": "code",
   "execution_count": 47,
   "id": "fbf4d47e",
   "metadata": {},
   "outputs": [],
   "source": [
    "corpus = [dictionary.doc2bow(t) for t in processed_text]"
   ]
  },
  {
   "cell_type": "markdown",
   "id": "3855754d",
   "metadata": {},
   "source": [
    "## Initial LDA Model"
   ]
  },
  {
   "cell_type": "code",
   "execution_count": 59,
   "id": "332393d2",
   "metadata": {},
   "outputs": [
    {
     "name": "stdout",
     "output_type": "stream",
     "text": [
      "[(0,\n",
      "  '0.012*\"rolling hills\" + 0.007*\"small towns\" + 0.005*\"state park\" + '\n",
      "  '0.005*\"national forest\" + 0.004*\"river valley\" + 0.004*\"little traffic\" + '\n",
      "  '0.004*\"national park\" + 0.003*\"tree lined\" + 0.003*\"farm land\" + '\n",
      "  '0.002*\"high desert\"'),\n",
      " (1,\n",
      "  '0.008*\"rolling hills\" + 0.007*\"farm land\" + 0.005*\"river valley\" + '\n",
      "  '0.003*\"state park\" + 0.003*\"mountain views\" + 0.003*\"places stop\" + '\n",
      "  '0.003*\"winds way\" + 0.003*\"scenic byway\" + 0.003*\"national forest\" + '\n",
      "  '0.003*\"tree lined\"'),\n",
      " (2,\n",
      "  '0.005*\"rolling hills\" + 0.004*\"ohio river\" + 0.003*\"state park\" + '\n",
      "  '0.003*\"continue north\" + 0.003*\"blue ridge\" + 0.003*\"puget sound\" + '\n",
      "  '0.003*\"beautiful scenery\" + 0.003*\"heavily wooded\" + 0.002*\"forested areas\" '\n",
      "  '+ 0.002*\"higher elevations\"'),\n",
      " (3,\n",
      "  '0.003*\"speed limits\" + 0.003*\"places stop\" + 0.002*\"yuba river\" + '\n",
      "  '0.002*\"table rock\" + 0.002*\"little towns\" + 0.002*\"11 miles\" + 0.002*\"rapid '\n",
      "  'elevation changes\" + 0.002*\"lake tahoe\" + 0.002*\"bike 10\" + 0.002*\"look '\n",
      "  'signs\"'),\n",
      " (4,\n",
      "  '0.007*\"national forest\" + 0.006*\"mark twain\" + 0.006*\"twain national\" + '\n",
      "  '0.006*\"mark twain national\" + 0.006*\"twain national forest\" + 0.004*\"tree '\n",
      "  'lined\" + 0.003*\"rolling hills\" + 0.003*\"national park\" + 0.003*\"small '\n",
      "  'towns\" + 0.003*\"recreation area\"'),\n",
      " (5,\n",
      "  '0.004*\"st louis\" + 0.003*\"national forest\" + 0.003*\"small towns\" + '\n",
      "  '0.002*\"tennessee river\" + 0.002*\"ohio river\" + 0.002*\"scenery changes\" + '\n",
      "  '0.002*\"day trip\" + 0.002*\"55 mph\" + 0.002*\"mph speed limit\" + 0.002*\"mph '\n",
      "  'speed\"'),\n",
      " (6,\n",
      "  '0.010*\"state park\" + 0.004*\"wide open\" + 0.003*\"tight turns\" + 0.003*\"ridge '\n",
      "  'rd\" + 0.003*\"open range\" + 0.003*\"early morning\" + 0.003*\"runs ridge\" + '\n",
      "  '0.003*\"world famous\" + 0.003*\"mountains rise\" + 0.003*\"beautiful views\"')]\n"
     ]
    }
   ],
   "source": [
    "#LDA model parameters\n",
    "num_topics = 7\n",
    "num_words = 10\n",
    "\n",
    "lda_model = gensim.models.ldamodel.LdaModel(corpus=corpus, \n",
    "                                            id2word=dictionary,\n",
    "                                            num_topics=num_topics, \n",
    "                                            random_state=17, update_every=1,\n",
    "                                            chunksize=1500, \n",
    "                                            passes=5, iterations=10,\n",
    "                                            alpha='asymmetric', eta=1/100,\n",
    "                                            per_word_topics=True)\n",
    "\n",
    "pprint(lda_model.print_topics(num_words=num_words))"
   ]
  },
  {
   "cell_type": "code",
   "execution_count": 60,
   "id": "3cb10cca",
   "metadata": {},
   "outputs": [
    {
     "data": {
      "text/plain": [
       "[(0, 0.010992302), (1, 0.9661714)]"
      ]
     },
     "execution_count": 60,
     "metadata": {},
     "output_type": "execute_result"
    }
   ],
   "source": [
    "# get_document_topics method shows the topics found \n",
    "# in each corpus doc\n",
    "lda_model.get_document_topics(corpus[1])"
   ]
  },
  {
   "cell_type": "code",
   "execution_count": 61,
   "id": "5a005f4a",
   "metadata": {},
   "outputs": [],
   "source": [
    "# extracts dominant topic (and percentage) for each comment\n",
    "\n",
    "def get_main_topic_df(model, bow, texts):\n",
    "    topic_list = []\n",
    "    percent_list = []\n",
    "    keyword_list = []\n",
    "    \n",
    "    for wc in bow:\n",
    "        topic, percent = sorted(model.get_document_topics(wc), key=lambda x: x[1], reverse=True)[0]\n",
    "        topic_list.append(topic)\n",
    "        percent_list.append(round(percent, 3))\n",
    "        keyword_list.append(' '.join(sorted([x[0] for x in model.show_topic(topic)])))\n",
    "\n",
    "    result_df = pd.concat([pd.Series(topic_list, name='Dominant_topic'), \n",
    "                           pd.Series(percent_list, name='Percent'), \n",
    "                           pd.Series(texts, name='Processed_text'), \n",
    "                           pd.Series(keyword_list, name='Keywords')], axis=1)\n",
    "\n",
    "    return result_df"
   ]
  },
  {
   "cell_type": "code",
   "execution_count": 62,
   "id": "226a10ec",
   "metadata": {},
   "outputs": [],
   "source": [
    "main_topic_df = get_main_topic_df(lda_model, corpus, processed_text)"
   ]
  },
  {
   "cell_type": "code",
   "execution_count": 63,
   "id": "009a8545",
   "metadata": {},
   "outputs": [],
   "source": [
    "# len(main_topic_df)"
   ]
  },
  {
   "cell_type": "code",
   "execution_count": 64,
   "id": "ba5ee3dc",
   "metadata": {},
   "outputs": [
    {
     "data": {
      "image/png": "[encoded data removed]",
      "text/plain": [
       "<Figure size 576x396 with 1 Axes>"
      ]
     },
     "metadata": {},
     "output_type": "display_data"
    }
   ],
   "source": [
    "plt.style.use('seaborn')\n",
    "\n",
    "grouped_topics = main_topic_df.groupby('Dominant_topic')\n",
    "grouped_topics.count()['Processed_text'].\\\n",
    "    plot.bar(rot=0).\\\n",
    "    set(title=f'Dominant Topic Frequency in the {len(route_data_RAW)} Descriptions',\n",
    "        ylabel='Topic frequency');\n"
   ]
  },
  {
   "cell_type": "markdown",
   "id": "95e01430",
   "metadata": {},
   "source": [
    "## Representative data\n",
    "\n",
    "What's the \"most representative\" comment we have in the data for each topic?  "
   ]
  },
  {
   "cell_type": "code",
   "execution_count": 65,
   "id": "feae5bd8",
   "metadata": {},
   "outputs": [
    {
     "name": "stdout",
     "output_type": "stream",
     "text": [
      "\n",
      "        Document: 685  \n",
      "        Dominant topic: 0\n",
      " \n",
      "    \n",
      "Climb out of the alpine meadows of Apline, AZ and travel through nearly all of the habitat zones available in New Mexico. As you descend through the pine forests you notice the gradual climb in temp and by the mid-point Buckhorn, you will need to start shedding some layers. Leaving Silver City, the road flattens out onto a high desert with tall grasses and few if any trees. Plenty places to pull over for photos and include the USFS Leopold picnic area. It is a nice area with an excellent description/map of the Gila Wilderness in the distance.\n",
      " ------- \n",
      "\n",
      "\n",
      "        Document: 736  \n",
      "        Dominant topic: 0\n",
      " \n",
      "    \n",
      "Although much of the road is just going through the woods, there are some scenic overlooks and one fairly short stretch runs right along the lake.  You should take the side trip (12mi roundtrip) up to the Pictured Rocks overlook.  You'll get great views of Lake Superior which according to the National Park Service is \"the largest, deepest, coldest, and most pristine of all the Great Lakes\".\n",
      " ------- \n",
      "\n",
      "\n",
      "        Document: 405  \n",
      "        Dominant topic: 0\n",
      " \n",
      "    \n",
      "Follows the Delaware River from Easton, PA to Dingman's Ferry. River scenery, rolling hills, mountains, forest. It has it all!Note: The abandoned town of Wallpack Center has an interesting story behind it, park at the Post Office and check out the Historical Society next door if you'd like to hear it.\n",
      " ------- \n",
      "\n",
      "\n",
      "        Document: 1099  \n",
      "        Dominant topic: 0\n",
      " \n",
      "    \n",
      "The scenery is rolling hills, with trees that hang over the road for a very cool shaded area! There is a lot of farm land, with many scenic hills on the sides. This route crosses many rivers and lakes, big bridges and many state parks! plenty of pull offs and overlooks to see. Too many to list.\n",
      " ------- \n",
      "\n",
      "\n",
      "        Document: 1437  \n",
      "        Dominant topic: 0\n",
      " \n",
      "    \n",
      "In Chinle there are plenty of eateries and fuel stations so fill up before stopping at the Park Information Center.  This trip goes along the North rim of the Canyon De Chilly ... not as grand as the Grand Canyon, but beautiful in their own right!  The landscape changes several times going up through and over a Buffalo Pass and ends in a desert environment with limited amenities along the way.\n",
      " ------- \n",
      "\n",
      "\n",
      "        Document: 308  \n",
      "        Dominant topic: 1\n",
      " \n",
      "    \n",
      "Take any point along this road for a trek through some of Jersey's best rolling terrain-rivers and streams cross at many points, rock outcroppings, pastures, horse country and various valleys adorn the route. A  You can't go wrong at ANY point along 513 or what crosses it...go get lost!!\n",
      " ------- \n",
      "\n",
      "\n",
      "        Document: 1018  \n",
      "        Dominant topic: 1\n",
      " \n",
      "    \n",
      "The route itself is good with mountains on both sides.  The section from Coolidge Dam road to Globe is spectacular from any direction.  BIA 3 (Coolidge Dam Road) to the Dam is an older blacktop road that leads into a fascinating canyon, and crosses one of the most interesting Dams in America.\n",
      " ------- \n",
      "\n",
      "\n",
      "        Document: 1122  \n",
      "        Dominant topic: 1\n",
      " \n",
      "    \n",
      "Just north of Shreveport along the shore of Cross Lake. This is a beautiful ride with few cars.  Winding country road with lots of water, trees and farmland.  Starts at the east end of the lake and ends on highway 169.\n",
      " ------- \n",
      "\n",
      "\n",
      "        Document: 770  \n",
      "        Dominant topic: 1\n",
      " \n",
      "    \n",
      "I started the ride at New River HArley Davidson just south of the Airstation at new river. Not much to see at first but once you turn on Hwy 210 toward Topsail beach, you cross the Topsail bridge and get a breath-taking view of the Atlantic and the Intercoastal waterway. The cruise along topsail Island is gorgeous. The 50 is a 2 lane country road passing through swamps and cotton fields. MOstly country scenery.\n",
      " ------- \n",
      "\n",
      "\n",
      "        Document: 1497  \n",
      "        Dominant topic: 1\n",
      " \n",
      "    \n",
      "Excellent views of the mountains / ocean from Latigo. Spectacular mountain views throughout ending with a scenic descent to Pacific Coast Highway with a panoramic view of the Pacific Ocean from high above before you.\n",
      " ------- \n",
      "\n",
      "\n",
      "        Document: 363  \n",
      "        Dominant topic: 2\n",
      " \n",
      "    \n",
      "An excellent twisty alternative to riding I-77 north from Marietta. Some cliffs, creeks etc. This route follows US Rt. 21 which was decommissioned many years ago. This is how many southern folk found their way to jobs in Akron, Canton & Cleveland before the Interstates were built. Much more scenic & fun than the superslab.\n",
      " ------- \n",
      "\n",
      "\n",
      "        Document: 825  \n",
      "        Dominant topic: 2\n",
      " \n",
      "    \n",
      "The route is quite nice when you can look up from the dirt road to appreciate the scenery, but the real prize on this trip is the visit to Kennicott mines at the end.  If possible, spend a night in McCarthy and take a tour of the historic Kennicott mines and take a hike to and on the Kennicott glacier.\n",
      " ------- \n",
      "\n",
      "\n",
      "        Document: 1054  \n",
      "        Dominant topic: 2\n",
      " \n",
      "    \n",
      "Rather lush hills of desert plants with many larger bushes/trees such as palo verde (the Arizona state tree) with its green bark. This is very hilly country of mostly old volcanic rock.\n",
      " ------- \n",
      "\n",
      "\n",
      "        Document: 841  \n",
      "        Dominant topic: 2\n",
      " \n",
      "    \n",
      "This route takes you through the base of the smokey mountains with small quaint towns some terrific antique and collectibles shops along with a lot of gorgeous scenery including rolling hills and lots of unique vegetation.\n",
      " ------- \n",
      "\n",
      "\n",
      "        Document: 1472  \n",
      "        Dominant topic: 2\n",
      " \n",
      "    \n",
      "This road is a real \"Diamond in the Rough.\" The scenery ranges from open fields, mountain ranges, and tight downhill turns ( or Uphill depending on which way your going ) through the woods\n",
      " ------- \n",
      "\n",
      "\n",
      "        Document: 263  \n",
      "        Dominant topic: 3\n",
      " \n",
      "    \n",
      "Riding the Natchez Trace is truly a ride through history (see Natchez Trace listing) however, it is not really a motorcyclist's \"dream road.\" Low speed limits and long straight sections, with trees and more trees, can make a motorcyclist's throttle hand twitch for something new. In Mississippi, get off the Trace and ride on Route 552 for a while. As an added bonus, stop along the way and explore the deserted ruins of an old plantation.\n",
      " ------- \n",
      "\n",
      "\n",
      "        Document: 374  \n",
      "        Dominant topic: 3\n",
      " \n",
      "    \n",
      "Rolling Ohio countryside with streams that follow the roads and lakes in the distance. Old houses in many of the towns. Great views from the hilltops. Overall this route has it all as far as motorcycling goes. If you want to cruise and enjoy the scenery, or if \"hitting the curves\" is your style of riding, this is the route for you. I've ridden this route at least 25 times. I just love it!\n",
      " ------- \n",
      "\n",
      "\n",
      "        Document: 1215  \n",
      "        Dominant topic: 3\n",
      " \n",
      "    \n",
      "This route is a mix of urban, suburban and rural scenery. At the end it feels like you've traveled to a remote location. Still, youre never more than about 15 minutes from downtown Nashville.\n",
      " ------- \n",
      "\n",
      "\n",
      "        Document: 1244  \n",
      "        Dominant topic: 3\n",
      " \n",
      "    \n",
      "This route curves around the rocky outcroppings at Stewart Lake. Many old dairy farms dot the Driftless landscape. Be sure to bring your camera if you enjoy photographing old barns.\n",
      " ------- \n",
      "\n",
      "\n",
      "        Document: 1114  \n",
      "        Dominant topic: 3\n",
      " \n",
      "    \n",
      "These roads have it all, incredible natural scenery of the Pennsylvania wilds, with old PA Rail Road relics dotting the landscape....rivers, dams, mountains...amazing roads.\n",
      " ------- \n",
      "\n",
      "\n",
      "        Document: 1716  \n",
      "        Dominant topic: 4\n",
      " \n",
      "    \n",
      "This is the longest state road in VA. It runs from just north of Bristol VA (Glade Spring Rt 91) to Woodstock VA. 42 is west of I-81 and you will visit a lifestyle of Virginia that is lost in time. The ride is very mountainous, full of very small towns such as Saltville VA.Photo contributed in Feb 10\n",
      " ------- \n",
      "\n",
      "\n",
      "        Document: 646  \n",
      "        Dominant topic: 4\n",
      " \n",
      "    \n",
      "This is the longest state road in VA. It runs from just north of Bristol VA (Glade Spring Rt 91) to Woodstock VA. 42 is west of I-81 and you will visit a lifestyle of Virginia that is lost in time. The ride is very mountainous, full of very small towns such as Saltville VA.\n",
      " ------- \n",
      "\n",
      "\n",
      "        Document: 366  \n",
      "        Dominant topic: 4\n",
      " \n",
      "    \n",
      "This route takes you through some rolling hills, with several overlooking vistas, and through the heart of Amish country, with stops in Charm, Walnut Creek, and Wilmot where a variety of crafts, and restaurants are available. Best to ride during the week to avoid the largest crowds in the towns, but is also enjoyable on a Saturday. Sunday, almost everything is closed.\n",
      " ------- \n",
      "\n",
      "\n",
      "        Document: 803  \n",
      "        Dominant topic: 4\n",
      " \n",
      "    \n",
      "Starts at Highway 21, weaving thru the pine trees right alongside the road, lush beautiful forest all the way to Augusta, and then opens up a little into pastures.\n",
      " ------- \n",
      "\n",
      "\n",
      "        Document: 816  \n",
      "        Dominant topic: 4\n",
      " \n",
      "    \n",
      "This route leads you through the beautiful \"Arkansas Grand Canyon\".  With a steep decline from Hwy 7 providing great views as you descend.  There are several streams alongside the road.\n",
      " ------- \n",
      "\n",
      "\n",
      "        Document: 1224  \n",
      "        Dominant topic: 5\n",
      " \n",
      "    \n",
      "Scenery is your standard Midwest, flat countryside with fields and the occasional woods.  Segments of this ride go through rolling subtle hills and trail creeks and streams.  This area isn't big on scenic beauty, but these are (more or less) peaceful roads, a little curvy, with some pleasant country views.\n",
      " ------- \n",
      "\n",
      "\n",
      "        Document: 727  \n",
      "        Dominant topic: 5\n",
      " \n",
      "    \n",
      "The first half of the trip is mountainous and treed, the ferry crossings give you a good chance to snap some photos and motorcycles are always on and off first.  Once you hit Highway 21 the road is lined with tall trees, leaving Keller the scenery opens up to the typical easter Wa sage land but follows along side the river.\n",
      " ------- \n",
      "\n",
      "\n",
      "        Document: 1431  \n",
      "        Dominant topic: 5\n",
      " \n",
      "    \n",
      "Very challenging turns, but unique roads as they are inclined to the turn.  Trees, forest and mountain views. Reaching the top gives you the option to make your way along the ridge to a beautiful look out. Road ends at the airport further down.\n",
      " ------- \n",
      "\n",
      "\n",
      "        Document: 387  \n",
      "        Dominant topic: 5\n",
      " \n",
      "    \n",
      "This is a small portion of Route 66 and it's beautiful. Some curves and lots to look at, but you will probably have to backtrack for some photo ops, markings leave a lot to be desired and the speed limit is so high.\n",
      " ------- \n",
      "\n",
      "\n",
      "        Document: 429  \n",
      "        Dominant topic: 5\n",
      " \n",
      "    \n",
      "During the summertime expect not to see much other than many trees as you climb to the top of the mountain. However, in Fall or Winter the scenery changes completely as the foliage is reduced and the sweeping views of Upstate SC become available.\n",
      " ------- \n",
      "\n",
      "\n",
      "        Document: 1129  \n",
      "        Dominant topic: 6\n",
      " \n",
      "    \n",
      "This is a nice County ride for City riders that want to get out on Sport bikes and with a little scenery of the county. Good Scenery not the best until you get to 171 then you have wide open view of the farms and Fields.\n",
      " ------- \n",
      "\n",
      "\n",
      "        Document: 711  \n",
      "        Dominant topic: 6\n",
      " \n",
      "    \n",
      "On this route you will be riding along roads that lead to the TN River. You will also be riding along the outskirts of the beautiful Natchez Trace State Park.\n",
      " ------- \n",
      "\n",
      "\n",
      "        Document: 720  \n",
      "        Dominant topic: 6\n",
      " \n",
      "    \n",
      "You get to see lots of trees, and corn and also get to travel along the river for a short distance, but mostly this ride is all about the high speed corners!!\n",
      " ------- \n",
      "\n",
      "\n",
      "        Document: 858  \n",
      "        Dominant topic: 6\n",
      " \n",
      "    \n",
      "This route is mostly through farm and ranch land.  It passes by historic \"George Ranch\" and Brazos Bend Park.  The road has light to medium traffic.  In good weather, expect to pass other motorcycles.  The scenery isn't \"beautiful\" as much as a peaceful escape from the nearby cities.  The road has enough twists and turns to keep it interesting, but plenty of straight sections for passing.\n",
      " ------- \n",
      "\n",
      "\n",
      "        Document: 780  \n",
      "        Dominant topic: 6\n",
      " \n",
      "    \n",
      "It's a route along the Gulf Coast with beautiful views of the Gulf of Mexico & coastal marsh lands.\n",
      " ------- \n",
      "\n"
     ]
    }
   ],
   "source": [
    "representatives = pd.DataFrame()\n",
    "\n",
    "for k in grouped_topics.groups.keys():\n",
    "    representatives = pd.concat([ representatives, \n",
    "                                 grouped_topics.get_group(k).sort_values(['Percent'], ascending=False).head(5)])\n",
    "# representatives\n",
    "for i in range(len(representatives)):\n",
    "    print(f'''\n",
    "        Document: {representatives.index[i]}  \n",
    "        Dominant topic: {representatives.loc[representatives.index[i]]['Dominant_topic']}\\n \n",
    "    ''')\n",
    "    print(texts[representatives.index[i]] + '\\n ------- \\n')"
   ]
  },
  {
   "cell_type": "markdown",
   "id": "bb031970",
   "metadata": {},
   "source": [
    "There seem to be two dominant topics in this set of comments. \n",
    "\n",
    "Two types of roads:\n",
    "1. Roads for the RIDE (Topic 0)\n",
    "2. Roads for the VIEW (Topic 2)"
   ]
  },
  {
   "cell_type": "markdown",
   "id": "a3a6a9a7",
   "metadata": {},
   "source": [
    "## Length of documents in each topic"
   ]
  },
  {
   "cell_type": "code",
   "execution_count": 66,
   "id": "edf3dcfb",
   "metadata": {},
   "outputs": [],
   "source": [
    "def word_count_by_topic(topic=0):\n",
    "    d_lens = [len(d) for d in grouped_topics.get_group(topic)['Processed_text']]\n",
    "    plt.hist(d_lens, bins=50)\n",
    "    large = plt.gca().get_ylim()[1]\n",
    "    d_mean = round(np.mean(d_lens), 1)\n",
    "    d_median = np.median(d_lens)\n",
    "    plt.plot([d_mean, d_mean], [0,large], label='Mean = {}'.format(d_mean))\n",
    "    plt.plot([d_median, d_median], [0,large], label='Median = {}'.format(d_median))\n",
    "    plt.legend()\n",
    "    plt.gca().set(xlabel='Document word count', ylabel='Number of documents', xlim=(0, 450), \n",
    "            title='Distribution of Comment Lengths for {} Comments in Topic {}'.format(len(d_lens), topic));"
   ]
  },
  {
   "cell_type": "code",
   "execution_count": 67,
   "id": "4dda040e",
   "metadata": {
    "scrolled": true
   },
   "outputs": [
    {
     "data": {
      "application/vnd.jupyter.widget-view+json": {
       "model_id": "de411fe3c8c34629af2290477623de87",
       "version_major": 2,
       "version_minor": 0
      },
      "text/plain": [
       "interactive(children=(IntSlider(value=0, description='Topic', max=6), Output()), _dom_classes=('widget-interac…"
      ]
     },
     "metadata": {},
     "output_type": "display_data"
    }
   ],
   "source": [
    "slider = IntSlider(min=0, max=num_topics-1, step=1, value=0, description='Topic')\n",
    "interact(word_count_by_topic, topic=slider);"
   ]
  },
  {
   "cell_type": "markdown",
   "id": "94ac21fb",
   "metadata": {},
   "source": [
    "## Top word distribution per topic"
   ]
  },
  {
   "cell_type": "code",
   "execution_count": 68,
   "id": "5b2666cd",
   "metadata": {
    "scrolled": false,
    "slideshow": null
   },
   "outputs": [
    {
     "data": {
      "text/plain": [
       "[Text(0, 0.5, 'Word frequency'),\n",
       " Text(0.5, 1.0, 'Word Frequencies by Topic, Combining the Top 52 Words in Each Topic')]"
      ]
     },
     "execution_count": 68,
     "metadata": {},
     "output_type": "execute_result"
    },
    {
     "data": {
      "image/png": "[encoded data removed]",
      "text/plain": [
       "<Figure size 1080x360 with 1 Axes>"
      ]
     },
     "metadata": {},
     "output_type": "display_data"
    }
   ],
   "source": [
    "lda_top_words_index = set()\n",
    "for i in range(lda_model.num_topics):\n",
    "    lda_top_words_index = lda_top_words_index.union([k for (k,v) in lda_model.get_topic_terms(i)])\n",
    "\n",
    "\n",
    "words_we_care_about = [{dictionary[tup[0]]: tup[1] for tup in lst if tup[0] in lda_top_words_index} \n",
    "                       for lst in corpus]\n",
    "\n",
    "lda_top_words_df = pd.DataFrame(words_we_care_about).fillna(0).astype(int).sort_index(axis=1)\n",
    "lda_top_words_df['Cluster'] = main_topic_df['Dominant_topic']\n",
    "\n",
    "(\n",
    "    lda_top_words_df\n",
    "    .groupby('Cluster').sum().transpose()\n",
    "    .plot.bar(figsize=(15, 5), width=0.7)\n",
    "    .set(ylabel='Word frequency', \n",
    "         title=f'Word Frequencies by Topic, Combining the Top {len(lda_top_words_index)} Words in Each Topic')\n",
    ")"
   ]
  },
  {
   "cell_type": "markdown",
   "id": "629a4e94",
   "metadata": {
    "slideshow": null
   },
   "source": [
    "## Coherence scores based on number of topics"
   ]
  },
  {
   "cell_type": "code",
   "execution_count": 58,
   "id": "ba0b844f",
   "metadata": {
    "slideshow": null
   },
   "outputs": [
    {
     "name": "stdout",
     "output_type": "stream",
     "text": [
      "Coherence scores for the ngram range: (2, 3) \n",
      " [(1, 0.4911214295599162), (2, 0.5436075707473813), (3, 0.4829600283581616), (4, 0.5167982842327203), (5, 0.5360777625878905), (6, 0.5436201249044619), (7, 0.6199922221500077), (8, 0.5852518203343744), (9, 0.6093228188157892), (10, 0.5690703575020952)]\n"
     ]
    },
    {
     "data": {
      "text/plain": [
       "[<matplotlib.lines.Line2D at 0x7f8d046e4bb0>]"
      ]
     },
     "execution_count": 58,
     "metadata": {},
     "output_type": "execute_result"
    },
    {
     "data": {
      "image/png": "[encoded data removed]",
      "text/plain": [
       "<Figure size 576x396 with 1 Axes>"
      ]
     },
     "metadata": {},
     "output_type": "display_data"
    }
   ],
   "source": [
    "coherence_scores = []\n",
    "\n",
    "for n in range(1, 11):\n",
    "    mod = gensim.models.ldamodel.LdaModel(corpus=corpus, \n",
    "                                          id2word=dictionary,\n",
    "                                          num_topics=n, \n",
    "                                          random_state=117, update_every=1,\n",
    "                                          chunksize=1500, \n",
    "                                          passes=5, iterations=10,\n",
    "                                          alpha='asymmetric', eta=1/100,\n",
    "                                          per_word_topics=True)\n",
    "    cmodel = gensim.models.coherencemodel.CoherenceModel(model=mod,\n",
    "                                                 texts=processed_text,\n",
    "                                                 dictionary=dictionary)\n",
    "    coherence_scores.append((n, cmodel.get_coherence()))\n",
    "    \n",
    "topic_range = [coherence_scores[i][0] for i in range(len(coherence_scores))]\n",
    "cscore = [coherence_scores[i][1] for i in range(len(coherence_scores))]\n",
    "\n",
    "print(f'Coherence scores for the ngram range: {ngram_range} \\n {coherence_scores}')\n",
    "plt.plot(topic_range,cscore)"
   ]
  },
  {
   "cell_type": "code",
   "execution_count": null,
   "id": "dbab7c44",
   "metadata": {},
   "outputs": [],
   "source": []
  }
 ],
 "metadata": {
  "kernelspec": {
   "display_name": "Python 3 (ipykernel)",
   "language": "python",
   "name": "python3"
  },
  "language_info": {
   "codemirror_mode": {
    "name": "ipython",
    "version": 3
   },
   "file_extension": ".py",
   "mimetype": "text/x-python",
   "name": "python",
   "nbconvert_exporter": "python",
   "pygments_lexer": "ipython3",
   "version": "3.9.6"
  },
  "varInspector": {
   "cols": {
    "lenName": 16,
    "lenType": 16,
    "lenVar": 40
   },
   "kernels_config": {
    "python": {
     "delete_cmd_postfix": "",
     "delete_cmd_prefix": "del ",
     "library": "var_list.py",
     "varRefreshCmd": "print(var_dic_list())"
    },
    "r": {
     "delete_cmd_postfix": ") ",
     "delete_cmd_prefix": "rm(",
     "library": "var_list.r",
     "varRefreshCmd": "cat(var_dic_list()) "
    }
   },
   "types_to_exclude": [
    "module",
    "function",
    "builtin_function_or_method",
    "instance",
    "_Feature"
   ],
   "window_display": false
  }
 },
 "nbformat": 4,
 "nbformat_minor": 5
}
