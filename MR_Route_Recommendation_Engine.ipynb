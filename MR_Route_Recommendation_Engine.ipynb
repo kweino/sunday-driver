{
 "cells": [
  {
   "cell_type": "code",
   "execution_count": 1,
   "id": "69f6c174",
   "metadata": {},
   "outputs": [],
   "source": [
    "import numpy as np\n",
    "import pandas as pd\n",
    "import os\n",
    "import gzip\n",
    "import dill\n",
    "from os.path import exists as file_exists\n",
    "import geopandas\n",
    "from gpx_converter import Converter\n",
    "from shapely.geometry import LineString, MultiPoint, Point\n",
    "from shapely.ops import split\n",
    "\n",
    "from sklearn.base import BaseEstimator, TransformerMixin\n",
    "from sklearn.compose import ColumnTransformer\n",
    "from sklearn.feature_extraction.text import TfidfVectorizer\n",
    "from sklearn.impute import SimpleImputer\n",
    "from sklearn.neighbors import NearestNeighbors\n",
    "from sklearn.pipeline import Pipeline\n",
    "from sklearn.preprocessing import FunctionTransformer, RobustScaler, OneHotEncoder"
   ]
  },
  {
   "cell_type": "code",
   "execution_count": 2,
   "id": "2ce67cb0",
   "metadata": {},
   "outputs": [],
   "source": [
    "from spacy.lang.en.stop_words import STOP_WORDS\n",
    "STOP_WORDS = STOP_WORDS.union({'ll', 've', 'pron'})"
   ]
  },
  {
   "cell_type": "code",
   "execution_count": 3,
   "id": "138295c9",
   "metadata": {},
   "outputs": [],
   "source": [
    "from sklearn import set_config\n",
    "set_config(display='diagram')\n",
    "pd.options.mode.chained_assignment = None  # default='warn'"
   ]
  },
  {
   "cell_type": "markdown",
   "id": "456d9690",
   "metadata": {},
   "source": [
    "# Motorcycle Road Recommendation Engine"
   ]
  },
  {
   "cell_type": "code",
   "execution_count": 4,
   "id": "413a5930",
   "metadata": {
    "code_folding": []
   },
   "outputs": [],
   "source": [
    "# calculates the sinuosity of each route from its gpx file of lat/lon coordinates\n",
    "def calcluate_sinuosity(gpx_file_num):\n",
    "    gpx_file = f'gpx_files/{str(gpx_file_num)}.gpx'\n",
    "    if file_exists(gpx_file):\n",
    "        try:\n",
    "            gpx_array = Converter(input_file=gpx_file).gpx_to_numpy_array()\n",
    "        except Exception:\n",
    "            return -1\n",
    "        \n",
    "        splits = 4\n",
    "        subsets = np.array_split(gpx_array, splits)\n",
    "        subset_sinuosities = []\n",
    "        \n",
    "        for subset in subsets:\n",
    "            start_pt = subset[0]\n",
    "            end_pt = subset[-1]\n",
    "            route = LineString(subset)\n",
    "            route_SL = LineString((start_pt, end_pt))\n",
    "            route_sinuosity = route.length / route_SL.length\n",
    "            subset_sinuosities.append(route_sinuosity)\n",
    "        return sum(subset_sinuosities)/splits\n",
    "    else:\n",
    "        return -2\n",
    "\n",
    "def get_route_coords(gpx_file_num):\n",
    "    gpx_file = f'gpx_files/{str(gpx_file_num)}.gpx'\n",
    "    if file_exists(gpx_file):\n",
    "        try:\n",
    "            gpx_df = Converter(input_file=gpx_file).gpx_to_dataframe()\n",
    "            route_line = LineString(list(zip(gpx_df.longitude, gpx_df.latitude)))\n",
    "            return route_line\n",
    "        except Exception:\n",
    "            return None\n",
    "\n",
    "valid_states = ['Alabama', 'California', 'Georgia', 'Missouri', 'Illinois', 'Ohio',\n",
    "       'Kentucky', 'Colorado', 'United States', 'Indiana', 'New York',\n",
    "       'Vermont', 'Texas', 'Florida', 'Minnesota', 'Virginia',\n",
    "       'Oklahoma', 'Arkansas', 'Maryland', 'West Virginia',\n",
    "       'Michigan', 'North Carolina', 'Oregon', 'Pennsylvania',\n",
    "       'Washington', 'New Jersey', 'Alaska',\n",
    "       'South Carolina', 'Utah', 'New Hampshire', 'Iowa', 'Louisiana',\n",
    "       'Mississippi', 'Wisconsin',\n",
    "       'South Dakota', 'Wyoming', 'Massachusetts', 'New Mexico',\n",
    "       'Montana', 'Idaho', 'Nevada', 'Arizona',\n",
    "       'Kansas', 'Northeast', 'Southwest', 'Golf Coast', 'Southeast',\n",
    "       'Tennessee', 'Nebraska', 'Delaware', 'Pacific Coast',\n",
    "       'Appalachian Mountains', 'Maine', 'Rhode Island', 'Connecticut',\n",
    "       'North Dakota', 'Hawaii']"
   ]
  },
  {
   "cell_type": "code",
   "execution_count": 5,
   "id": "54d11bc3",
   "metadata": {
    "code_folding": []
   },
   "outputs": [],
   "source": [
    "#read in data\n",
    "df_raw = pd.read_csv('data/route_data_RAW.csv')\n",
    "df_raw['state_prop_rank'] = df_raw.state_rank / df_raw.num_state_routes\n",
    "df_raw['sinuosity'] = [calcluate_sinuosity(x) for x in df_raw['gpx_file_num']]\n",
    "df = df_raw.loc[df_raw.sinuosity>=0].reset_index(drop=True)"
   ]
  },
  {
   "cell_type": "code",
   "execution_count": 16,
   "id": "b4a961df",
   "metadata": {},
   "outputs": [],
   "source": [
    "route_coords = {\n",
    "    'gpx_file_num': [x for x in df['gpx_file_num']],\n",
    "    'geometry': [get_route_coords(x) for x in df['gpx_file_num']]\n",
    "}\n",
    "\n",
    "route_gdf = geopandas.GeoDataFrame(route_coords, crs='EPSG:2163')\n",
    "route_gdf['user_rating'] = df.user_rating\n",
    "route_gdf['route_name'] = df.name\n",
    "route_gdf['state'] = df.state"
   ]
  },
  {
   "cell_type": "code",
   "execution_count": 10,
   "id": "51fbe275",
   "metadata": {},
   "outputs": [],
   "source": [
    "#length of route in CRS units\n",
    "df['route_length'] = route_gdf.geometry.length\n",
    "\n",
    "#representative point for each route\n",
    "rep_point = route_gdf.geometry.representative_point()\n",
    "route_gdf['rep_point'] = rep_point\n",
    "df['loc_lat'] = rep_point.x\n",
    "df['loc_lon'] = rep_point.y"
   ]
  },
  {
   "cell_type": "code",
   "execution_count": 17,
   "id": "9aaabe29",
   "metadata": {},
   "outputs": [
    {
     "name": "stdout",
     "output_type": "stream",
     "text": [
      "<class 'geopandas.geodataframe.GeoDataFrame'>\n",
      "RangeIndex: 2063 entries, 0 to 2062\n",
      "Data columns (total 6 columns):\n",
      " #   Column        Non-Null Count  Dtype   \n",
      "---  ------        --------------  -----   \n",
      " 0   gpx_file_num  2063 non-null   int64   \n",
      " 1   geometry      2063 non-null   geometry\n",
      " 2   user_rating   2063 non-null   float64 \n",
      " 3   rep_point     2063 non-null   geometry\n",
      " 4   route_name    2063 non-null   object  \n",
      " 5   state         2063 non-null   object  \n",
      "dtypes: float64(1), geometry(2), int64(1), object(2)\n",
      "memory usage: 96.8+ KB\n",
      "<class 'pandas.core.frame.DataFrame'>\n",
      "RangeIndex: 2063 entries, 0 to 2062\n",
      "Data columns (total 20 columns):\n",
      " #   Column                       Non-Null Count  Dtype  \n",
      "---  ------                       --------------  -----  \n",
      " 0   gpx_file_num                 2063 non-null   int64  \n",
      " 1   name                         2063 non-null   object \n",
      " 2   state                        2063 non-null   object \n",
      " 3   user_rating                  2063 non-null   float64\n",
      " 4   num_user_reviews             2063 non-null   int64  \n",
      " 5   num_users_rode               2063 non-null   int64  \n",
      " 6   num_users_want2ride          2063 non-null   int64  \n",
      " 7   scenery_rating               2063 non-null   int64  \n",
      " 8   drive_enjoyment_rating       2063 non-null   int64  \n",
      " 9   tourism_rating               2063 non-null   int64  \n",
      " 10  state_rank                   2063 non-null   int64  \n",
      " 11  num_state_routes             2063 non-null   int64  \n",
      " 12  scenery_description          2063 non-null   object \n",
      " 13  drive_enjoyment_description  2063 non-null   object \n",
      " 14  tourism_description          2063 non-null   object \n",
      " 15  state_prop_rank              2063 non-null   float64\n",
      " 16  sinuosity                    2063 non-null   float64\n",
      " 17  route_length                 2063 non-null   float64\n",
      " 18  loc_lat                      2063 non-null   float64\n",
      " 19  loc_lon                      2063 non-null   float64\n",
      "dtypes: float64(6), int64(9), object(5)\n",
      "memory usage: 322.5+ KB\n"
     ]
    }
   ],
   "source": [
    "route_gdf.info()\n",
    "df.info()"
   ]
  },
  {
   "cell_type": "code",
   "execution_count": 18,
   "id": "01de6d6f",
   "metadata": {
    "code_folding": []
   },
   "outputs": [],
   "source": [
    "with gzip.open('data/route_gdf.pkl', 'wb') as f:\n",
    "        dill.dump(route_gdf, f)\n",
    "\n",
    "with gzip.open('data/route_df.pkl', 'wb') as f:\n",
    "        dill.dump(df, f)"
   ]
  },
  {
   "cell_type": "markdown",
   "id": "c713286c",
   "metadata": {},
   "source": [
    "### Feature processing"
   ]
  },
  {
   "cell_type": "code",
   "execution_count": null,
   "id": "19e694a6",
   "metadata": {
    "code_folding": []
   },
   "outputs": [],
   "source": [
    "# functions for transformers\n",
    "def calc_row_sum(cols):\n",
    "    return pd.DataFrame(cols.apply(lambda x: x.sum(), axis=1))"
   ]
  },
  {
   "cell_type": "code",
   "execution_count": null,
   "id": "7cee4e87",
   "metadata": {
    "code_folding": []
   },
   "outputs": [],
   "source": [
    "numeric_features = ['route_length','state_prop_rank']#,'scenery_rating','drive_enjoyment_rating','tourism_rating']\n",
    "\n",
    "numeric_transformer = Pipeline(\n",
    "    steps=[(\"imputer\", SimpleImputer(strategy=\"mean\")), (\"scaler\", RobustScaler())]\n",
    ")\n",
    "\n",
    "#tfidf vectorizer for each route's descriptions\n",
    "description_transformer = TfidfVectorizer(stop_words=STOP_WORDS, \n",
    "                                   ngram_range=(1,2),\n",
    "                                   min_df=.01\n",
    "                                  )\n",
    "\n",
    "# Route 'engagement' by MR site users: \n",
    "# num_user_reviews + num_users_rode + num_users_want2ride\n",
    "engagement_transformer = FunctionTransformer(calc_row_sum)\n",
    "\n",
    "\n",
    "preprocessor = ColumnTransformer([\n",
    "    ('route_engagement',engagement_transformer, ['num_user_reviews','num_users_rode','num_users_want2ride']), \n",
    "    ('scenery', description_transformer, 'scenery_description'),\n",
    "    ('drive_enjoyment', description_transformer, 'drive_enjoyment_description'),\n",
    "    ('tourism', description_transformer, 'tourism_description'),\n",
    "    ('state', OneHotEncoder(handle_unknown='ignore'), ['state']),\n",
    "    ('numeric_features',numeric_transformer, numeric_features),\n",
    "    ('locale','passthrough',['loc_lat','loc_lon'])\n",
    "])\n",
    "\n",
    "features = preprocessor.fit_transform(df)"
   ]
  },
  {
   "cell_type": "code",
   "execution_count": null,
   "id": "9f43fad1",
   "metadata": {
    "code_folding": []
   },
   "outputs": [],
   "source": [
    "engine_pipe = Pipeline([\n",
    "    ('preprocessor', preprocessor),#preprocessor to deal to transform/generate each feature\n",
    "    ('nn', NearestNeighbors(n_neighbors=10)),#Nearest Neighbors\n",
    "])\n",
    "\n",
    "engine_pipe.fit(df)"
   ]
  },
  {
   "cell_type": "markdown",
   "id": "7db60dc6",
   "metadata": {},
   "source": [
    "## Model Exploration"
   ]
  },
  {
   "cell_type": "markdown",
   "id": "9399eab6",
   "metadata": {},
   "source": [
    "A few roads I've been on (to test functionality):"
   ]
  },
  {
   "cell_type": "code",
   "execution_count": null,
   "id": "0c5e3454",
   "metadata": {
    "scrolled": true
   },
   "outputs": [],
   "source": [
    "df.iloc[[37,53]]"
   ]
  },
  {
   "cell_type": "code",
   "execution_count": null,
   "id": "18092b58",
   "metadata": {},
   "outputs": [],
   "source": [
    "n=53\n",
    "\n",
    "dists, indices = engine_pipe[1].kneighbors(features[n])\n",
    "df.iloc[indices[0]]Z"
   ]
  },
  {
   "cell_type": "code",
   "execution_count": null,
   "id": "70750e00",
   "metadata": {},
   "outputs": [],
   "source": []
  }
 ],
 "metadata": {
  "kernelspec": {
   "display_name": "Python 3 (ipykernel)",
   "language": "python",
   "name": "python3"
  },
  "language_info": {
   "codemirror_mode": {
    "name": "ipython",
    "version": 3
   },
   "file_extension": ".py",
   "mimetype": "text/x-python",
   "name": "python",
   "nbconvert_exporter": "python",
   "pygments_lexer": "ipython3",
   "version": "3.9.6"
  },
  "varInspector": {
   "cols": {
    "lenName": 16,
    "lenType": 16,
    "lenVar": 40
   },
   "kernels_config": {
    "python": {
     "delete_cmd_postfix": "",
     "delete_cmd_prefix": "del ",
     "library": "var_list.py",
     "varRefreshCmd": "print(var_dic_list())"
    },
    "r": {
     "delete_cmd_postfix": ") ",
     "delete_cmd_prefix": "rm(",
     "library": "var_list.r",
     "varRefreshCmd": "cat(var_dic_list()) "
    }
   },
   "types_to_exclude": [
    "module",
    "function",
    "builtin_function_or_method",
    "instance",
    "_Feature"
   ],
   "window_display": false
  }
 },
 "nbformat": 4,
 "nbformat_minor": 5
}
