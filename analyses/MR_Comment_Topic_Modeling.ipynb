{
 "cells": [
  {
   "cell_type": "markdown",
   "id": "0a55abdb",
   "metadata": {},
   "source": [
    "# Latent Dirichlet allocation (LDA)"
   ]
  },
  {
   "cell_type": "code",
   "execution_count": 1,
   "id": "c8caeb82",
   "metadata": {},
   "outputs": [],
   "source": [
    "import numpy as np\n",
    "import pandas as pd\n",
    "import gensim\n",
    "import re\n",
    "import spacy\n",
    "from spacy.lang.en.stop_words import STOP_WORDS\n",
    "from pprint import pprint\n",
    "from sklearn.feature_extraction.text import CountVectorizer\n",
    "import matplotlib.pyplot as plt\n",
    "from ipywidgets import interact, IntSlider"
   ]
  },
  {
   "cell_type": "code",
   "execution_count": 2,
   "id": "767e5736",
   "metadata": {},
   "outputs": [
    {
     "data": {
      "text/plain": [
       "4236"
      ]
     },
     "execution_count": 2,
     "metadata": {},
     "output_type": "execute_result"
    }
   ],
   "source": [
    "#import data\n",
    "comments = pd.read_csv('../data/comments.csv')[['comments']].dropna().drop_duplicates()\n",
    "len(comments['comments'])"
   ]
  },
  {
   "cell_type": "code",
   "execution_count": 3,
   "id": "664012ea",
   "metadata": {},
   "outputs": [],
   "source": [
    "#Preprocessing\n",
    "\n",
    "STOP_WORDS = STOP_WORDS.union({'ll', 've', 'pron',\n",
    "                               'good','great', 'nice',\n",
    "                               'ride','route','road','rt','roads', 'rode','way'\n",
    "                              })"
   ]
  },
  {
   "cell_type": "markdown",
   "id": "1c9701f1",
   "metadata": {},
   "source": [
    "## Text Processing"
   ]
  },
  {
   "cell_type": "code",
   "execution_count": 19,
   "id": "475b2fe3",
   "metadata": {},
   "outputs": [],
   "source": [
    "ngram_range = (2, 4)\n",
    "\n",
    "vectorizer = CountVectorizer(ngram_range=ngram_range,\n",
    "                             stop_words=STOP_WORDS,\n",
    "                            )\n",
    "analyzer = vectorizer.build_analyzer()\n",
    "\n",
    "texts = comments.comments.values.tolist()\n",
    "processed_text = [analyzer(text) for text in texts]"
   ]
  },
  {
   "cell_type": "code",
   "execution_count": 20,
   "id": "62824836",
   "metadata": {},
   "outputs": [
    {
     "name": "stdout",
     "output_type": "stream",
     "text": [
      "Number of unique tokens: 482869\n"
     ]
    }
   ],
   "source": [
    "dictionary = gensim.corpora.Dictionary(processed_text)\n",
    "print('Number of unique tokens: {}'.format(len(dictionary)))"
   ]
  },
  {
   "cell_type": "code",
   "execution_count": 21,
   "id": "7218d8c2",
   "metadata": {},
   "outputs": [],
   "source": [
    "corpus = [dictionary.doc2bow(t) for t in processed_text]"
   ]
  },
  {
   "cell_type": "markdown",
   "id": "ef95bf6c",
   "metadata": {},
   "source": [
    "## Initial LDA Model"
   ]
  },
  {
   "cell_type": "code",
   "execution_count": 34,
   "id": "2651ece0",
   "metadata": {
    "scrolled": true
   },
   "outputs": [
    {
     "name": "stdout",
     "output_type": "stream",
     "text": [
      "[(0,\n",
      "  '0.005*\"beautiful scenery\" + 0.004*\"little traffic\" + 0.003*\"elevation '\n",
      "  'changes\" + 0.003*\"tail dragon\" + 0.003*\"speed limit\" + 0.003*\"twists turns\" '\n",
      "  '+ 0.003*\"places stop\" + 0.003*\"highly recommend\" + 0.002*\"ridden times\" + '\n",
      "  '0.002*\"lots curves\"'),\n",
      " (1,\n",
      "  '0.002*\"speed limit\" + 0.002*\"blue ridge\" + 0.002*\"ridge parkway\" + '\n",
      "  '0.002*\"blue ridge parkway\" + 0.001*\"state park\" + 0.001*\"highly recommend\" '\n",
      "  '+ 0.001*\"starved rock\" + 0.001*\"don forget\" + 0.001*\"speed limit 45\" + '\n",
      "  '0.001*\"limit 45\"'),\n",
      " (2,\n",
      "  '0.001*\"west virginia\" + 0.001*\"triple nickel\" + 0.001*\"june 2020\" + '\n",
      "  '0.001*\"state park\" + 0.001*\"140 miles\" + 0.001*\"ranger july\" + 0.001*\"sioux '\n",
      "  'city\" + 0.001*\"watch rocks\" + 0.001*\"500 miles\" + 0.001*\"marietta oh\"')]\n"
     ]
    }
   ],
   "source": [
    "#LDA model parameters\n",
    "num_topics = 3\n",
    "num_words = 10\n",
    "\n",
    "lda_model = gensim.models.ldamodel.LdaModel(corpus=corpus, \n",
    "                                            id2word=dictionary,\n",
    "                                            num_topics=num_topics, \n",
    "                                            random_state=17, update_every=1,\n",
    "                                            chunksize=1500, \n",
    "                                            passes=5, iterations=10,\n",
    "                                            alpha='asymmetric', eta=1/100,\n",
    "                                            per_word_topics=True)\n",
    "\n",
    "pprint(lda_model.print_topics(num_words=num_words))"
   ]
  },
  {
   "cell_type": "code",
   "execution_count": 35,
   "id": "df52e7bc",
   "metadata": {},
   "outputs": [],
   "source": [
    "# get_document_topics method shows the topics found \n",
    "# in each corpus doc\n",
    "# i = 0\n",
    "# print(comments.iloc[i], processed_text[i], lda_model.get_document_topics(corpus[i]))"
   ]
  },
  {
   "cell_type": "code",
   "execution_count": 36,
   "id": "1a36caae",
   "metadata": {},
   "outputs": [],
   "source": [
    "# extracts dominant topic (and percentage) for each comment\n",
    "\n",
    "def get_main_topic_df(model, bow, texts):\n",
    "    topic_list = []\n",
    "    percent_list = []\n",
    "    keyword_list = []\n",
    "    \n",
    "    for wc in bow:\n",
    "        topic, percent = sorted(model.get_document_topics(wc), key=lambda x: x[1], reverse=True)[0]\n",
    "        topic_list.append(topic)\n",
    "        percent_list.append(round(percent, 3))\n",
    "        keyword_list.append(' '.join(sorted([x[0] for x in model.show_topic(topic)])))\n",
    "\n",
    "    result_df = pd.concat([pd.Series(topic_list, name='Dominant_topic'), \n",
    "                           pd.Series(percent_list, name='Percent'), \n",
    "                           pd.Series(texts, name='Processed_text'), \n",
    "                           pd.Series(keyword_list, name='Keywords')], axis=1)\n",
    "\n",
    "    return result_df"
   ]
  },
  {
   "cell_type": "code",
   "execution_count": 37,
   "id": "32ba7bf7",
   "metadata": {},
   "outputs": [],
   "source": [
    "main_topic_df = get_main_topic_df(lda_model, corpus, processed_text)"
   ]
  },
  {
   "cell_type": "code",
   "execution_count": 38,
   "id": "429b84eb",
   "metadata": {},
   "outputs": [],
   "source": [
    "# len(main_topic_df)"
   ]
  },
  {
   "cell_type": "code",
   "execution_count": 39,
   "id": "e866afee",
   "metadata": {},
   "outputs": [
    {
     "data": {
      "image/png": "[encoded data removed]",
      "text/plain": [
       "<Figure size 576x396 with 1 Axes>"
      ]
     },
     "metadata": {},
     "output_type": "display_data"
    }
   ],
   "source": [
    "plt.style.use('seaborn')\n",
    "\n",
    "grouped_topics = main_topic_df.groupby('Dominant_topic')\n",
    "grouped_topics.count()['Processed_text'].\\\n",
    "    plot.bar(rot=0).\\\n",
    "    set(title=f'Dominant Topic Frequency in the {len(comments)} Comments',\n",
    "        ylabel='Topic frequency');\n"
   ]
  },
  {
   "cell_type": "markdown",
   "id": "118b7758",
   "metadata": {},
   "source": [
    "## Representative data\n",
    "\n",
    "What's the \"most representative\" comment we have in the data for each topic?  "
   ]
  },
  {
   "cell_type": "code",
   "execution_count": 40,
   "id": "2354354a",
   "metadata": {},
   "outputs": [
    {
     "name": "stdout",
     "output_type": "stream",
     "text": [
      "\n",
      "        Document: 2356  \n",
      "        Dominant topic: 0\n",
      " \n",
      "    \n",
      "Hiway 276 from the NC-SC state line has been totally repaved from Ceasar's Head down into Brevard, NC fall 2008. Super smooth but still twisty so watch your speed as you will want to ride faster than the road will allow.,This road is fun!  I've been riding it for years and has always provided a thrill and gorgeous scenery.  The SC side is not in good shape anymore and will suprise you with some loose spots if you aren't careful. Once you reach the summit the NC side is new and very smooth and confidence inspiring.  Overall a great riding experience for the sportbike and cruiser/touring motorcyclist alike!,As of 9/26/2020, there are two articles related to Caesar's Head.  One takes you from Brevard (\"Caesar's Ascent\") and the other from Hwy 11 (\"Caesar's Head\").  Going to attempt a cross post in both. \r\n",
      "\r\n",
      "Rode Hwy 276 on 9/19/20 from Cherokee Foothills Scenic Hwy 11 to Brevard, NC.  Video is not excellent, but will give you some ideas of the road quality as of 2020.   https://youtu.be/Pe-zINWqMz4\r\n",
      "\r\n",
      "Picking up from Hwy 11, it's a spirited ride.  The road condition has deteriorated with some spots where the road has been undermined and some signs of pavement sloughing.  (Rated 4 for the excellent curves, but only \"fair\" road condition)\r\n",
      "\r\n",
      "Automobile traffic is courteous.  Plenty of pullouts allow slower traffic to let others pass.  The park at Caesar's Head was closed when i passed.  It was a Saturday and they had reached capacity.  Watch for people parking on the roadside on days like this.\n",
      " ------- \n",
      "\n",
      "\n",
      "        Document: 236  \n",
      "        Dominant topic: 0\n",
      " \n",
      "    \n",
      "I was the rider who nominated the route for publishing.,As of 9/26/2020, there are two articles related to Caesar's Head.  One takes you from Brevard (\"Caesar's Ascent\") and the other from Hwy 11 (\"Caesar's Head\").  Going to attempt a cross post in both. \r\n",
      "\r\n",
      "Rode Hwy 276 on 9/19/20 from Cherokee Foothills Scenic Hwy 11 to Brevard, NC.  Video is not excellent, but will give you some ideas of the road quality as of 2020.   https://youtu.be/Pe-zINWqMz4\r\n",
      "\r\n",
      "Picking up from Hwy 11, it's a spirited ride.  The road condition has deteriorated with some spots where the road has been undermined and some signs of pavement sloughing.  (Rated 4 for the excellent curves, but only \"fair\" road condition)\r\n",
      "\r\n",
      "Automobile traffic is courteous.  Plenty of pullouts allow slower traffic to let others pass.  The park at Caesar's Head was closed when i passed.  It was a Saturday and they had reached capacity.  Watch for people parking on the roadside on days like this.,I did this route almost every week the fall if 2020. Great scenery and fun twisties to take. I need to get on it with a sporty bike and fewer tourists in the way.\n",
      " ------- \n",
      "\n",
      "\n",
      "        Document: 46  \n",
      "        Dominant topic: 0\n",
      " \n",
      "    \n",
      "We started in Grass Valley on a 1000 mile loop trip. Shot up to red bluff and fueled up and then headed out Hwy 36..It was a blast. When we left red bluff it was about 102 degrees. So that was the only downfall - to hot!!! It didn't cool off until about 85 miles in, Not many places to stop and check things out, Just gas it and go. We had a blast and would recomend you check this strech of road out. We camped at grizzly creek campground. Had to ride into fortuna for diner, about 17 miles from the campgrounds.I recomend you eat at the EEL River Brewery, great food and great homemade beer. I would definatley ride this road again , but when it's a bit cooler!! Ride safe, and have fun.,All of the above and more, I remember thinking that for me the entire trip was at about 50 mph and there was not much time to look around because you were constantly lining yourself up with your line through the corner and the Apex .  I don't have a sprt bike but I had a blast anyway...I will do it again...watch for animals,There is now only 1 gas station in Platina and only has regular. Wildwood store burned down in 2012. I've ridden this, the Dragon, Twisted Sisters and more. Hwy 36 is the #1 road in my opinion\n",
      " ------- \n",
      "\n",
      "\n",
      "        Document: 1373  \n",
      "        Dominant topic: 1\n",
      " \n",
      "    \n",
      "The roads are in really good shape! If you find yourself on a gravel road then you took a wrong turn.  Lots of rolling hills and turns!  Grab a beer at the Tibbey Barr or visit the Soggy Bottom Trails Pub if you're confident enough to ride down the 1/2 mile gravel/sand driveway (it's not that bad, lots of sand at the end though.  Definitely worth it).  The train bridge is definitely the highlight of this ride, along with all the overhung trees creating a natural tunnel.,We scouted this route today in the Jeep as we had never done and it had been a few years since the last review and since roads in OK (especially remote ones like this) can sometimes not be very forgiving on a bike!  We will do this ride on the bike but it is worth mentioning that some of the twisties  between Slaughterville and Tribbey have loose gravel on them and are unmarked.  The bridge between Wanette and Byers is the highlight and as some of the previous reviewers mentioned we did stop by Sonny's just south of Purcell to eat lunch and it was very good.,THIS IS A GREAT RIDE!!! Roads are very good for Oklahoma. I definitely suggest to anyone, to take a copy of the map/directions from this site with you. If you don't; no worry's though,the people you'll see along the way,will be glad to point you in the right direction,if needed! Don't pass up on the rest stop at GIGI's in Byars for a rest,snack,cold drink, and to pet the big friendly dog on the front porch! He is very biker friendly! The road to the bridge may have you wondering at first if you have made a wrong turn! and yes you may even think that you are hearing banjo music, and Ned Beatty \"Squealing Like A Pig!\" in the background! Never Fear, This is just good ole undisturbed, country Oklahoma! The scenery on Railroad Bridge Road is Awesome! The Railroad Bridge is Super Cool! I will definitely take myself, and my biker friend on this ride again soon! Oh Yeah, and at the end in Purcell,You've got to stop and eat at Sonny's Cafe, Biker Friendly,Right on the Hi-way,Great Food,Very Friendly Staff! Keep The Rubber Side Down & The Wind In Your Hair!--McClintock\n",
      " ------- \n",
      "\n",
      "\n",
      "        Document: 911  \n",
      "        Dominant topic: 1\n",
      " \n",
      "    \n",
      "This was a great ride. I particularly enjoyed the southern part of the route but there are plenty of great straightaways with a good amount of curves as well across the whole thing. We came from Lake Worth so I mixed in another trail called the Dinosaur Valley Route and hit that both on the way to Waco and back. Rode with my dad (K1600GT) and a friend (Yamaha Warrior 1800cc) and they both had a lot of fun. Stop at Jake's Texas Tea House for a bite to eat in downtown Waco or Common Grounds for a quick coffee. We also enjoyed the Waco National Mammoth Monument (random but really intriguing). For dinner we stopped at Hard Eight BBQ in Stephenville. Made a day out of it starting at 9am and ending around 7:30pm. Would recommend!,Good ride. The back half of the loop from Stephenville to Waco had grooved pavement going around bends and there was a stretch of road that had loose rocks and was quite slippery. Also had to fill up near Lake Whitney for fuel to get back to Waco.\n",
      " ------- \n",
      "\n",
      "\n",
      "        Document: 733  \n",
      "        Dominant topic: 1\n",
      " \n",
      "    \n",
      "I had a chance to do 118 solo last week.  I ran from Alpine through Ft Davis to Rt 166 Scenic loop.  This is a good road! I've done the Tail, the Snake, the million dollar highway 555 and the Dolomites in Italy.  This is a good road. The road from Ft Davis to the McDonald observatory is the highlight.  West of the observatory the road has more  dips and bumps but is a thrill a minute.  The 166 Scenic loop back to Ft Davis is more calm but very scenic.  Be advised there is open range.  That means cattle is possible but quite rare.  This is west Texas so it is an event to get there.  If you are planning Big Bend make time for this loop.  I also endorse the Drug Store in Ft Davis.  The Historic fort itself is enlightening.  Take the tour.,The first time I did this I was 5 on the back of Dad’s Goldwing.  It’s still an awesome run. ,Add Hwy166 to Hwy118 for the Fort Davis Loop. It's around 75 miles that gains and loses about 4200 feet in elevation.  It's mountains and low desert combined with low water river crossings. Watch for cattle, turkeys, bighorn sheep, bobcats, coyotes, and numerous other wild life. Very few cars and plenty of gorgeous rest stops.\n",
      " ------- \n",
      "\n",
      "\n",
      "        Document: 2671  \n",
      "        Dominant topic: 2\n",
      " \n",
      "    \n",
      "Been on some of 821 north of Marietta a couple years ago, rode the stretch from Cambridge to 258 this weekend, nice ride, pavement was great up until about the end of Guernsey County, it was just okay after that.  We based in Cambridge for the weekend, beautiful Courthouse, it was all lit up red, white, and blue at night.  Ate at the Tlaquepaque Mexican restaurant off 209 south of Cambridge back in by Walmart, food was great, frozen margaritas were fantastic!   Have to do the whole ride one of these days.  ,This is a very odd route as it's mapped out here. There's a hell of a lot of slab, a bit of 'Old Twenty One Road' and bits of 821. I've been on 2 of the 3. The slab is...not fun, or scenic. 821 can be amusing, but it's mostly just a North/South road in the area with some sweepers and Old Twenty One Road just...doesn't look special. Perhaps next time cut the route down on the map to just the title of the route, because as this is it's a bit of a mess.,Great part of our ride.  Road offered turns and bends; ups and downs, and got us from point A to point B\r\n",
      "Day 3 Marietta, OH to Parkersburg, WVA\tName => Ohio’s Dragon Tail\t ~ 266 Miles\r\n",
      "Marietta OH to McConnelsville OH -> \t\tWayne National Forest Run\t\t#27 in Ohio\r\n",
      "McConnelsville OH to Glouster OH ->\t\tOhio’s Dragon Tail\t\t\t#4 in Ohio\r\n",
      "Glouster OH to Chester Hill Oh ->\t\tRidgetop Fun on Rt. 377\t\t\t#58 in Ohio\r\n",
      "Chester Hill OH to Brush Creek OH ->\t\tThe Triple Nickel Rt. 555\t\t#1 in Ohio\r\n",
      "Brush Creek OH to Beverly OH ->\t\tRiver Run Rt. 60\t\t\t\t#27 in Ohio\r\n",
      "Beverly OH to Dexter City OH ->\t\t\tOhio Rt. 339\t\t\t\t#76 in Ohio\r\n",
      "Stop in McConnelsville for homemade sweets at MoCo’s Dip-n-Sip\r\n",
      "Dexter City OH to Lower Salem OH ->\t\tOld US 21\t\t\t\t#68 in Ohio\r\n",
      "Lower Salem OH to Clarington OH ->\t\tThe Roller Coaster Rt. 145\t\t#56 in Ohio\r\n",
      "Clarington OH to Altitude OH ->\t\t\tSykes Ridge Road County Rd 4\t\t#58 in Ohio\r\n",
      "Altitude OH to Hannibal OH ->\t\t\tcousin of “The Tail of The Dragon”\t#2 in Ohio\r\n",
      "\n",
      " ------- \n",
      "\n",
      "\n",
      "        Document: 202  \n",
      "        Dominant topic: 2\n",
      " \n",
      "    \n",
      "As stated in my summary, this road isn't some slick shit killer like 536 or the freshly paved, as of July 2020, 255. It's more of an alternative to 78 E or W. I recommend coming up 536 North and then sliding onto Sykes, if you want to go East. By then you're already at the end of 536, pretty much.\r\n",
      "\r\n",
      "Pavement as of July 2020 is a 3 to 4 out of 5. There's one sudden dip in the road you can here me call out in the video. There's also 2 decent size potholes that may or may not be there when you ride this road. (I imagine they'll fill the things at some point. Those pot holes are much closer to the Ohio river side, and significant enough that you should be able to spot them well before you hit them, which is good, because God help you if you do hit them.)\r\n",
      "\r\n",
      "Overall 3.5/5,I like the ride on OH-78 from 536 to 7, so we made a little loop.  Came off 556 from Beallsville, turned south onto 7, pass the BP at OH-78 & 7 intersection, like Akumu said... after crossing bridge over Sunfish Creek, hang a right onto Sykes Ridge Rd, it's marked. (It's only about 3/4 of mile south of OH-556).  We ran Sykes Ridge out to 536, went up to 78 East and back to Clarington (OH-7), 18 mile 30 minute loop,  Sykes Ridge is a nice cruiser with a few views over the ridge.  Road isn't in great shape, but it's easily doable, especially if your just cruising along.  Hardly any traffic, encountered a car or two, was just a nice laid back ride, would do it again. ,nice road conditions and just enough turns and hills to make this an easy morning ride;\r\n",
      "Day 3 Marietta, OH to Parkersburg, WVA\tName => Ohio’s Dragon Tail\t ~ 266 Miles\r\n",
      "Marietta OH to McConnelsville OH -> \t\tWayne National Forest Run\t\t#27 in Ohio\r\n",
      "McConnelsville OH to Glouster OH ->\t\tOhio’s Dragon Tail\t\t\t#4 in Ohio\r\n",
      "Glouster OH to Chester Hill Oh ->\t\tRidgetop Fun on Rt. 377\t\t\t#58 in Ohio\r\n",
      "Chester Hill OH to Brush Creek OH ->\t\tThe Triple Nickel Rt. 555\t\t#1 in Ohio\r\n",
      "Brush Creek OH to Beverly OH ->\t\tRiver Run Rt. 60\t\t\t\t#27 in Ohio\r\n",
      "Beverly OH to Dexter City OH ->\t\t\tOhio Rt. 339\t\t\t\t#76 in Ohio\r\n",
      "Stop in McConnelsville for homemade sweets at MoCo’s Dip-n-Sip\r\n",
      "Dexter City OH to Lower Salem OH ->\t\tOld US 21\t\t\t\t#68 in Ohio\r\n",
      "Lower Salem OH to Clarington OH ->\t\tThe Roller Coaster Rt. 145\t\t#56 in Ohio\r\n",
      "Clarington OH to Altitude OH ->\t\t\tSykes Ridge Road County Rd 4\t\t#58 in Ohio\r\n",
      "Altitude OH to Hannibal OH ->\t\t\tcousin of “The Tail of The Dragon”\t#2 in Ohio\r\n",
      "\n",
      " ------- \n",
      "\n",
      "\n",
      "        Document: 272  \n",
      "        Dominant topic: 2\n",
      " \n",
      "    \n",
      "Fun road, as is so many of the roads in this area.  Rolling hillls, farmland, hardly any traffic.  Passes thru a couple small villages. Still have not ate at Triple Nickel Diner... maybe this year.  Pavement was good last time we  were on it which was Sep/2019.,*Activate Ohio Road Ranger Mode*\r\n",
      "ROAD CONDITION as of 01/21 - Road is in average, give or take, condition as of 01/21.\r\n",
      "\r\n",
      "This is, indeed, a fun road. Lots of ups and down, lots of back and forth. It parallels 555, so there's some more fun in the neighborhood. Mind the rutted roads in Chesterhill, as of 01/21. Other than that, it's a good, solid haul.\r\n",
      "\r\n",
      "Be sure to check out the video of it that I have up, and there's plenty more where that came from on my YouTube channel.\r\n",
      "\r\n",
      ",Very nice ride; part of our excursion through eastern OH; good connection to other routes and really light traffic on roads in excellent condition (2021)\r\n",
      "Day 3 Marietta, OH to Parkersburg, WVA\tName => Ohio’s Dragon Tail\t ~ 266 Miles\r\n",
      "Marietta OH to McConnelsville OH -> \t\tWayne National Forest Run\t\t#27 in Ohio\r\n",
      "McConnelsville OH to Glouster OH ->\t\tOhio’s Dragon Tail\t\t\t#4 in Ohio\r\n",
      "Glouster OH to Chester Hill Oh ->\t\tRidgetop Fun on Rt. 377\t\t\t#58 in Ohio\r\n",
      "Chester Hill OH to Brush Creek OH ->\t\tThe Triple Nickel Rt. 555\t\t#1 in Ohio\r\n",
      "Brush Creek OH to Beverly OH ->\t\tRiver Run Rt. 60\t\t\t\t#27 in Ohio\r\n",
      "Beverly OH to Dexter City OH ->\t\t\tOhio Rt. 339\t\t\t\t#76 in Ohio\r\n",
      "Stop in McConnelsville for homemade sweets at MoCo’s Dip-n-Sip\r\n",
      "Dexter City OH to Lower Salem OH ->\t\tOld US 21\t\t\t\t#68 in Ohio\r\n",
      "Lower Salem OH to Clarington OH ->\t\tThe Roller Coaster Rt. 145\t\t#56 in Ohio\r\n",
      "Clarington OH to Altitude OH ->\t\t\tSykes Ridge Road County Rd 4\t\t#58 in Ohio\r\n",
      "Altitude OH to Hannibal OH ->\t\t\tcousin of “The Tail of The Dragon”\t#2 in Ohio\r\n",
      "\n",
      " ------- \n",
      "\n"
     ]
    }
   ],
   "source": [
    "representatives = pd.DataFrame()\n",
    "\n",
    "for k in grouped_topics.groups.keys():\n",
    "    representatives = pd.concat([ representatives, \n",
    "                                 grouped_topics.get_group(k).sort_values(['Percent'], ascending=False).head(3)])\n",
    "# representatives\n",
    "for i in range(len(representatives)):\n",
    "    print(f'''\n",
    "        Document: {representatives.index[i]}  \n",
    "        Dominant topic: {representatives.loc[representatives.index[i]]['Dominant_topic']}\\n \n",
    "    ''')\n",
    "    print(texts[representatives.index[i]] + '\\n ------- \\n')"
   ]
  },
  {
   "cell_type": "markdown",
   "id": "34fff11e",
   "metadata": {},
   "source": [
    "## Length of documents in each topic"
   ]
  },
  {
   "cell_type": "code",
   "execution_count": 41,
   "id": "5a654f6c",
   "metadata": {},
   "outputs": [],
   "source": [
    "def word_count_by_topic(topic=0):\n",
    "    d_lens = [len(d) for d in grouped_topics.get_group(topic)['Processed_text']]\n",
    "    plt.hist(d_lens, bins=50)\n",
    "    large = plt.gca().get_ylim()[1]\n",
    "    d_mean = round(np.mean(d_lens), 1)\n",
    "    d_median = np.median(d_lens)\n",
    "    plt.plot([d_mean, d_mean], [0,large], label='Mean = {}'.format(d_mean))\n",
    "    plt.plot([d_median, d_median], [0,large], label='Median = {}'.format(d_median))\n",
    "    plt.legend()\n",
    "    plt.gca().set(xlabel='Document word count', ylabel='Number of documents', xlim=(0, 450), \n",
    "            title='Distribution of Comment Lengths for {} Comments in Topic {}'.format(len(d_lens), topic));"
   ]
  },
  {
   "cell_type": "code",
   "execution_count": 42,
   "id": "80024ab6",
   "metadata": {
    "scrolled": true
   },
   "outputs": [
    {
     "data": {
      "application/vnd.jupyter.widget-view+json": {
       "model_id": "2a7242b58dcb4e0fb23aa9d3b6cb9512",
       "version_major": 2,
       "version_minor": 0
      },
      "text/plain": [
       "interactive(children=(IntSlider(value=0, description='Topic', max=2), Output()), _dom_classes=('widget-interac…"
      ]
     },
     "metadata": {},
     "output_type": "display_data"
    }
   ],
   "source": [
    "slider = IntSlider(min=0, max=num_topics-1, step=1, value=0, description='Topic')\n",
    "interact(word_count_by_topic, topic=slider);"
   ]
  },
  {
   "cell_type": "markdown",
   "id": "5f03b247",
   "metadata": {},
   "source": [
    "## Top word distribution per topic"
   ]
  },
  {
   "cell_type": "code",
   "execution_count": 43,
   "id": "702e6cff",
   "metadata": {
    "scrolled": true,
    "slideshow": null
   },
   "outputs": [
    {
     "data": {
      "text/plain": [
       "<AxesSubplot:title={'center':'Top Word Frequencies in 4236 MR.com Comments'}, ylabel='Word frequency'>"
      ]
     },
     "execution_count": 43,
     "metadata": {},
     "output_type": "execute_result"
    },
    {
     "data": {
      "image/png": "[encoded data removed]",
      "text/plain": [
       "<Figure size 1080x360 with 1 Axes>"
      ]
     },
     "metadata": {},
     "output_type": "display_data"
    }
   ],
   "source": [
    "lda_top_words_index = set()\n",
    "for i in range(lda_model.num_topics):\n",
    "    lda_top_words_index = lda_top_words_index.union([k for (k,v) in lda_model.get_topic_terms(i)])\n",
    "\n",
    "#print('Indices of top words: \\n{}\\n'.format(lda_top_words_index))\n",
    "words_we_care_about = [{dictionary[tup[0]]: tup[1] for tup in lst if tup[0] in lda_top_words_index} \n",
    "                       for lst in corpus]\n",
    "lda_top_words_df = pd.DataFrame(words_we_care_about).fillna(0).astype(int).sort_index(axis=1)\n",
    "lda_top_words_df['Cluster'] = main_topic_df['Dominant_topic']\n",
    "(\n",
    "    lda_top_words_df\n",
    "    .groupby('Cluster').sum().transpose()\n",
    "    .plot.bar(figsize=(15, 5), width=0.7,\n",
    "              ylabel='Word frequency',\n",
    "              legend=False,\n",
    "              title=f'Top Word Frequencies in {len(texts)} MR.com Comments',\n",
    "              rot=0\n",
    "             )\n",
    ")\n",
    "# .set(ylabel='Word frequency', \n",
    "#          title=f'Word Frequencies by Topic, Combining the Top {len(lda_top_words_index)} Words in Each Topic')"
   ]
  },
  {
   "cell_type": "markdown",
   "id": "d3935df9",
   "metadata": {
    "slideshow": null
   },
   "source": [
    "## Coherence scores based on number of topics"
   ]
  },
  {
   "cell_type": "code",
   "execution_count": 32,
   "id": "e3458f44",
   "metadata": {
    "slideshow": null
   },
   "outputs": [],
   "source": [
    "coherence_scores = []\n",
    "\n",
    "for n in range(1, 5):\n",
    "    mod = gensim.models.ldamodel.LdaModel(corpus=corpus, \n",
    "                                          id2word=dictionary,\n",
    "                                          num_topics=n, \n",
    "                                          random_state=117, update_every=1,\n",
    "                                          chunksize=1500, \n",
    "                                          passes=5, iterations=10,\n",
    "                                          alpha='asymmetric', eta=1/100,\n",
    "                                          per_word_topics=True)\n",
    "    cmodel = gensim.models.coherencemodel.CoherenceModel(model=mod,\n",
    "                                                 texts=processed_text,\n",
    "                                                 dictionary=dictionary)\n",
    "    coherence_scores.append((n, cmodel.get_coherence()))\n",
    "\n",
    "topic_range = [coherence_scores[i][0] for i in range(len(coherence_scores))]\n",
    "cscore = [coherence_scores[i][1] for i in range(len(coherence_scores))]"
   ]
  },
  {
   "cell_type": "code",
   "execution_count": 33,
   "id": "c6f1ed88",
   "metadata": {
    "scrolled": true
   },
   "outputs": [
    {
     "name": "stdout",
     "output_type": "stream",
     "text": [
      "Coherence scores for the ngram range: (2, 4) \n",
      " [(1, 0.21388447564185165), (2, 0.38032784157360167), (3, 0.4321074886161722), (4, 0.4048274982653719)]\n"
     ]
    },
    {
     "data": {
      "text/plain": [
       "[<matplotlib.lines.Line2D at 0x7fcd72189df0>]"
      ]
     },
     "execution_count": 33,
     "metadata": {},
     "output_type": "execute_result"
    },
    {
     "data": {
      "image/png": "[encoded data removed]",
      "text/plain": [
       "<Figure size 576x396 with 1 Axes>"
      ]
     },
     "metadata": {},
     "output_type": "display_data"
    }
   ],
   "source": [
    "print(f'Coherence scores for the ngram range: {ngram_range} \\n {coherence_scores}')\n",
    "plt.plot(topic_range,cscore)"
   ]
  },
  {
   "cell_type": "markdown",
   "id": "fe9de304",
   "metadata": {
    "slideshow": null
   },
   "source": [
    "# Conclusions\n",
    "\n",
    "- There seem to be 3-4 groups of users making comments on this website.\n",
    "- IF 3:\n",
    "    0. The 'core' group of users make most of the comments.\n",
    "    1. The second group are those who are not as frequent commenters, but when they do post, they usually share videos/links to other sites.\n",
    "    2. The last group do not frequently comment or share videos/links.\n",
    "- IF 4:\n",
    "    0. The 'core' group of users make most of the comments.\n",
    "    1. Post like core group, but less overall. Maybe newer members/budding 'core' group?\n",
    "    2. People riding the tail of the dragon.\n",
    "    3. Other infrequent posters."
   ]
  },
  {
   "cell_type": "code",
   "execution_count": null,
   "id": "dee2b69f",
   "metadata": {},
   "outputs": [],
   "source": []
  }
 ],
 "metadata": {
  "kernelspec": {
   "display_name": "venv",
   "language": "python",
   "name": "venv"
  },
  "language_info": {
   "codemirror_mode": {
    "name": "ipython",
    "version": 3
   },
   "file_extension": ".py",
   "mimetype": "text/x-python",
   "name": "python",
   "nbconvert_exporter": "python",
   "pygments_lexer": "ipython3",
   "version": "3.9.6"
  },
  "varInspector": {
   "cols": {
    "lenName": 16,
    "lenType": 16,
    "lenVar": 40
   },
   "kernels_config": {
    "python": {
     "delete_cmd_postfix": "",
     "delete_cmd_prefix": "del ",
     "library": "var_list.py",
     "varRefreshCmd": "print(var_dic_list())"
    },
    "r": {
     "delete_cmd_postfix": ") ",
     "delete_cmd_prefix": "rm(",
     "library": "var_list.r",
     "varRefreshCmd": "cat(var_dic_list()) "
    }
   },
   "types_to_exclude": [
    "module",
    "function",
    "builtin_function_or_method",
    "instance",
    "_Feature"
   ],
   "window_display": false
  }
 },
 "nbformat": 4,
 "nbformat_minor": 5
}
