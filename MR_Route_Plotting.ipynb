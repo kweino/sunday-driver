{
 "cells": [
  {
   "cell_type": "code",
   "execution_count": null,
   "id": "a485603c",
   "metadata": {},
   "outputs": [],
   "source": [
    "import plotly.express as px\n",
    "import geopandas as gpd\n",
    "import shapely.geometry\n",
    "import pandas as pd\n",
    "import numpy as np\n",
    "import gzip\n",
    "import dill\n",
    "\n",
    "def get_data(data_path):\n",
    "    \"\"\"Return loaded data from disk.\"\"\"\n",
    "    with gzip.open(data_path, 'rb') as f:\n",
    "        return dill.load(f)"
   ]
  },
  {
   "cell_type": "code",
   "execution_count": null,
   "id": "437994fe",
   "metadata": {},
   "outputs": [],
   "source": [
    "geo_df = get_data('data/route_gdf.pkl')"
   ]
  },
  {
   "cell_type": "code",
   "execution_count": null,
   "id": "a0446324",
   "metadata": {},
   "outputs": [],
   "source": [
    "lats = []\n",
    "lons = []\n",
    "names = []\n",
    "states = []\n",
    "\n",
    "for feature, name, state in zip(geo_df.geometry, geo_df.route_name, geo_df.state):\n",
    "    if isinstance(feature, shapely.geometry.linestring.LineString):\n",
    "        linestrings = [feature]\n",
    "    elif isinstance(feature, shapely.geometry.multilinestring.MultiLineString):\n",
    "        linestrings = feature.geoms\n",
    "    else:\n",
    "        continue\n",
    "    for linestring in linestrings:\n",
    "        x, y = linestring.xy\n",
    "        lats = np.append(lats, y)\n",
    "        lons = np.append(lons, x)\n",
    "        names = np.append(names, [name]*len(y))\n",
    "        states = np.append(states, [state]*len(y))\n",
    "        lats = np.append(lats, None)\n",
    "        lons = np.append(lons, None)\n",
    "        names = np.append(names, None)\n",
    "        states = np.append(states, None)\n",
    "\n",
    "fig = px.line_mapbox(lat=lats, lon=lons, hover_name=names,\n",
    "                     mapbox_style=\"open-street-map\", zoom=4)\n",
    "fig.show()"
   ]
  },
  {
   "cell_type": "code",
   "execution_count": null,
   "id": "b6e24917",
   "metadata": {},
   "outputs": [],
   "source": [
    "route_marks_df = pd.DataFrame.from_dict({\n",
    "    'lat': lats,\n",
    "    'lon': lons,\n",
    "    'name': names,\n",
    "    'state': states\n",
    "})"
   ]
  },
  {
   "cell_type": "code",
   "execution_count": null,
   "id": "47c8ee99",
   "metadata": {},
   "outputs": [],
   "source": [
    "# with gzip.open('data/route_marks_df.pkl', 'wb') as f:\n",
    "#         dill.dump(route_marks_df, f)"
   ]
  },
  {
   "cell_type": "code",
   "execution_count": null,
   "id": "0aa7000f",
   "metadata": {},
   "outputs": [],
   "source": [
    "route_marks_df[route_marks_df.state == 'California'].reset_index(drop=True)"
   ]
  },
  {
   "cell_type": "code",
   "execution_count": null,
   "id": "3b99f5c0",
   "metadata": {},
   "outputs": [],
   "source": [
    "plot_df = route_marks_df[route_marks_df.state == 'California'].reset_index(drop=True)\n",
    "fig = px.line_mapbox(plot_df, lat='lat', lon='lon', hover_name='name',\n",
    "                     mapbox_style=\"open-street-map\", zoom=4)\n",
    "fig.show()"
   ]
  },
  {
   "cell_type": "code",
   "execution_count": null,
   "id": "e66b0d89",
   "metadata": {},
   "outputs": [],
   "source": [
    "plot_df"
   ]
  },
  {
   "cell_type": "code",
   "execution_count": null,
   "id": "18c1b3f5",
   "metadata": {},
   "outputs": [],
   "source": []
  }
 ],
 "metadata": {
  "kernelspec": {
   "display_name": "venv",
   "language": "python",
   "name": "venv"
  },
  "language_info": {
   "codemirror_mode": {
    "name": "ipython",
    "version": 3
   },
   "file_extension": ".py",
   "mimetype": "text/x-python",
   "name": "python",
   "nbconvert_exporter": "python",
   "pygments_lexer": "ipython3",
   "version": "3.9.6"
  },
  "varInspector": {
   "cols": {
    "lenName": 16,
    "lenType": 16,
    "lenVar": 40
   },
   "kernels_config": {
    "python": {
     "delete_cmd_postfix": "",
     "delete_cmd_prefix": "del ",
     "library": "var_list.py",
     "varRefreshCmd": "print(var_dic_list())"
    },
    "r": {
     "delete_cmd_postfix": ") ",
     "delete_cmd_prefix": "rm(",
     "library": "var_list.r",
     "varRefreshCmd": "cat(var_dic_list()) "
    }
   },
   "types_to_exclude": [
    "module",
    "function",
    "builtin_function_or_method",
    "instance",
    "_Feature"
   ],
   "window_display": false
  }
 },
 "nbformat": 4,
 "nbformat_minor": 5
}
