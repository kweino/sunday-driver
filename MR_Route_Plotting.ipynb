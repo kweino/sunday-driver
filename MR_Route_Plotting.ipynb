{
 "cells": [
  {
   "cell_type": "code",
   "execution_count": null,
   "id": "cf7cb3dc",
   "metadata": {},
   "outputs": [],
   "source": [
    "import plotly.express as px\n",
    "import plotly.graph_objects as go\n",
    "import geopandas as gpd\n",
    "import shapely.geometry\n",
    "import pandas as pd\n",
    "import numpy as np\n",
    "import gzip\n",
    "import dill\n",
    "\n",
    "def get_data(data_path):\n",
    "    \"\"\"Return loaded data from disk.\"\"\"\n",
    "    with gzip.open(data_path, 'rb') as f:\n",
    "        return dill.load(f)\n",
    "\n",
    "def write_data(data, data_path):\n",
    "    '''Write data to disk'''\n",
    "    with gzip.open(data_path, 'wb') as f:\n",
    "        dill.dump(data, f)"
   ]
  },
  {
   "cell_type": "code",
   "execution_count": null,
   "id": "6f690a92",
   "metadata": {},
   "outputs": [],
   "source": [
    "geo_df = get_data('data/route_gdf.pkl')\n",
    "geo_df.info()"
   ]
  },
  {
   "cell_type": "code",
   "execution_count": null,
   "id": "238bf830",
   "metadata": {},
   "outputs": [],
   "source": [
    "lats = []\n",
    "lons = []\n",
    "names = []\n",
    "states = []\n",
    "ratings = []\n",
    "\n",
    "for feature, name, state, rating in zip(geo_df.geometry, geo_df.route_name, geo_df.state, geo_df.user_rating):\n",
    "    if isinstance(feature, shapely.geometry.linestring.LineString):\n",
    "        linestrings = [feature]\n",
    "    elif isinstance(feature, shapely.geometry.multilinestring.MultiLineString):\n",
    "        linestrings = feature.geoms\n",
    "    else:\n",
    "        continue\n",
    "    for linestring in linestrings:\n",
    "        x, y = linestring.xy\n",
    "        lats = np.append(lats, y)\n",
    "        lons = np.append(lons, x)\n",
    "        names = np.append(names, [name]*len(y))\n",
    "        states = np.append(states, [state]*len(y))\n",
    "        ratings = np.append(ratings, [np.round(rating,0)]*len(y))\n",
    "        lats = np.append(lats, None)\n",
    "        lons = np.append(lons, None)\n",
    "        names = np.append(names, None)\n",
    "        states = np.append(states, None)\n",
    "        ratings = np.append(ratings, 0)\n"
   ]
  },
  {
   "cell_type": "code",
   "execution_count": null,
   "id": "301f6ca8",
   "metadata": {},
   "outputs": [],
   "source": []
  },
  {
   "cell_type": "code",
   "execution_count": null,
   "id": "597fe683",
   "metadata": {},
   "outputs": [],
   "source": [
    "route_marks_long = (\n",
    "    pd.DataFrame.from_dict({\n",
    "        'lat': lats,\n",
    "        'lon': lons,\n",
    "        'name': names,\n",
    "        'state': states,\n",
    "        'rating': pd.Series(ratings, dtype=np.dtype(\"int32\"))\n",
    "    })\n",
    ")\n",
    "\n",
    "# pd.to_numeric(route_marks_long.rating, downcast=\"integer\")\n",
    "# print(route_marks_long.rating.unique())"
   ]
  },
  {
   "cell_type": "code",
   "execution_count": null,
   "id": "c1833e7b",
   "metadata": {},
   "outputs": [],
   "source": [
    "write_data(route_marks_long,'data/route_marks_long.pkl')\n",
    "route_marks_df = get_data('data/route_marks_long.pkl')"
   ]
  },
  {
   "cell_type": "code",
   "execution_count": null,
   "id": "39e305cc",
   "metadata": {},
   "outputs": [],
   "source": [
    "valid_states = ['Alabama', 'California', 'Georgia', 'Missouri', 'Illinois', 'Ohio',\n",
    "       'Kentucky', 'Colorado', 'United States', 'Indiana', 'New York',\n",
    "       'Vermont', 'Texas', 'Florida', 'Minnesota', 'Virginia',\n",
    "       'Oklahoma', 'Arkansas', 'Maryland', 'West Virginia',\n",
    "       'Michigan', 'North Carolina', 'Oregon', 'Pennsylvania',\n",
    "       'Washington', 'New Jersey', 'Alaska',\n",
    "       'South Carolina', 'Utah', 'New Hampshire', 'Iowa', 'Louisiana',\n",
    "       'Mississippi', 'Wisconsin',\n",
    "       'South Dakota', 'Wyoming', 'Massachusetts', 'New Mexico',\n",
    "       'Montana', 'Idaho', 'Nevada', 'Arizona',\n",
    "       'Kansas', 'Northeast', 'Southwest', 'Golf Coast', 'Southeast',\n",
    "       'Tennessee', 'Nebraska', 'Delaware', 'Pacific Coast',\n",
    "       'Appalachian Mountains', 'Maine', 'Rhode Island', 'Connecticut',\n",
    "       'North Dakota', 'Hawaii']\n",
    "us_df = geo_df.query(f'state in {valid_states}').reset_index(drop=True)"
   ]
  },
  {
   "cell_type": "code",
   "execution_count": null,
   "id": "290e95d0",
   "metadata": {},
   "outputs": [],
   "source": [
    "us_df.drop('rep_point',axis=1)"
   ]
  },
  {
   "cell_type": "code",
   "execution_count": null,
   "id": "ab93a088",
   "metadata": {},
   "outputs": [],
   "source": [
    "def make_route_map(geo_df):\n",
    "    scl = px.colors.sequential.Viridis_r\n",
    "    n_colors = len(scl)\n",
    "\n",
    "    fig = go.Figure()\n",
    "\n",
    "    for row in geo_df.index:\n",
    "        fig.add_trace(go.Scattergeo(\n",
    "            lon = pd.Series(geo_df.iloc[row].geometry.coords.xy[0]),\n",
    "            lat = pd.Series(geo_df.iloc[row].geometry.coords.xy[1]),\n",
    "            mode = 'lines',\n",
    "            line = dict(width = .5, color=scl[round(geo_df.iloc[row].user_rating*2)-1])\n",
    "            ))\n",
    "\n",
    "    fig.update_geos(\n",
    "        visible=True, resolution=110, scope=\"usa\",\n",
    "        showcountries=False, #countrycolor=\"Black\",\n",
    "        showsubunits=True, #subunitcolor=\"Gray\"\n",
    "    )\n",
    "    fig.update_layout(\n",
    "        showlegend = False\n",
    "    )\n",
    "    fig.show()\n",
    "    \n",
    "make_route_map(us_df)"
   ]
  },
  {
   "cell_type": "code",
   "execution_count": null,
   "id": "4e7aadfa",
   "metadata": {},
   "outputs": [],
   "source": []
  },
  {
   "cell_type": "code",
   "execution_count": null,
   "id": "dd36eb37",
   "metadata": {},
   "outputs": [],
   "source": [
    "# fig = px.line_geo(lat=lats, lon=lons)\n",
    "# fig.update_geos(\n",
    "#     visible=False, resolution=110, scope=\"usa\",\n",
    "#     showcountries=True, countrycolor=\"Black\",\n",
    "#     showsubunits=True, subunitcolor=\"Gray\"\n",
    "# )\n",
    "# fig.update_layout(height=300, margin={\"r\":0,\"t\":0,\"l\":0,\"b\":0})\n",
    "# fig.show()"
   ]
  },
  {
   "cell_type": "code",
   "execution_count": null,
   "id": "778366d2",
   "metadata": {},
   "outputs": [],
   "source": [
    "fig = px.line_mapbox(route_marks_long, \n",
    "                     lat='lat', lon='lon', \n",
    "                     hover_name='name', \n",
    "                     color='rating',\n",
    "                     mapbox_style=\"open-street-map\", zoom=2)\n",
    "fig.show()"
   ]
  }
 ],
 "metadata": {
  "kernelspec": {
   "display_name": "venv",
   "language": "python",
   "name": "venv"
  },
  "language_info": {
   "codemirror_mode": {
    "name": "ipython",
    "version": 3
   },
   "file_extension": ".py",
   "mimetype": "text/x-python",
   "name": "python",
   "nbconvert_exporter": "python",
   "pygments_lexer": "ipython3",
   "version": "3.9.6"
  },
  "varInspector": {
   "cols": {
    "lenName": 16,
    "lenType": 16,
    "lenVar": 40
   },
   "kernels_config": {
    "python": {
     "delete_cmd_postfix": "",
     "delete_cmd_prefix": "del ",
     "library": "var_list.py",
     "varRefreshCmd": "print(var_dic_list())"
    },
    "r": {
     "delete_cmd_postfix": ") ",
     "delete_cmd_prefix": "rm(",
     "library": "var_list.r",
     "varRefreshCmd": "cat(var_dic_list()) "
    }
   },
   "types_to_exclude": [
    "module",
    "function",
    "builtin_function_or_method",
    "instance",
    "_Feature"
   ],
   "window_display": false
  }
 },
 "nbformat": 4,
 "nbformat_minor": 5
}
